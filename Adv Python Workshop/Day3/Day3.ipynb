{
 "cells": [
  {
   "cell_type": "markdown",
   "id": "797ed71e",
   "metadata": {},
   "source": [
    "### Day3\n",
    "- Loops\n",
    "- Functions\n",
    "- Strings\n",
    "- Data Structures"
   ]
  },
  {
   "cell_type": "markdown",
   "id": "45c36f31",
   "metadata": {},
   "source": [
    "#### Loops\n",
    "- for iterator in iterable\n",
    "- range()"
   ]
  },
  {
   "cell_type": "code",
   "execution_count": 4,
   "id": "55e99633",
   "metadata": {
    "collapsed": true
   },
   "outputs": [
    {
     "name": "stdout",
     "output_type": "stream",
     "text": [
      "I am from sagar\n",
      "length of string= 5\n"
     ]
    }
   ],
   "source": [
    "# read a string from user and find the length of it\n",
    "# LBR Engineering College #i/p\n",
    "# o/p:\n",
    "clg=input(\"I am from \")\n",
    "cnt=0 #\n",
    "for ch in clg:\n",
    "    #print(ch,end=\" \")\n",
    "    cnt+=1\n",
    "print('length of string=',cnt)\n"
   ]
  },
  {
   "cell_type": "code",
   "execution_count": 2,
   "id": "479d4aa9",
   "metadata": {},
   "outputs": [
    {
     "data": {
      "text/plain": [
       "23"
      ]
     },
     "execution_count": 2,
     "metadata": {},
     "output_type": "execute_result"
    }
   ],
   "source": [
    "len(clg)"
   ]
  },
  {
   "cell_type": "code",
   "execution_count": 5,
   "id": "8ac22401",
   "metadata": {
    "collapsed": true
   },
   "outputs": [
    {
     "ename": "SyntaxError",
     "evalue": "invalid syntax (579416068.py, line 1)",
     "output_type": "error",
     "traceback": [
      "\u001b[1;36m  Input \u001b[1;32mIn [5]\u001b[1;36m\u001b[0m\n\u001b[1;33m    LBR Engineering College\u001b[0m\n\u001b[1;37m        ^\u001b[0m\n\u001b[1;31mSyntaxError\u001b[0m\u001b[1;31m:\u001b[0m invalid syntax\n"
     ]
    }
   ],
   "source": [
    "LBR Engineering College"
   ]
  },
  {
   "cell_type": "code",
   "execution_count": 6,
   "id": "6952fd5d",
   "metadata": {},
   "outputs": [],
   "source": [
    "# print \n",
    "# i/p:LBR Engineering College\n",
    "#o/p:L***********************e"
   ]
  },
  {
   "cell_type": "code",
   "execution_count": 11,
   "id": "af7842f2",
   "metadata": {},
   "outputs": [],
   "source": [
    "n=len(clg)"
   ]
  },
  {
   "cell_type": "code",
   "execution_count": 12,
   "id": "af0c57df",
   "metadata": {},
   "outputs": [
    {
     "data": {
      "text/plain": [
       "'s'"
      ]
     },
     "execution_count": 12,
     "metadata": {},
     "output_type": "execute_result"
    }
   ],
   "source": [
    "clg[0]"
   ]
  },
  {
   "cell_type": "code",
   "execution_count": 16,
   "id": "4c171569",
   "metadata": {},
   "outputs": [
    {
     "data": {
      "text/plain": [
       "'r'"
      ]
     },
     "execution_count": 16,
     "metadata": {},
     "output_type": "execute_result"
    }
   ],
   "source": [
    "clg[-1]"
   ]
  },
  {
   "cell_type": "code",
   "execution_count": 27,
   "id": "59042ace",
   "metadata": {},
   "outputs": [
    {
     "name": "stdout",
     "output_type": "stream",
     "text": [
      "I am from LBR Engineering College\n",
      "L*********************e"
     ]
    }
   ],
   "source": [
    "clg=input(\"I am from \")\n",
    "n=len(clg)\n",
    "for ix in range(n):\n",
    "    if ix==0 or ix==n-1:\n",
    "        print(clg[ix],end=\"\")\n",
    "    else:\n",
    "        print(\"*\",end=\"\")"
   ]
  },
  {
   "cell_type": "markdown",
   "id": "9151db01",
   "metadata": {},
   "source": [
    "#### while\n",
    "- a condition based loop\n",
    "- user incrementation\n",
    "- iterator should initialize before starting loop\n",
    "- it will go for infinite no.of times until you stop\n",
    "- *syntax*\n",
    "    - while condition:\n",
    "        - statements"
   ]
  },
  {
   "cell_type": "code",
   "execution_count": 28,
   "id": "68554c56",
   "metadata": {},
   "outputs": [],
   "source": [
    "# print the multiplication table of a number"
   ]
  },
  {
   "cell_type": "code",
   "execution_count": 29,
   "id": "26fd3174",
   "metadata": {
    "collapsed": true
   },
   "outputs": [
    {
     "name": "stdout",
     "output_type": "stream",
     "text": [
      "enter the number:9\n",
      "9 x 1 = 9\n",
      "9 x 2 = 18\n",
      "9 x 3 = 27\n",
      "9 x 4 = 36\n",
      "9 x 5 = 45\n",
      "9 x 6 = 54\n",
      "9 x 7 = 63\n",
      "9 x 8 = 72\n",
      "9 x 9 = 81\n",
      "9 x 10 = 90\n"
     ]
    }
   ],
   "source": [
    "val=int(input(\"enter the number:\"))\n",
    "for dig in range(1,11):\n",
    "    print(val,'x',dig,\"=\",val*dig)"
   ]
  },
  {
   "cell_type": "code",
   "execution_count": 30,
   "id": "129d46c0",
   "metadata": {},
   "outputs": [
    {
     "name": "stdout",
     "output_type": "stream",
     "text": [
      "1 2 3 4 5 6 7 8 9 10 "
     ]
    }
   ],
   "source": [
    "# using while loop\n",
    "num=1\n",
    "while num<=10:\n",
    "    print(num,end=\" \")\n",
    "    num+=1"
   ]
  },
  {
   "cell_type": "code",
   "execution_count": 31,
   "id": "1e117872",
   "metadata": {
    "collapsed": true
   },
   "outputs": [
    {
     "name": "stdout",
     "output_type": "stream",
     "text": [
      "8\n",
      "8 x 1 = 8\n",
      "8 x 2 = 16\n",
      "8 x 3 = 24\n",
      "8 x 4 = 32\n",
      "8 x 5 = 40\n",
      "8 x 6 = 48\n",
      "8 x 7 = 56\n",
      "8 x 8 = 64\n",
      "8 x 9 = 72\n",
      "8 x 10 = 80\n"
     ]
    }
   ],
   "source": [
    "#  nth multiplication table\n",
    "n=int(input())\n",
    "it=1\n",
    "while it<=10:\n",
    "    print(n,\"x\",it,'=',n*it)\n",
    "    it+=1"
   ]
  },
  {
   "cell_type": "code",
   "execution_count": 32,
   "id": "b7d573a8",
   "metadata": {},
   "outputs": [
    {
     "name": "stdout",
     "output_type": "stream",
     "text": [
      "897653\n",
      "no.of digits= 6\n"
     ]
    }
   ],
   "source": [
    "# find the digits in a number\n",
    "#12345:5\n",
    "num=input()\n",
    "cnt=0\n",
    "for dig in num:\n",
    "    cnt+=1\n",
    "print(\"no.of digits=\",cnt)"
   ]
  },
  {
   "cell_type": "code",
   "execution_count": 33,
   "id": "85482a49",
   "metadata": {},
   "outputs": [
    {
     "name": "stdout",
     "output_type": "stream",
     "text": [
      "sum: 38\n"
     ]
    }
   ],
   "source": [
    "s=0 # finding the sum of digits in a number\n",
    "for dig in num:\n",
    "    s+=int(dig)\n",
    "print(\"sum:\",s)"
   ]
  },
  {
   "cell_type": "code",
   "execution_count": 37,
   "id": "fde9cec0",
   "metadata": {},
   "outputs": [
    {
     "name": "stdout",
     "output_type": "stream",
     "text": [
      "25 23 21 19 17 15 13 11 9 7 5 3 1 "
     ]
    }
   ],
   "source": [
    "# looping in reverse order\n",
    "stop=25\n",
    "while stop>=1:\n",
    "    print(stop,end=\" \")\n",
    "    stop-=2"
   ]
  },
  {
   "cell_type": "code",
   "execution_count": 38,
   "id": "6f4f2067",
   "metadata": {
    "collapsed": true
   },
   "outputs": [
    {
     "name": "stdout",
     "output_type": "stream",
     "text": [
      "50 49 48 47 46 45 44 43 42 41 40 39 38 37 36 35 34 33 32 31 30 29 28 27 26 25 24 23 22 21 20 19 18 17 16 15 14 13 12 11 "
     ]
    }
   ],
   "source": [
    "for num in range(50,10,-1):\n",
    "    print(num,end=\" \")"
   ]
  },
  {
   "cell_type": "code",
   "execution_count": 41,
   "id": "5084cdca",
   "metadata": {
    "collapsed": true
   },
   "outputs": [
    {
     "name": "stdout",
     "output_type": "stream",
     "text": [
      "9\n",
      "9 11 13 15 17 19 21 23 25 27 29 31 33 35 37 39 41 43 45 47 49 "
     ]
    }
   ],
   "source": [
    "# printing even numbers present in a range\n",
    "n=int(input())\n",
    "if n%2==0:\n",
    "    for num in range(n,50,2):\n",
    "        print(num,end=\" \")\n",
    "else:\n",
    "    for num in range(n,50,2):\n",
    "        print(num,end=\" \")"
   ]
  },
  {
   "cell_type": "code",
   "execution_count": 43,
   "id": "27ef2456",
   "metadata": {
    "collapsed": true
   },
   "outputs": [
    {
     "name": "stdout",
     "output_type": "stream",
     "text": [
      "8\n",
      "8 10 12 14 16 18 20 22 24 26 28 30 32 34 36 38 40 42 44 46 48 50 "
     ]
    }
   ],
   "source": [
    "# using while\n",
    "n=int(input())\n",
    "if n%2==0:\n",
    "    while n<=50:\n",
    "        print(n,end=\" \")\n",
    "        n+=2\n",
    "else:\n",
    "    while n<=50:\n",
    "        print(n,end=\" \")\n",
    "        n+=2"
   ]
  },
  {
   "cell_type": "code",
   "execution_count": 44,
   "id": "3fdd0713",
   "metadata": {},
   "outputs": [],
   "source": [
    "# print the above values in reverse order"
   ]
  },
  {
   "cell_type": "markdown",
   "id": "ca9a6ca3",
   "metadata": {},
   "source": [
    "#### Nested Loops\n",
    "- loop existed in another loop\n",
    "    - inner loop in outer loop\n",
    "- example\n",
    "    - a matrix will consists of m cols in n rows"
   ]
  },
  {
   "cell_type": "code",
   "execution_count": 45,
   "id": "d8614bac",
   "metadata": {},
   "outputs": [],
   "source": [
    "# 8 9 0\n",
    "# 5 6 7 "
   ]
  },
  {
   "cell_type": "code",
   "execution_count": 46,
   "id": "2d11579f",
   "metadata": {},
   "outputs": [
    {
     "name": "stdout",
     "output_type": "stream",
     "text": [
      "1 2 3 4 5 "
     ]
    }
   ],
   "source": [
    "for num in range(1,6): # 5 times\n",
    "    print(num,end=\" \")"
   ]
  },
  {
   "cell_type": "code",
   "execution_count": 48,
   "id": "e94f5336",
   "metadata": {},
   "outputs": [
    {
     "name": "stdout",
     "output_type": "stream",
     "text": [
      "2 4 6 8 10 12 14 16 18 20 22 24 26 28 "
     ]
    }
   ],
   "source": [
    "for num in range(1,29): # 28 times\n",
    "    #print(num,end=\" \")\n",
    "    if num%2==0:\n",
    "        print(num,end=\" \")"
   ]
  },
  {
   "cell_type": "code",
   "execution_count": 49,
   "id": "20e3ff7d",
   "metadata": {
    "collapsed": true
   },
   "outputs": [
    {
     "name": "stdout",
     "output_type": "stream",
     "text": [
      "1 2 3 \n",
      "1 2 3 \n",
      "1 2 3 \n",
      "1 2 3 \n",
      "1 2 3 \n"
     ]
    }
   ],
   "source": [
    "for num in range(1,6): # 5 times\n",
    "    for clg in range(1,4): # w r t 4\n",
    "        # num=1,num=2,num=3,3 # 15\n",
    "        print(clg,end=' ')\n",
    "    print()"
   ]
  },
  {
   "cell_type": "code",
   "execution_count": 50,
   "id": "22e982cb",
   "metadata": {
    "collapsed": true
   },
   "outputs": [
    {
     "name": "stdout",
     "output_type": "stream",
     "text": [
      "1 \n",
      "1 2 \n",
      "1 2 3 \n",
      "1 2 3 4 \n",
      "1 2 3 4 5 \n"
     ]
    }
   ],
   "source": [
    "for row in range(1,6):\n",
    "    for col in range(1,row+1): # 1,2\n",
    "        print(col,end=\" \")\n",
    "    print()"
   ]
  },
  {
   "cell_type": "code",
   "execution_count": 53,
   "id": "5e822212",
   "metadata": {
    "collapsed": true
   },
   "outputs": [
    {
     "name": "stdout",
     "output_type": "stream",
     "text": [
      "5\n",
      "# \n",
      "* * \n",
      "# # # \n",
      "* * * * \n",
      "# # # # # \n"
     ]
    }
   ],
   "source": [
    "n=int(input())\n",
    "for row in range(1,n+1): #12345\n",
    "    for col in range(1,row+1): #\n",
    "        if row%2==0: #\n",
    "            print(\"*\",end=\" \")\n",
    "        else:\n",
    "            print(\"#\",end=\" \")\n",
    "    print()"
   ]
  },
  {
   "cell_type": "code",
   "execution_count": 61,
   "id": "b08eb03e",
   "metadata": {
    "collapsed": true
   },
   "outputs": [
    {
     "name": "stdout",
     "output_type": "stream",
     "text": [
      "10\n",
      "# @ # @ # @ * @ * @ \n",
      "@ # @ # @ * @ * @ \n",
      "# @ # @ * @ * @ \n",
      "@ # @ * @ * @ \n",
      "# @ * @ * @ \n",
      "@ * @ * @ \n",
      "* @ * @ \n",
      "@ * @ \n",
      "* @ \n",
      "@ \n"
     ]
    }
   ],
   "source": [
    "# print the pattern in reverse order\n",
    "n=int(input())\n",
    "for num in range(n,0,-1): # 10,9,8,7..1\n",
    "    for col in range(num,0,-1):\n",
    "        if col%2==0 and col<n//2:\n",
    "            print(\"*\",end=\" \")\n",
    "        elif col%2==0 and col>n//2:\n",
    "            print(\"#\",end=\" \")\n",
    "        else:\n",
    "            print(\"@\",end=\" \")\n",
    "    print()"
   ]
  },
  {
   "cell_type": "markdown",
   "id": "5625bba7",
   "metadata": {},
   "source": [
    "##### Functions\n",
    "- A block of statements to peform a specific task\n",
    "- def is the keyword that represents the function\n",
    "- 2types of functions\n",
    "    1. predefined function\n",
    "        - were defined when the language is designed\n",
    "        - no need to define those again\n",
    "        - simply we can call and use those functions\n",
    "        - ex:print(),input(),type(),int(),bin(),ord(),len()\n",
    "    2. user defined\n",
    "        - defined by the user/programmer\n",
    "- **syntax**\n",
    "    - def function_name(args):\n",
    "        - statements\n",
    "            - return\n",
    "    - in the function definition\n",
    "        - the main purpose writing code/actual code\n",
    "        - formal values/dummy varibles\n",
    "        \n",
    "    - in function call\n",
    "        - we will use that function\n",
    "            - parameters are there\n",
    "            - actual data\n",
    "- reusability of code\n",
    "- functions follows the modularity\n"
   ]
  },
  {
   "cell_type": "code",
   "execution_count": 62,
   "id": "7f3ea60e",
   "metadata": {},
   "outputs": [
    {
     "data": {
      "text/plain": [
       "13"
      ]
     },
     "execution_count": 62,
     "metadata": {},
     "output_type": "execute_result"
    }
   ],
   "source": [
    "## we can define the function in 4 ways\n",
    "def add(x,y): # list of argument and return\n",
    "    return x+y\n",
    "\n",
    "add(9,4)"
   ]
  },
  {
   "cell_type": "code",
   "execution_count": 63,
   "id": "b3044a65",
   "metadata": {},
   "outputs": [],
   "source": [
    "def function():\n",
    "    pass"
   ]
  },
  {
   "cell_type": "code",
   "execution_count": 65,
   "id": "9a0ef394",
   "metadata": {},
   "outputs": [],
   "source": [
    "function()"
   ]
  },
  {
   "cell_type": "code",
   "execution_count": 66,
   "id": "890a133f",
   "metadata": {
    "collapsed": true
   },
   "outputs": [
    {
     "name": "stdout",
     "output_type": "stream",
     "text": [
      "9\n",
      "4\n"
     ]
    },
    {
     "data": {
      "text/plain": [
       "36"
      ]
     },
     "execution_count": 66,
     "metadata": {},
     "output_type": "execute_result"
    }
   ],
   "source": [
    "# we can define the fun without args and return\n",
    "def product():\n",
    "    return a*b\n",
    "\n",
    "a,b=int(input()),int(input())\n",
    "# global\n",
    "product()"
   ]
  },
  {
   "cell_type": "code",
   "execution_count": 67,
   "id": "de95f5b2",
   "metadata": {
    "collapsed": true
   },
   "outputs": [
    {
     "name": "stdout",
     "output_type": "stream",
     "text": [
      "for num in range\n",
      "16\n"
     ]
    }
   ],
   "source": [
    "# function without arguments without return\n",
    "def length_of_str():\n",
    "    st=input()\n",
    "    print(len(st))\n",
    "    \n",
    "length_of_str()"
   ]
  },
  {
   "cell_type": "code",
   "execution_count": 69,
   "id": "64f9cf34",
   "metadata": {
    "collapsed": true
   },
   "outputs": [
    {
     "ename": "NameError",
     "evalue": "name 'st' is not defined",
     "output_type": "error",
     "traceback": [
      "\u001b[1;31m---------------------------------------------------------------------------\u001b[0m",
      "\u001b[1;31mNameError\u001b[0m                                 Traceback (most recent call last)",
      "Input \u001b[1;32mIn [69]\u001b[0m, in \u001b[0;36m<cell line: 1>\u001b[1;34m()\u001b[0m\n\u001b[1;32m----> 1\u001b[0m \u001b[43mst\u001b[49m\n",
      "\u001b[1;31mNameError\u001b[0m: name 'st' is not defined"
     ]
    }
   ],
   "source": [
    "st #local variable"
   ]
  },
  {
   "cell_type": "code",
   "execution_count": 70,
   "id": "acdbc46d",
   "metadata": {
    "collapsed": true
   },
   "outputs": [
    {
     "data": {
      "text/plain": [
       "9"
      ]
     },
     "execution_count": 70,
     "metadata": {},
     "output_type": "execute_result"
    }
   ],
   "source": [
    "a"
   ]
  },
  {
   "cell_type": "code",
   "execution_count": 71,
   "id": "24aa8617",
   "metadata": {
    "collapsed": true
   },
   "outputs": [
    {
     "data": {
      "text/plain": [
       "4"
      ]
     },
     "execution_count": 71,
     "metadata": {},
     "output_type": "execute_result"
    }
   ],
   "source": [
    "b"
   ]
  },
  {
   "cell_type": "code",
   "execution_count": 87,
   "id": "830330ca",
   "metadata": {},
   "outputs": [
    {
     "name": "stdout",
     "output_type": "stream",
     "text": [
      "I am  kAVYA\n"
     ]
    }
   ],
   "source": [
    "# function with args and without return\n",
    "def i_am(name):\n",
    "    print(\"I am \",name)\n",
    "    \n",
    "i_am('kAVYA')"
   ]
  },
  {
   "cell_type": "code",
   "execution_count": 73,
   "id": "9cde590c",
   "metadata": {
    "collapsed": true
   },
   "outputs": [
    {
     "ename": "NameError",
     "evalue": "name 'name' is not defined",
     "output_type": "error",
     "traceback": [
      "\u001b[1;31m---------------------------------------------------------------------------\u001b[0m",
      "\u001b[1;31mNameError\u001b[0m                                 Traceback (most recent call last)",
      "Input \u001b[1;32mIn [73]\u001b[0m, in \u001b[0;36m<cell line: 1>\u001b[1;34m()\u001b[0m\n\u001b[1;32m----> 1\u001b[0m \u001b[43mname\u001b[49m\n",
      "\u001b[1;31mNameError\u001b[0m: name 'name' is not defined"
     ]
    }
   ],
   "source": [
    "name"
   ]
  },
  {
   "cell_type": "code",
   "execution_count": 75,
   "id": "cf5b8a02",
   "metadata": {},
   "outputs": [],
   "source": [
    "# you should follow some rules\n",
    "# default and non-default args\n",
    "# *args and **kwargs"
   ]
  },
  {
   "cell_type": "code",
   "execution_count": 80,
   "id": "546b03ca",
   "metadata": {},
   "outputs": [
    {
     "name": "stdout",
     "output_type": "stream",
     "text": [
      "1 2 4 5 6 7 10 "
     ]
    }
   ],
   "source": [
    "def number(*values): # variable length of args\n",
    "    for ch in values:\n",
    "        print(ch,end=\" \")\n",
    "        \n",
    "number(*[1,2,4,5,6,7,10])"
   ]
  },
  {
   "cell_type": "code",
   "execution_count": 81,
   "id": "238ada4d",
   "metadata": {
    "collapsed": true
   },
   "outputs": [
    {
     "ename": "SyntaxError",
     "evalue": "non-default argument follows default argument (108552572.py, line 2)",
     "output_type": "error",
     "traceback": [
      "\u001b[1;36m  Input \u001b[1;32mIn [81]\u001b[1;36m\u001b[0m\n\u001b[1;33m    def arguments(a=10,b):\u001b[0m\n\u001b[1;37m                        ^\u001b[0m\n\u001b[1;31mSyntaxError\u001b[0m\u001b[1;31m:\u001b[0m non-default argument follows default argument\n"
     ]
    }
   ],
   "source": [
    "# default and non-default\n",
    "def arguments(a=10,b):\n",
    "    return a+b\n",
    "arguments(8)"
   ]
  },
  {
   "cell_type": "code",
   "execution_count": 91,
   "id": "154ee1f3",
   "metadata": {
    "collapsed": true
   },
   "outputs": [
    {
     "data": {
      "text/plain": [
       "15"
      ]
     },
     "execution_count": 91,
     "metadata": {},
     "output_type": "execute_result"
    }
   ],
   "source": [
    "# default and non-default\n",
    "def args(a,b=9):\n",
    "    return a+b\n",
    "\n",
    "args(6)"
   ]
  },
  {
   "cell_type": "code",
   "execution_count": 88,
   "id": "48dfd5a0",
   "metadata": {},
   "outputs": [],
   "source": [
    "# default and non-default\n",
    "def example(a=8,b=9): #\n",
    "    return a+b\n",
    "\n",
    "example(int(input(\"first:\")),int(input('second:')))"
   ]
  },
  {
   "cell_type": "code",
   "execution_count": 93,
   "id": "0a25175e",
   "metadata": {
    "collapsed": true
   },
   "outputs": [
    {
     "data": {
      "text/plain": [
       "17"
      ]
     },
     "execution_count": 93,
     "metadata": {},
     "output_type": "execute_result"
    }
   ],
   "source": [
    "example() # empty"
   ]
  },
  {
   "cell_type": "code",
   "execution_count": 94,
   "id": "67434b59",
   "metadata": {
    "collapsed": true
   },
   "outputs": [
    {
     "data": {
      "text/plain": [
       "19"
      ]
     },
     "execution_count": 94,
     "metadata": {},
     "output_type": "execute_result"
    }
   ],
   "source": [
    "example(10)"
   ]
  },
  {
   "cell_type": "code",
   "execution_count": 97,
   "id": "979c3e51",
   "metadata": {
    "collapsed": true
   },
   "outputs": [
    {
     "name": "stdout",
     "output_type": "stream",
     "text": [
      "8\n",
      "1 2 4 8 "
     ]
    }
   ],
   "source": [
    "# define a function that checks whether \n",
    "# given number is prime or not\n",
    "num=int(input())\n",
    "factors=0\n",
    "# 8:1,2,4,8:0\n",
    "for dig in range(1,num+1):\n",
    "    if num%dig==0:\n",
    "        print(dig,end=\" \")"
   ]
  },
  {
   "cell_type": "code",
   "execution_count": 99,
   "id": "9c5b51d1",
   "metadata": {
    "collapsed": true
   },
   "outputs": [
    {
     "name": "stdout",
     "output_type": "stream",
     "text": [
      "15\n",
      "not prime\n"
     ]
    }
   ],
   "source": [
    "# define a function that checks whether \n",
    "# given number is prime or not\n",
    "num=int(input())\n",
    "factors=0\n",
    "# 8:1,2,4,8:0\n",
    "for dig in range(1,num+1):\n",
    "    if num%dig==0:\n",
    "        factors+=1\n",
    "if factors==2:\n",
    "    print(\"prime\")\n",
    "else:\n",
    "    print(\"not prime\")"
   ]
  },
  {
   "cell_type": "code",
   "execution_count": 100,
   "id": "4a225582",
   "metadata": {},
   "outputs": [
    {
     "data": {
      "text/plain": [
       "True"
      ]
     },
     "execution_count": 100,
     "metadata": {},
     "output_type": "execute_result"
    }
   ],
   "source": [
    "# using function\n",
    "def is_prime(n):\n",
    "    count=0\n",
    "    for num in range(1,n+1):\n",
    "        if n%num==0:\n",
    "            count+=1\n",
    "    if count==2:\n",
    "        return True\n",
    "    else:return False\n",
    "    \n",
    "is_prime(13)"
   ]
  },
  {
   "cell_type": "code",
   "execution_count": 101,
   "id": "2ead91c9",
   "metadata": {
    "collapsed": true
   },
   "outputs": [
    {
     "name": "stdout",
     "output_type": "stream",
     "text": [
      "10\n",
      "150\n",
      "11 13 17 19 23 29 31 37 41 43 47 53 59 61 67 71 73 79 83 89 97 101 103 107 109 113 127 131 137 139 149 "
     ]
    }
   ],
   "source": [
    "# print the prime numbers present in range\n",
    "for val in range(int(input()),int(input())):\n",
    "    if is_prime(val):\n",
    "        print(val,end=\" \")"
   ]
  },
  {
   "cell_type": "code",
   "execution_count": 102,
   "id": "cdc571a4",
   "metadata": {
    "collapsed": true
   },
   "outputs": [
    {
     "name": "stdout",
     "output_type": "stream",
     "text": [
      "2 3 5 7 11 13 17 19 23 29 31 37 41 43 47 53 59 61 67 71 73 79 83 89 97 "
     ]
    }
   ],
   "source": [
    "def prime_range(lw,up):\n",
    "    for num in range(lw,up+1):\n",
    "        if is_prime(num):\n",
    "            print(num,end=\" \")\n",
    "prime_range(1,100)"
   ]
  },
  {
   "cell_type": "code",
   "execution_count": 103,
   "id": "4a91bf55",
   "metadata": {
    "collapsed": true
   },
   "outputs": [
    {
     "data": {
      "text/plain": [
       "False"
      ]
     },
     "execution_count": 103,
     "metadata": {},
     "output_type": "execute_result"
    }
   ],
   "source": [
    "'k'# what is the perfect number\n",
    "# sum of the factors of a given number equals to itself\n",
    "# 6:1,2,3=1+2+3=6\n",
    "def is_perfect(p):\n",
    "    sm=0\n",
    "    for dig in range(1,p//2+1):\n",
    "        if p%dig==0:\n",
    "            sm+=dig\n",
    "    if sm==p:\n",
    "        return True\n",
    "    else:return False\n",
    "    \n",
    "is_perfect(9)"
   ]
  },
  {
   "cell_type": "code",
   "execution_count": 104,
   "id": "a1807b69",
   "metadata": {
    "collapsed": true
   },
   "outputs": [
    {
     "data": {
      "text/plain": [
       "True"
      ]
     },
     "execution_count": 104,
     "metadata": {},
     "output_type": "execute_result"
    }
   ],
   "source": [
    "is_perfect(6)"
   ]
  },
  {
   "cell_type": "code",
   "execution_count": 105,
   "id": "10eced62",
   "metadata": {
    "collapsed": true
   },
   "outputs": [
    {
     "ename": "SyntaxError",
     "evalue": "illegal target for annotation (893378323.py, line 1)",
     "output_type": "error",
     "traceback": [
      "\u001b[1;36m  Input \u001b[1;32mIn [105]\u001b[1;36m\u001b[0m\n\u001b[1;33m    28:1,2,4,7,14\u001b[0m\n\u001b[1;37m    ^\u001b[0m\n\u001b[1;31mSyntaxError\u001b[0m\u001b[1;31m:\u001b[0m illegal target for annotation\n"
     ]
    }
   ],
   "source": [
    "28:1,2,4,7,14"
   ]
  },
  {
   "cell_type": "markdown",
   "id": "e262ecb9",
   "metadata": {},
   "source": [
    "#### Strings\n",
    "- Group/collection of characters\n",
    "- anything that is enclosed in the quotations called as string\n",
    "- str() that represents the string data\n",
    "- can declare an empty str with either '' or \"\"\n",
    "- it is immutable\n",
    "- dir() to check the list of str methods"
   ]
  },
  {
   "cell_type": "code",
   "execution_count": 107,
   "id": "de5300ce",
   "metadata": {},
   "outputs": [
    {
     "data": {
      "text/plain": [
       "'909899'"
      ]
     },
     "execution_count": 107,
     "metadata": {},
     "output_type": "execute_result"
    }
   ],
   "source": [
    "str(909899) # converted int into str"
   ]
  },
  {
   "cell_type": "code",
   "execution_count": 108,
   "id": "8a0f6c43",
   "metadata": {
    "collapsed": true
   },
   "outputs": [
    {
     "data": {
      "text/plain": [
       "['__add__',\n",
       " '__class__',\n",
       " '__contains__',\n",
       " '__delattr__',\n",
       " '__dir__',\n",
       " '__doc__',\n",
       " '__eq__',\n",
       " '__format__',\n",
       " '__ge__',\n",
       " '__getattribute__',\n",
       " '__getitem__',\n",
       " '__getnewargs__',\n",
       " '__gt__',\n",
       " '__hash__',\n",
       " '__init__',\n",
       " '__init_subclass__',\n",
       " '__iter__',\n",
       " '__le__',\n",
       " '__len__',\n",
       " '__lt__',\n",
       " '__mod__',\n",
       " '__mul__',\n",
       " '__ne__',\n",
       " '__new__',\n",
       " '__reduce__',\n",
       " '__reduce_ex__',\n",
       " '__repr__',\n",
       " '__rmod__',\n",
       " '__rmul__',\n",
       " '__setattr__',\n",
       " '__sizeof__',\n",
       " '__str__',\n",
       " '__subclasshook__',\n",
       " 'capitalize',\n",
       " 'casefold',\n",
       " 'center',\n",
       " 'count',\n",
       " 'encode',\n",
       " 'endswith',\n",
       " 'expandtabs',\n",
       " 'find',\n",
       " 'format',\n",
       " 'format_map',\n",
       " 'index',\n",
       " 'isalnum',\n",
       " 'isalpha',\n",
       " 'isascii',\n",
       " 'isdecimal',\n",
       " 'isdigit',\n",
       " 'isidentifier',\n",
       " 'islower',\n",
       " 'isnumeric',\n",
       " 'isprintable',\n",
       " 'isspace',\n",
       " 'istitle',\n",
       " 'isupper',\n",
       " 'join',\n",
       " 'ljust',\n",
       " 'lower',\n",
       " 'lstrip',\n",
       " 'maketrans',\n",
       " 'partition',\n",
       " 'removeprefix',\n",
       " 'removesuffix',\n",
       " 'replace',\n",
       " 'rfind',\n",
       " 'rindex',\n",
       " 'rjust',\n",
       " 'rpartition',\n",
       " 'rsplit',\n",
       " 'rstrip',\n",
       " 'split',\n",
       " 'splitlines',\n",
       " 'startswith',\n",
       " 'strip',\n",
       " 'swapcase',\n",
       " 'title',\n",
       " 'translate',\n",
       " 'upper',\n",
       " 'zfill']"
      ]
     },
     "execution_count": 108,
     "metadata": {},
     "output_type": "execute_result"
    }
   ],
   "source": [
    "dir(str)"
   ]
  },
  {
   "cell_type": "code",
   "execution_count": 110,
   "id": "dfe09341",
   "metadata": {},
   "outputs": [
    {
     "name": "stdout",
     "output_type": "stream",
     "text": [
      "\n"
     ]
    }
   ],
   "source": [
    "print() # can be empty"
   ]
  },
  {
   "cell_type": "code",
   "execution_count": 117,
   "id": "663e8858",
   "metadata": {},
   "outputs": [
    {
     "name": "stdout",
     "output_type": "stream",
     "text": [
      "name:Electrical Department\n",
      "I am Electrical Department\n"
     ]
    }
   ],
   "source": [
    "name=input('name:') # dynamic str\n",
    "print(\"I am\",name)"
   ]
  },
  {
   "cell_type": "code",
   "execution_count": 118,
   "id": "ab60bab2",
   "metadata": {},
   "outputs": [
    {
     "data": {
      "text/plain": [
       "'Electrical Department'"
      ]
     },
     "execution_count": 118,
     "metadata": {},
     "output_type": "execute_result"
    }
   ],
   "source": [
    "name"
   ]
  },
  {
   "cell_type": "code",
   "execution_count": 119,
   "id": "8588d906",
   "metadata": {},
   "outputs": [
    {
     "data": {
      "text/plain": [
       "21"
      ]
     },
     "execution_count": 119,
     "metadata": {},
     "output_type": "execute_result"
    }
   ],
   "source": [
    "len(name)"
   ]
  },
  {
   "cell_type": "code",
   "execution_count": 120,
   "id": "cf73d71f",
   "metadata": {
    "collapsed": true
   },
   "outputs": [
    {
     "name": "stdout",
     "output_type": "stream",
     "text": [
      "E\n",
      "l\n",
      "e\n",
      "c\n",
      "t\n",
      "r\n",
      "i\n",
      "c\n",
      "a\n",
      "l\n",
      " \n",
      "D\n",
      "e\n",
      "p\n",
      "a\n",
      "r\n",
      "t\n",
      "m\n",
      "e\n",
      "n\n",
      "t\n"
     ]
    }
   ],
   "source": [
    "for ch in name:\n",
    "    print(ch)"
   ]
  },
  {
   "cell_type": "markdown",
   "id": "918fac68",
   "metadata": {},
   "source": [
    "#### Index\n",
    "- index is the memory address of the char/data\n",
    "- 2types\n",
    "    1. Normal Indexing\n",
    "        - 2ways of traversing\n",
    "            1. +ve indexing\n",
    "                - starts from 0 to +inifinite/len(iterable)-1\n",
    "                - travers from left to right\n",
    "            2. -ve indexing\n",
    "                - travers from right to left\n",
    "                - starts from -1 and upto -inifinite\n",
    "    2. Fancy Indexing\n",
    "        - condition based indexing"
   ]
  },
  {
   "cell_type": "code",
   "execution_count": 121,
   "id": "88d0bfc0",
   "metadata": {},
   "outputs": [
    {
     "data": {
      "text/plain": [
       "'Electrical Department'"
      ]
     },
     "execution_count": 121,
     "metadata": {},
     "output_type": "execute_result"
    }
   ],
   "source": [
    "name"
   ]
  },
  {
   "cell_type": "code",
   "execution_count": 122,
   "id": "6978102c",
   "metadata": {},
   "outputs": [
    {
     "data": {
      "text/plain": [
       "'E'"
      ]
     },
     "execution_count": 122,
     "metadata": {},
     "output_type": "execute_result"
    }
   ],
   "source": [
    "name[0] # iterable[index]"
   ]
  },
  {
   "cell_type": "code",
   "execution_count": 123,
   "id": "1fa61632",
   "metadata": {
    "scrolled": true
   },
   "outputs": [
    {
     "data": {
      "text/plain": [
       "'l'"
      ]
     },
     "execution_count": 123,
     "metadata": {},
     "output_type": "execute_result"
    }
   ],
   "source": [
    "name[1]"
   ]
  },
  {
   "cell_type": "code",
   "execution_count": 124,
   "id": "8bfd2129",
   "metadata": {},
   "outputs": [
    {
     "data": {
      "text/plain": [
       "'r'"
      ]
     },
     "execution_count": 124,
     "metadata": {},
     "output_type": "execute_result"
    }
   ],
   "source": [
    "name[5] # 6th char"
   ]
  },
  {
   "cell_type": "code",
   "execution_count": 125,
   "id": "45493c7e",
   "metadata": {},
   "outputs": [
    {
     "data": {
      "text/plain": [
       "'n'"
      ]
     },
     "execution_count": 125,
     "metadata": {},
     "output_type": "execute_result"
    }
   ],
   "source": [
    "name[19]"
   ]
  },
  {
   "cell_type": "code",
   "execution_count": 133,
   "id": "040a0974",
   "metadata": {},
   "outputs": [
    {
     "data": {
      "text/plain": [
       "'Electrical Department'"
      ]
     },
     "execution_count": 133,
     "metadata": {},
     "output_type": "execute_result"
    }
   ],
   "source": [
    "name[::]"
   ]
  },
  {
   "cell_type": "code",
   "execution_count": 134,
   "id": "6459526b",
   "metadata": {},
   "outputs": [
    {
     "data": {
      "text/plain": [
       "'Electrical Department'"
      ]
     },
     "execution_count": 134,
     "metadata": {},
     "output_type": "execute_result"
    }
   ],
   "source": [
    "name[:]\n"
   ]
  },
  {
   "cell_type": "code",
   "execution_count": 135,
   "id": "688bfb0c",
   "metadata": {
    "scrolled": false
   },
   "outputs": [
    {
     "data": {
      "text/plain": [
       "'tnemtrapeD lacirtcelE'"
      ]
     },
     "execution_count": 135,
     "metadata": {},
     "output_type": "execute_result"
    }
   ],
   "source": [
    "name[::-1]"
   ]
  },
  {
   "cell_type": "code",
   "execution_count": 136,
   "id": "e2ca8116",
   "metadata": {},
   "outputs": [
    {
     "data": {
      "text/plain": [
       "'Electrical Department'"
      ]
     },
     "execution_count": 136,
     "metadata": {},
     "output_type": "execute_result"
    }
   ],
   "source": [
    "name"
   ]
  },
  {
   "cell_type": "code",
   "execution_count": 137,
   "id": "5ceaf1e1",
   "metadata": {},
   "outputs": [
    {
     "data": {
      "text/plain": [
       "'Eetia eatet'"
      ]
     },
     "execution_count": 137,
     "metadata": {},
     "output_type": "execute_result"
    }
   ],
   "source": [
    "name[::2] # alternate chars"
   ]
  },
  {
   "cell_type": "code",
   "execution_count": 131,
   "id": "8328c4ae",
   "metadata": {},
   "outputs": [
    {
     "data": {
      "text/plain": [
       "'tetae aiteE'"
      ]
     },
     "execution_count": 131,
     "metadata": {},
     "output_type": "execute_result"
    }
   ],
   "source": [
    "name[::-2] # alternate chars in reverse order"
   ]
  },
  {
   "cell_type": "markdown",
   "id": "9cd2465d",
   "metadata": {},
   "source": [
    "##### slicing \n",
    "- cutting in pieces\n",
    "- splitting sub part of string using index as a boundary\n",
    "- name[start:stop:step_count]"
   ]
  },
  {
   "cell_type": "code",
   "execution_count": 138,
   "id": "7308eadd",
   "metadata": {},
   "outputs": [
    {
     "data": {
      "text/plain": [
       "'rical Dep'"
      ]
     },
     "execution_count": 138,
     "metadata": {},
     "output_type": "execute_result"
    }
   ],
   "source": [
    "name[5:14] # retrieving the chars from 5th to 14th"
   ]
  },
  {
   "cell_type": "code",
   "execution_count": 139,
   "id": "3a96e770",
   "metadata": {
    "collapsed": true
   },
   "outputs": [
    {
     "data": {
      "text/plain": [
       "'Electrical Department'"
      ]
     },
     "execution_count": 139,
     "metadata": {},
     "output_type": "execute_result"
    }
   ],
   "source": [
    "name"
   ]
  },
  {
   "cell_type": "code",
   "execution_count": 140,
   "id": "52011a6f",
   "metadata": {},
   "outputs": [
    {
     "data": {
      "text/plain": [
       "'rical Department'"
      ]
     },
     "execution_count": 140,
     "metadata": {},
     "output_type": "execute_result"
    }
   ],
   "source": [
    "name[5:] # 5th to last"
   ]
  },
  {
   "cell_type": "code",
   "execution_count": 141,
   "id": "433ae81b",
   "metadata": {},
   "outputs": [
    {
     "data": {
      "text/plain": [
       "'Electrical Depar'"
      ]
     },
     "execution_count": 141,
     "metadata": {},
     "output_type": "execute_result"
    }
   ],
   "source": [
    "name[:16] # from 0 to 15th"
   ]
  },
  {
   "cell_type": "code",
   "execution_count": 143,
   "id": "e59a51bc",
   "metadata": {},
   "outputs": [
    {
     "data": {
      "text/plain": [
       "'rical D'"
      ]
     },
     "execution_count": 143,
     "metadata": {},
     "output_type": "execute_result"
    }
   ],
   "source": [
    "name[5:12] # index 5th to 11th"
   ]
  },
  {
   "cell_type": "code",
   "execution_count": 144,
   "id": "ca86296d",
   "metadata": {},
   "outputs": [
    {
     "data": {
      "text/plain": [
       "'t'"
      ]
     },
     "execution_count": 144,
     "metadata": {},
     "output_type": "execute_result"
    }
   ],
   "source": [
    "name[-1]"
   ]
  },
  {
   "cell_type": "code",
   "execution_count": 145,
   "id": "e8175e55",
   "metadata": {},
   "outputs": [
    {
     "data": {
      "text/plain": [
       "'n'"
      ]
     },
     "execution_count": 145,
     "metadata": {},
     "output_type": "execute_result"
    }
   ],
   "source": [
    "name[-2] # last but one char"
   ]
  },
  {
   "cell_type": "code",
   "execution_count": 146,
   "id": "11c958c2",
   "metadata": {},
   "outputs": [
    {
     "data": {
      "text/plain": [
       "(-5, -9)"
      ]
     },
     "execution_count": 146,
     "metadata": {},
     "output_type": "execute_result"
    }
   ],
   "source": [
    "-5,-9"
   ]
  },
  {
   "cell_type": "code",
   "execution_count": 147,
   "id": "f0d4b0e6",
   "metadata": {},
   "outputs": [
    {
     "data": {
      "text/plain": [
       "''"
      ]
     },
     "execution_count": 147,
     "metadata": {},
     "output_type": "execute_result"
    }
   ],
   "source": [
    "name[-5:-9] # empty"
   ]
  },
  {
   "cell_type": "code",
   "execution_count": 148,
   "id": "9d3e18bd",
   "metadata": {
    "collapsed": true
   },
   "outputs": [
    {
     "data": {
      "text/plain": [
       "'Electrical Department'"
      ]
     },
     "execution_count": 148,
     "metadata": {},
     "output_type": "execute_result"
    }
   ],
   "source": [
    "name"
   ]
  },
  {
   "cell_type": "code",
   "execution_count": 149,
   "id": "07f50028",
   "metadata": {
    "collapsed": true
   },
   "outputs": [
    {
     "data": {
      "text/plain": [
       "'epartment'"
      ]
     },
     "execution_count": 149,
     "metadata": {},
     "output_type": "execute_result"
    }
   ],
   "source": [
    "name[-9:]"
   ]
  },
  {
   "cell_type": "code",
   "execution_count": 150,
   "id": "047589c9",
   "metadata": {
    "collapsed": true
   },
   "outputs": [
    {
     "data": {
      "text/plain": [
       "'trical'"
      ]
     },
     "execution_count": 150,
     "metadata": {},
     "output_type": "execute_result"
    }
   ],
   "source": [
    "name[4:10]"
   ]
  },
  {
   "cell_type": "code",
   "execution_count": 151,
   "id": "04dca555",
   "metadata": {
    "collapsed": true
   },
   "outputs": [
    {
     "data": {
      "text/plain": [
       "'epartm'"
      ]
     },
     "execution_count": 151,
     "metadata": {},
     "output_type": "execute_result"
    }
   ],
   "source": [
    "name[-9:-3]"
   ]
  },
  {
   "cell_type": "code",
   "execution_count": 156,
   "id": "ce100ab4",
   "metadata": {
    "collapsed": true
   },
   "outputs": [
    {
     "data": {
      "text/plain": [
       "'emtrap'"
      ]
     },
     "execution_count": 156,
     "metadata": {},
     "output_type": "execute_result"
    }
   ],
   "source": [
    "name[-3:-9:-1] # in reverse order"
   ]
  },
  {
   "cell_type": "code",
   "execution_count": 153,
   "id": "33fd9455",
   "metadata": {
    "collapsed": true
   },
   "outputs": [
    {
     "data": {
      "text/plain": [
       "'Electrical Department'"
      ]
     },
     "execution_count": 153,
     "metadata": {},
     "output_type": "execute_result"
    }
   ],
   "source": [
    "name"
   ]
  },
  {
   "cell_type": "markdown",
   "id": "e87ac2f8",
   "metadata": {},
   "source": [
    "##### string methods\n",
    "- the functions can only be applied on strings\n",
    "    - str.replace(old,new)\n",
    "    - str.count(ch)\n",
    "    - split()\n",
    "    - strip()\n",
    "    - lstrip()\n",
    "    - rstrip()\n",
    "    - join()\n",
    "    - format()\n",
    "    - center()\n",
    "    - title()\n",
    "    - capitalize()\n",
    "    - casefold()\n",
    "    - swapcase()\n",
    "    - lower()\n",
    "    - upper()\n",
    "    - islower()\n",
    "    - isupper()\n",
    "    "
   ]
  },
  {
   "cell_type": "code",
   "execution_count": 157,
   "id": "b4bb6b94",
   "metadata": {},
   "outputs": [
    {
     "data": {
      "text/plain": [
       "'Electrical Department'"
      ]
     },
     "execution_count": 157,
     "metadata": {},
     "output_type": "execute_result"
    }
   ],
   "source": [
    "name"
   ]
  },
  {
   "cell_type": "code",
   "execution_count": 158,
   "id": "d6aafb2d",
   "metadata": {},
   "outputs": [
    {
     "data": {
      "text/plain": [
       "'electrical department'"
      ]
     },
     "execution_count": 158,
     "metadata": {},
     "output_type": "execute_result"
    }
   ],
   "source": [
    "name.lower() # converts the str into lowercase alphabets"
   ]
  },
  {
   "cell_type": "code",
   "execution_count": 159,
   "id": "d30a0daf",
   "metadata": {},
   "outputs": [
    {
     "data": {
      "text/plain": [
       "'ELECTRICAL DEPARTMENT'"
      ]
     },
     "execution_count": 159,
     "metadata": {},
     "output_type": "execute_result"
    }
   ],
   "source": [
    "name.upper()"
   ]
  },
  {
   "cell_type": "code",
   "execution_count": 160,
   "id": "2bb51d98",
   "metadata": {},
   "outputs": [
    {
     "data": {
      "text/plain": [
       "'eLECTRICAL dEPARTMENT'"
      ]
     },
     "execution_count": 160,
     "metadata": {},
     "output_type": "execute_result"
    }
   ],
   "source": [
    "name.swapcase()"
   ]
  },
  {
   "cell_type": "code",
   "execution_count": 161,
   "id": "b5fdb831",
   "metadata": {},
   "outputs": [],
   "source": [
    "new='EngINeerING At MylAVaraM'"
   ]
  },
  {
   "cell_type": "code",
   "execution_count": 162,
   "id": "fb456b2b",
   "metadata": {},
   "outputs": [
    {
     "data": {
      "text/plain": [
       "'eNGinEERing aT mYLavARAm'"
      ]
     },
     "execution_count": 162,
     "metadata": {},
     "output_type": "execute_result"
    }
   ],
   "source": [
    "new.swapcase()"
   ]
  },
  {
   "cell_type": "code",
   "execution_count": 163,
   "id": "3310de83",
   "metadata": {},
   "outputs": [
    {
     "data": {
      "text/plain": [
       "'ENGINEERING AT MYLAVARAM'"
      ]
     },
     "execution_count": 163,
     "metadata": {},
     "output_type": "execute_result"
    }
   ],
   "source": [
    "new.upper()"
   ]
  },
  {
   "cell_type": "code",
   "execution_count": 168,
   "id": "e42d8229",
   "metadata": {
    "collapsed": true
   },
   "outputs": [
    {
     "data": {
      "text/plain": [
       "'        EngINeerING At MylAVaraM        '"
      ]
     },
     "execution_count": 168,
     "metadata": {},
     "output_type": "execute_result"
    }
   ],
   "source": [
    "up=new.center(40) # centralize the str with length\n",
    "up"
   ]
  },
  {
   "cell_type": "code",
   "execution_count": 169,
   "id": "707d95e3",
   "metadata": {
    "collapsed": true
   },
   "outputs": [
    {
     "data": {
      "text/plain": [
       "24"
      ]
     },
     "execution_count": 169,
     "metadata": {},
     "output_type": "execute_result"
    }
   ],
   "source": [
    "len(new)"
   ]
  },
  {
   "cell_type": "code",
   "execution_count": 170,
   "id": "d442a452",
   "metadata": {
    "collapsed": true
   },
   "outputs": [
    {
     "data": {
      "text/plain": [
       "40"
      ]
     },
     "execution_count": 170,
     "metadata": {},
     "output_type": "execute_result"
    }
   ],
   "source": [
    "len(up)"
   ]
  },
  {
   "cell_type": "code",
   "execution_count": 171,
   "id": "5b448c56",
   "metadata": {
    "collapsed": true
   },
   "outputs": [
    {
     "data": {
      "text/plain": [
       "'E@n@g@I@N@e@e@r@I@N@G@ @A@t@ @M@y@l@A@V@a@r@a@M'"
      ]
     },
     "execution_count": 171,
     "metadata": {},
     "output_type": "execute_result"
    }
   ],
   "source": [
    "'@'.join(new) # joins the string with delimeter"
   ]
  },
  {
   "cell_type": "code",
   "execution_count": 174,
   "id": "cf24709c",
   "metadata": {
    "collapsed": true
   },
   "outputs": [
    {
     "data": {
      "text/plain": [
       "'apepipopuprp pep pvp pop pwp pep plp ps'"
      ]
     },
     "execution_count": 174,
     "metadata": {},
     "output_type": "execute_result"
    }
   ],
   "source": [
    "st='aeiour e v o w e l s'\n",
    "'p'.join(st)"
   ]
  },
  {
   "cell_type": "code",
   "execution_count": 175,
   "id": "1a1f6ee1",
   "metadata": {},
   "outputs": [
    {
     "data": {
      "text/plain": [
       "'        EngINeerING At MylAVaraM        '"
      ]
     },
     "execution_count": 175,
     "metadata": {},
     "output_type": "execute_result"
    }
   ],
   "source": [
    "up"
   ]
  },
  {
   "cell_type": "code",
   "execution_count": 180,
   "id": "d07c569d",
   "metadata": {
    "collapsed": true
   },
   "outputs": [
    {
     "data": {
      "text/plain": [
       "'Engineering at mylavaram'"
      ]
     },
     "execution_count": 180,
     "metadata": {},
     "output_type": "execute_result"
    }
   ],
   "source": [
    "new.capitalize() # capitalizes the first char of str"
   ]
  },
  {
   "cell_type": "code",
   "execution_count": 181,
   "id": "8964d294",
   "metadata": {
    "collapsed": true
   },
   "outputs": [
    {
     "data": {
      "text/plain": [
       "'Engineering At Mylavaram'"
      ]
     },
     "execution_count": 181,
     "metadata": {},
     "output_type": "execute_result"
    }
   ],
   "source": [
    "new.title() # capitalizes the first char of each word"
   ]
  },
  {
   "cell_type": "code",
   "execution_count": 182,
   "id": "dbb2de54",
   "metadata": {},
   "outputs": [
    {
     "data": {
      "text/plain": [
       "'        EngINeerING At MylAVaraM        '"
      ]
     },
     "execution_count": 182,
     "metadata": {},
     "output_type": "execute_result"
    }
   ],
   "source": [
    "up"
   ]
  },
  {
   "cell_type": "code",
   "execution_count": 184,
   "id": "0cf0fcde",
   "metadata": {
    "collapsed": true
   },
   "outputs": [
    {
     "data": {
      "text/plain": [
       "'EngINeerING At MylAVaraM        '"
      ]
     },
     "execution_count": 184,
     "metadata": {},
     "output_type": "execute_result"
    }
   ],
   "source": [
    "# remove the spaces on both sides\n",
    "lp=up.lstrip()\n",
    "lp"
   ]
  },
  {
   "cell_type": "code",
   "execution_count": 185,
   "id": "54885a7d",
   "metadata": {
    "collapsed": true
   },
   "outputs": [
    {
     "data": {
      "text/plain": [
       "'        EngINeerING At MylAVaraM'"
      ]
     },
     "execution_count": 185,
     "metadata": {},
     "output_type": "execute_result"
    }
   ],
   "source": [
    "up.rstrip()"
   ]
  },
  {
   "cell_type": "code",
   "execution_count": 186,
   "id": "d5227119",
   "metadata": {
    "collapsed": true
   },
   "outputs": [
    {
     "data": {
      "text/plain": [
       "'EngINeerING At MylAVaraM'"
      ]
     },
     "execution_count": 186,
     "metadata": {},
     "output_type": "execute_result"
    }
   ],
   "source": [
    "up.strip() # removes the both side spaces"
   ]
  },
  {
   "cell_type": "code",
   "execution_count": 187,
   "id": "626d7f1f",
   "metadata": {
    "collapsed": true
   },
   "outputs": [
    {
     "name": "stdout",
     "output_type": "stream",
     "text": [
      "I am Ruthu from APSSDC\n"
     ]
    },
    {
     "data": {
      "text/plain": [
       "['I', 'am', 'Ruthu', 'from', 'APSSDC']"
      ]
     },
     "execution_count": 187,
     "metadata": {},
     "output_type": "execute_result"
    }
   ],
   "source": [
    "names=input().split() # splits the str at ' '\n",
    " # list()\n",
    "names"
   ]
  },
  {
   "cell_type": "code",
   "execution_count": 188,
   "id": "36dea952",
   "metadata": {
    "collapsed": true
   },
   "outputs": [
    {
     "data": {
      "text/plain": [
       "['RUthu', 'apssdc', 'located at Guntur ', ' hi hello']"
      ]
     },
     "execution_count": 188,
     "metadata": {},
     "output_type": "execute_result"
    }
   ],
   "source": [
    "np=\"RUthu.apssdc.located at Guntur . hi hello\".split('.')\n",
    "np"
   ]
  },
  {
   "cell_type": "code",
   "execution_count": 189,
   "id": "781caffb",
   "metadata": {
    "collapsed": true
   },
   "outputs": [
    {
     "data": {
      "text/plain": [
       "['RUthu', 'apssdc', 'located at Guntur ', ' hi hello']"
      ]
     },
     "execution_count": 189,
     "metadata": {},
     "output_type": "execute_result"
    }
   ],
   "source": [
    "np"
   ]
  },
  {
   "cell_type": "code",
   "execution_count": 190,
   "id": "745d63ad",
   "metadata": {
    "collapsed": true
   },
   "outputs": [
    {
     "data": {
      "text/plain": [
       "list"
      ]
     },
     "execution_count": 190,
     "metadata": {},
     "output_type": "execute_result"
    }
   ],
   "source": [
    "type(np)"
   ]
  },
  {
   "cell_type": "code",
   "execution_count": 191,
   "id": "98173ba4",
   "metadata": {
    "collapsed": true
   },
   "outputs": [
    {
     "data": {
      "text/plain": [
       "['I', 'am', 'Ruthu', 'from', 'APSSDC']"
      ]
     },
     "execution_count": 191,
     "metadata": {},
     "output_type": "execute_result"
    }
   ],
   "source": [
    "names"
   ]
  },
  {
   "cell_type": "code",
   "execution_count": 195,
   "id": "1ee19ab9",
   "metadata": {
    "collapsed": true
   },
   "outputs": [
    {
     "data": {
      "text/plain": [
       "'I am Ruthu from APSSDC working as TD'"
      ]
     },
     "execution_count": 195,
     "metadata": {},
     "output_type": "execute_result"
    }
   ],
   "source": [
    " # .format\n",
    "nm,org,des='Ruthu','APSSDC','TD'\n",
    "\"I am {0} from {1} working as {2}\".format(nm,org,des)"
   ]
  },
  {
   "cell_type": "code",
   "execution_count": 196,
   "id": "f522692b",
   "metadata": {
    "collapsed": true
   },
   "outputs": [
    {
     "data": {
      "text/plain": [
       "'I am Ruthu from APSSDC working as TD'"
      ]
     },
     "execution_count": 196,
     "metadata": {},
     "output_type": "execute_result"
    }
   ],
   "source": [
    " # .format\n",
    "nm,org,des='Ruthu','APSSDC','TD'\n",
    "\"I am {} from {} working as {}\".format(nm,org,des)"
   ]
  },
  {
   "cell_type": "code",
   "execution_count": 199,
   "id": "fe0381b2",
   "metadata": {
    "collapsed": true
   },
   "outputs": [
    {
     "data": {
      "text/plain": [
       "'I am Nandini and my id is 123908'"
      ]
     },
     "execution_count": 199,
     "metadata": {},
     "output_type": "execute_result"
    }
   ],
   "source": [
    "name='Nandini' # f-string\n",
    "roll_id=123908\n",
    "f\"I am {name} and my id is {roll_id}\""
   ]
  },
  {
   "cell_type": "code",
   "execution_count": 212,
   "id": "a9a28a57",
   "metadata": {
    "scrolled": true
   },
   "outputs": [
    {
     "name": "stdout",
     "output_type": "stream",
     "text": [
      "char:l\n",
      "string:Electrical\n",
      "yes\n"
     ]
    }
   ],
   "source": [
    "# str.replace\n",
    "# str.index()\n",
    "# starts.endswith()\n",
    "# startswith()\n",
    "ch=input(\"char:\")\n",
    "st=input(\"string:\")\n",
    "if st.endswith(ch):\n",
    "    print(\"yes\")"
   ]
  },
  {
   "cell_type": "code",
   "execution_count": 214,
   "id": "287c4e65",
   "metadata": {},
   "outputs": [
    {
     "data": {
      "text/plain": [
       "True"
      ]
     },
     "execution_count": 214,
     "metadata": {},
     "output_type": "execute_result"
    }
   ],
   "source": [
    "st.startswith('E')"
   ]
  },
  {
   "cell_type": "code",
   "execution_count": 228,
   "id": "2aa83a9b",
   "metadata": {},
   "outputs": [
    {
     "name": "stdout",
     "output_type": "stream",
     "text": [
      "char:o\n",
      "string:engineering\n",
      "replacing char:b\n"
     ]
    },
    {
     "data": {
      "text/plain": [
       "'engineering'"
      ]
     },
     "execution_count": 228,
     "metadata": {},
     "output_type": "execute_result"
    }
   ],
   "source": [
    "ch=input(\"char:\")\n",
    "st=input(\"string:\")\n",
    "new=input(\"replacing char:\")\n",
    "if ch in st:\n",
    "    st=st.replace(ch,new) # str updation\n",
    "st"
   ]
  },
  {
   "cell_type": "code",
   "execution_count": 203,
   "id": "f2fce7e6",
   "metadata": {
    "collapsed": true
   },
   "outputs": [
    {
     "data": {
      "text/plain": [
       "['__add__',\n",
       " '__class__',\n",
       " '__contains__',\n",
       " '__delattr__',\n",
       " '__dir__',\n",
       " '__doc__',\n",
       " '__eq__',\n",
       " '__format__',\n",
       " '__ge__',\n",
       " '__getattribute__',\n",
       " '__getitem__',\n",
       " '__getnewargs__',\n",
       " '__gt__',\n",
       " '__hash__',\n",
       " '__init__',\n",
       " '__init_subclass__',\n",
       " '__iter__',\n",
       " '__le__',\n",
       " '__len__',\n",
       " '__lt__',\n",
       " '__mod__',\n",
       " '__mul__',\n",
       " '__ne__',\n",
       " '__new__',\n",
       " '__reduce__',\n",
       " '__reduce_ex__',\n",
       " '__repr__',\n",
       " '__rmod__',\n",
       " '__rmul__',\n",
       " '__setattr__',\n",
       " '__sizeof__',\n",
       " '__str__',\n",
       " '__subclasshook__',\n",
       " 'capitalize',\n",
       " 'casefold',\n",
       " 'center',\n",
       " 'count',\n",
       " 'encode',\n",
       " 'endswith',\n",
       " 'expandtabs',\n",
       " 'find',\n",
       " 'format',\n",
       " 'format_map',\n",
       " 'index',\n",
       " 'isalnum',\n",
       " 'isalpha',\n",
       " 'isascii',\n",
       " 'isdecimal',\n",
       " 'isdigit',\n",
       " 'isidentifier',\n",
       " 'islower',\n",
       " 'isnumeric',\n",
       " 'isprintable',\n",
       " 'isspace',\n",
       " 'istitle',\n",
       " 'isupper',\n",
       " 'join',\n",
       " 'ljust',\n",
       " 'lower',\n",
       " 'lstrip',\n",
       " 'maketrans',\n",
       " 'partition',\n",
       " 'removeprefix',\n",
       " 'removesuffix',\n",
       " 'replace',\n",
       " 'rfind',\n",
       " 'rindex',\n",
       " 'rjust',\n",
       " 'rpartition',\n",
       " 'rsplit',\n",
       " 'rstrip',\n",
       " 'split',\n",
       " 'splitlines',\n",
       " 'startswith',\n",
       " 'strip',\n",
       " 'swapcase',\n",
       " 'title',\n",
       " 'translate',\n",
       " 'upper',\n",
       " 'zfill']"
      ]
     },
     "execution_count": 203,
     "metadata": {},
     "output_type": "execute_result"
    }
   ],
   "source": [
    "dir(str)"
   ]
  },
  {
   "cell_type": "code",
   "execution_count": 204,
   "id": "255b9665",
   "metadata": {
    "collapsed": true
   },
   "outputs": [
    {
     "name": "stdout",
     "output_type": "stream",
     "text": [
      "Help on method_descriptor:\n",
      "\n",
      "replace(self, old, new, count=-1, /)\n",
      "    Return a copy with all occurrences of substring old replaced by new.\n",
      "    \n",
      "      count\n",
      "        Maximum number of occurrences to replace.\n",
      "        -1 (the default value) means replace all occurrences.\n",
      "    \n",
      "    If the optional argument count is given, only the first count occurrences are\n",
      "    replaced.\n",
      "\n"
     ]
    }
   ],
   "source": [
    "help(str.replace)"
   ]
  },
  {
   "cell_type": "code",
   "execution_count": 206,
   "id": "dfbf7fb4",
   "metadata": {},
   "outputs": [
    {
     "data": {
      "text/plain": [
       "'electrical'"
      ]
     },
     "execution_count": 206,
     "metadata": {},
     "output_type": "execute_result"
    }
   ],
   "source": [
    "res"
   ]
  },
  {
   "cell_type": "code",
   "execution_count": 207,
   "id": "4f58891b",
   "metadata": {},
   "outputs": [
    {
     "data": {
      "text/plain": [
       "'electrical'"
      ]
     },
     "execution_count": 207,
     "metadata": {},
     "output_type": "execute_result"
    }
   ],
   "source": [
    "st"
   ]
  },
  {
   "cell_type": "code",
   "execution_count": 208,
   "id": "be26114c",
   "metadata": {},
   "outputs": [
    {
     "data": {
      "text/plain": [
       "'Nandini'"
      ]
     },
     "execution_count": 208,
     "metadata": {},
     "output_type": "execute_result"
    }
   ],
   "source": [
    "name"
   ]
  },
  {
   "cell_type": "code",
   "execution_count": 210,
   "id": "a059382d",
   "metadata": {},
   "outputs": [
    {
     "data": {
      "text/plain": [
       "'Nandnewnnew'"
      ]
     },
     "execution_count": 210,
     "metadata": {},
     "output_type": "execute_result"
    }
   ],
   "source": [
    "name.replace('i','new')"
   ]
  },
  {
   "cell_type": "code",
   "execution_count": 211,
   "id": "481cad5a",
   "metadata": {},
   "outputs": [
    {
     "data": {
      "text/plain": [
       "'Nandini'"
      ]
     },
     "execution_count": 211,
     "metadata": {},
     "output_type": "execute_result"
    }
   ],
   "source": [
    "name"
   ]
  },
  {
   "cell_type": "code",
   "execution_count": 222,
   "id": "d915c65d",
   "metadata": {},
   "outputs": [
    {
     "data": {
      "text/plain": [
       "'elehtrihal'"
      ]
     },
     "execution_count": 222,
     "metadata": {},
     "output_type": "execute_result"
    }
   ],
   "source": [
    "st"
   ]
  },
  {
   "cell_type": "code",
   "execution_count": 223,
   "id": "4454a91b",
   "metadata": {},
   "outputs": [
    {
     "data": {
      "text/plain": [
       "True"
      ]
     },
     "execution_count": 223,
     "metadata": {},
     "output_type": "execute_result"
    }
   ],
   "source": [
    "st[0].isalpha()"
   ]
  },
  {
   "cell_type": "code",
   "execution_count": 224,
   "id": "d31f55b6",
   "metadata": {},
   "outputs": [
    {
     "data": {
      "text/plain": [
       "False"
      ]
     },
     "execution_count": 224,
     "metadata": {},
     "output_type": "execute_result"
    }
   ],
   "source": [
    "st[3].isdigit()"
   ]
  },
  {
   "cell_type": "code",
   "execution_count": 225,
   "id": "273279a6",
   "metadata": {
    "collapsed": true
   },
   "outputs": [
    {
     "data": {
      "text/plain": [
       "False"
      ]
     },
     "execution_count": 225,
     "metadata": {},
     "output_type": "execute_result"
    }
   ],
   "source": [
    "st[5].isnumeric()"
   ]
  },
  {
   "cell_type": "code",
   "execution_count": 233,
   "id": "21c63840",
   "metadata": {
    "scrolled": true
   },
   "outputs": [
    {
     "data": {
      "text/plain": [
       "False"
      ]
     },
     "execution_count": 233,
     "metadata": {},
     "output_type": "execute_result"
    }
   ],
   "source": [
    "comb='Ruthu@123#890,lavanya%ramu'\n",
    "comb[4].isdigit()"
   ]
  },
  {
   "cell_type": "code",
   "execution_count": 247,
   "id": "3c19b000",
   "metadata": {},
   "outputs": [
    {
     "data": {
      "text/plain": [
       "5"
      ]
     },
     "execution_count": 247,
     "metadata": {},
     "output_type": "execute_result"
    }
   ],
   "source": [
    "comb.index('@')"
   ]
  },
  {
   "cell_type": "code",
   "execution_count": 248,
   "id": "1f41077a",
   "metadata": {
    "collapsed": true
   },
   "outputs": [
    {
     "data": {
      "text/plain": [
       "15"
      ]
     },
     "execution_count": 248,
     "metadata": {},
     "output_type": "execute_result"
    }
   ],
   "source": [
    "comb.index('a')"
   ]
  },
  {
   "cell_type": "code",
   "execution_count": null,
   "id": "4e506505",
   "metadata": {},
   "outputs": [],
   "source": []
  },
  {
   "cell_type": "code",
   "execution_count": 232,
   "id": "537ab5d8",
   "metadata": {
    "collapsed": true
   },
   "outputs": [
    {
     "data": {
      "text/plain": [
       "True"
      ]
     },
     "execution_count": 232,
     "metadata": {},
     "output_type": "execute_result"
    }
   ],
   "source": [
    "comb[-1].isdigit()"
   ]
  },
  {
   "cell_type": "code",
   "execution_count": 237,
   "id": "360ae63b",
   "metadata": {
    "collapsed": true
   },
   "outputs": [
    {
     "name": "stdout",
     "output_type": "stream",
     "text": [
      "Ruthu@123#890,lavanya%ramu\n",
      "@ # , % "
     ]
    }
   ],
   "source": [
    "# read a str from user and print the special chars\n",
    "cmb=input()\n",
    "new=''\n",
    "for ch in cmb:\n",
    "    if ch.isdigit() or ch.isalpha() or ch.isspace():\n",
    "        new+=ch\n",
    "    else:\n",
    "        print(ch,end=\" \")"
   ]
  },
  {
   "cell_type": "code",
   "execution_count": 235,
   "id": "9decc9e1",
   "metadata": {
    "collapsed": true
   },
   "outputs": [
    {
     "data": {
      "text/plain": [
       "['__add__',\n",
       " '__class__',\n",
       " '__contains__',\n",
       " '__delattr__',\n",
       " '__dir__',\n",
       " '__doc__',\n",
       " '__eq__',\n",
       " '__format__',\n",
       " '__ge__',\n",
       " '__getattribute__',\n",
       " '__getitem__',\n",
       " '__getnewargs__',\n",
       " '__gt__',\n",
       " '__hash__',\n",
       " '__init__',\n",
       " '__init_subclass__',\n",
       " '__iter__',\n",
       " '__le__',\n",
       " '__len__',\n",
       " '__lt__',\n",
       " '__mod__',\n",
       " '__mul__',\n",
       " '__ne__',\n",
       " '__new__',\n",
       " '__reduce__',\n",
       " '__reduce_ex__',\n",
       " '__repr__',\n",
       " '__rmod__',\n",
       " '__rmul__',\n",
       " '__setattr__',\n",
       " '__sizeof__',\n",
       " '__str__',\n",
       " '__subclasshook__',\n",
       " 'capitalize',\n",
       " 'casefold',\n",
       " 'center',\n",
       " 'count',\n",
       " 'encode',\n",
       " 'endswith',\n",
       " 'expandtabs',\n",
       " 'find',\n",
       " 'format',\n",
       " 'format_map',\n",
       " 'index',\n",
       " 'isalnum',\n",
       " 'isalpha',\n",
       " 'isascii',\n",
       " 'isdecimal',\n",
       " 'isdigit',\n",
       " 'isidentifier',\n",
       " 'islower',\n",
       " 'isnumeric',\n",
       " 'isprintable',\n",
       " 'isspace',\n",
       " 'istitle',\n",
       " 'isupper',\n",
       " 'join',\n",
       " 'ljust',\n",
       " 'lower',\n",
       " 'lstrip',\n",
       " 'maketrans',\n",
       " 'partition',\n",
       " 'removeprefix',\n",
       " 'removesuffix',\n",
       " 'replace',\n",
       " 'rfind',\n",
       " 'rindex',\n",
       " 'rjust',\n",
       " 'rpartition',\n",
       " 'rsplit',\n",
       " 'rstrip',\n",
       " 'split',\n",
       " 'splitlines',\n",
       " 'startswith',\n",
       " 'strip',\n",
       " 'swapcase',\n",
       " 'title',\n",
       " 'translate',\n",
       " 'upper',\n",
       " 'zfill']"
      ]
     },
     "execution_count": 235,
     "metadata": {},
     "output_type": "execute_result"
    }
   ],
   "source": [
    "dir(str)"
   ]
  },
  {
   "cell_type": "code",
   "execution_count": 239,
   "id": "1e1f1661",
   "metadata": {
    "collapsed": true
   },
   "outputs": [
    {
     "name": "stdout",
     "output_type": "stream",
     "text": [
      "@ # % , "
     ]
    }
   ],
   "source": [
    "specials=\"!@#$%^&*,./()<>?\"\n",
    "for ch in specials:\n",
    "    if ch in cmb:\n",
    "        print(ch,end=\" \")"
   ]
  },
  {
   "cell_type": "code",
   "execution_count": 241,
   "id": "bc52b700",
   "metadata": {
    "collapsed": true
   },
   "outputs": [
    {
     "name": "stdout",
     "output_type": "stream",
     "text": [
      "0=R\n",
      "1=u\n",
      "2=t\n",
      "3=h\n",
      "4=u\n",
      "5=@\n",
      "6=1\n",
      "7=2\n",
      "8=3\n",
      "9=#\n",
      "10=8\n",
      "11=9\n",
      "12=0\n",
      "13=,\n",
      "14=l\n",
      "15=a\n",
      "16=v\n",
      "17=a\n",
      "18=n\n",
      "19=y\n",
      "20=a\n",
      "21=%\n",
      "22=r\n",
      "23=a\n",
      "24=m\n",
      "25=u\n"
     ]
    }
   ],
   "source": [
    "for ix in range(len(cmb)):\n",
    "    print(ix,cmb[ix],sep=\"=\")"
   ]
  },
  {
   "cell_type": "code",
   "execution_count": 243,
   "id": "9a1610ef",
   "metadata": {
    "collapsed": true
   },
   "outputs": [
    {
     "name": "stdout",
     "output_type": "stream",
     "text": [
      "90 45 56 89 23 91 45 3 5 60 23\n"
     ]
    },
    {
     "data": {
      "text/plain": [
       "530"
      ]
     },
     "execution_count": 243,
     "metadata": {},
     "output_type": "execute_result"
    }
   ],
   "source": [
    "# read n space separated integers from user\n",
    "# and find the sum \n",
    "# 90 45 56 89 23 91 45 3 5 60 23\n",
    "sm=0\n",
    "mul=input().split()\n",
    "for num in mul:\n",
    "    sm+=int(num)\n",
    "sm"
   ]
  },
  {
   "cell_type": "code",
   "execution_count": 245,
   "id": "1a75d543",
   "metadata": {
    "collapsed": true
   },
   "outputs": [
    {
     "name": "stdout",
     "output_type": "stream",
     "text": [
      "7\n",
      "890 456 834 109 396 290 834\n"
     ]
    },
    {
     "data": {
      "text/plain": [
       "38"
      ]
     },
     "execution_count": 245,
     "metadata": {},
     "output_type": "execute_result"
    }
   ],
   "source": [
    "# find the sum of middle digits \n",
    "# of n space separated values\n",
    "# n:\n",
    "# 890 456 834 109 396 290 \n",
    "# sm aa o/p\n",
    "total=int(input())\n",
    "nums=input().split()[:total]\n",
    "sm=0\n",
    "for dig in nums:\n",
    "    sm+=int(dig[1])\n",
    "sm"
   ]
  },
  {
   "cell_type": "markdown",
   "id": "7df88a66",
   "metadata": {},
   "source": [
    "#### Introduction to Data Structures\n",
    "- way of organising the data in a perticular format\n",
    "- 4types \n",
    "    1. Tuple\n",
    "    2. List\n",
    "    3. Set\n",
    "    4. Dict"
   ]
  },
  {
   "cell_type": "markdown",
   "id": "b1040147",
   "metadata": {},
   "source": [
    "##### Tuple\n",
    "- It is one of the data structures in python\n",
    "- it is heterogenous data structure\n",
    "- represented by ()\n",
    "- tuple(ele)\n",
    "- it is immutable in nature"
   ]
  },
  {
   "cell_type": "code",
   "execution_count": 246,
   "id": "5900bcd5",
   "metadata": {
    "collapsed": true
   },
   "outputs": [
    {
     "data": {
      "text/plain": [
       "['__add__',\n",
       " '__class__',\n",
       " '__class_getitem__',\n",
       " '__contains__',\n",
       " '__delattr__',\n",
       " '__dir__',\n",
       " '__doc__',\n",
       " '__eq__',\n",
       " '__format__',\n",
       " '__ge__',\n",
       " '__getattribute__',\n",
       " '__getitem__',\n",
       " '__getnewargs__',\n",
       " '__gt__',\n",
       " '__hash__',\n",
       " '__init__',\n",
       " '__init_subclass__',\n",
       " '__iter__',\n",
       " '__le__',\n",
       " '__len__',\n",
       " '__lt__',\n",
       " '__mul__',\n",
       " '__ne__',\n",
       " '__new__',\n",
       " '__reduce__',\n",
       " '__reduce_ex__',\n",
       " '__repr__',\n",
       " '__rmul__',\n",
       " '__setattr__',\n",
       " '__sizeof__',\n",
       " '__str__',\n",
       " '__subclasshook__',\n",
       " 'count',\n",
       " 'index']"
      ]
     },
     "execution_count": 246,
     "metadata": {},
     "output_type": "execute_result"
    }
   ],
   "source": [
    "dir(tuple)"
   ]
  },
  {
   "cell_type": "markdown",
   "id": "06479d72",
   "metadata": {},
   "source": [
    "#### tuple methods\n",
    "- count\n",
    "- index"
   ]
  },
  {
   "cell_type": "code",
   "execution_count": 249,
   "id": "b33a8f43",
   "metadata": {},
   "outputs": [
    {
     "data": {
      "text/plain": [
       "'Ruthu@123#890,lavanya%ramu'"
      ]
     },
     "execution_count": 249,
     "metadata": {},
     "output_type": "execute_result"
    }
   ],
   "source": [
    "comb"
   ]
  },
  {
   "cell_type": "code",
   "execution_count": 254,
   "id": "d6e44a5b",
   "metadata": {
    "collapsed": true
   },
   "outputs": [
    {
     "name": "stdout",
     "output_type": "stream",
     "text": [
      "('R', 'u', 't', 'h', 'u', '@', '1', '2', '3', '#', '8', '9', '0', ',', 'l', 'a', 'v', 'a', 'n', 'y', 'a', '%', 'r', 'a', 'm', 'u')\n"
     ]
    },
    {
     "data": {
      "text/plain": [
       "(12, 'hi', 'new')"
      ]
     },
     "execution_count": 254,
     "metadata": {},
     "output_type": "execute_result"
    }
   ],
   "source": [
    "# tuple\n",
    "tp=tuple(comb)\n",
    "print(tp)\n",
    "t=(12,'hi','new')\n",
    "t"
   ]
  },
  {
   "cell_type": "code",
   "execution_count": 263,
   "id": "c940ee7a",
   "metadata": {},
   "outputs": [
    {
     "data": {
      "text/plain": [
       "4"
      ]
     },
     "execution_count": 263,
     "metadata": {},
     "output_type": "execute_result"
    }
   ],
   "source": [
    "tp.count('a')"
   ]
  },
  {
   "cell_type": "code",
   "execution_count": 268,
   "id": "dba2596f",
   "metadata": {},
   "outputs": [
    {
     "name": "stdout",
     "output_type": "stream",
     "text": [
      "4\n"
     ]
    }
   ],
   "source": [
    "char='a'\n",
    "count=0\n",
    "for ch in tp:\n",
    "    if ch==char:\n",
    "        count+=1\n",
    "print(count)"
   ]
  },
  {
   "cell_type": "markdown",
   "id": "e547c168",
   "metadata": {},
   "source": [
    "##### list\n",
    "- it is heteroneous data structure\n",
    "- it is mutable in nature\n",
    "- list()\n",
    "- represented by []"
   ]
  },
  {
   "cell_type": "code",
   "execution_count": 269,
   "id": "394c96fe",
   "metadata": {},
   "outputs": [
    {
     "data": {
      "text/plain": [
       "['890', '456', '834', '109', '396', '290', '834']"
      ]
     },
     "execution_count": 269,
     "metadata": {},
     "output_type": "execute_result"
    }
   ],
   "source": [
    "nums"
   ]
  },
  {
   "cell_type": "code",
   "execution_count": 272,
   "id": "81a0281f",
   "metadata": {},
   "outputs": [
    {
     "name": "stdout",
     "output_type": "stream",
     "text": [
      "[3, 4, 5, 'hi', 'electrical', 'python', 'new', 'list', 90.45]\n"
     ]
    }
   ],
   "source": [
    "li=[3,4,5,'hi','electrical','python',\n",
    "   'new','list',90.45]\n",
    "print(li)"
   ]
  },
  {
   "cell_type": "code",
   "execution_count": 274,
   "id": "8783f083",
   "metadata": {
    "collapsed": true
   },
   "outputs": [
    {
     "data": {
      "text/plain": [
       "97"
      ]
     },
     "execution_count": 274,
     "metadata": {},
     "output_type": "execute_result"
    }
   ],
   "source": [
    "marks=[97,89,79,90,67,10,70,59,35]\n",
    "marks[0]\n",
    "# marks<80"
   ]
  },
  {
   "cell_type": "code",
   "execution_count": 275,
   "id": "1f8dffe5",
   "metadata": {},
   "outputs": [
    {
     "data": {
      "text/plain": [
       "[90, 67, 10, 70, 59, 35]"
      ]
     },
     "execution_count": 275,
     "metadata": {},
     "output_type": "execute_result"
    }
   ],
   "source": [
    "marks[3:]"
   ]
  },
  {
   "cell_type": "code",
   "execution_count": 276,
   "id": "47dabe0b",
   "metadata": {
    "collapsed": true
   },
   "outputs": [
    {
     "data": {
      "text/plain": [
       "35"
      ]
     },
     "execution_count": 276,
     "metadata": {},
     "output_type": "execute_result"
    }
   ],
   "source": [
    "marks[-1]"
   ]
  },
  {
   "cell_type": "code",
   "execution_count": 277,
   "id": "3e9f62e3",
   "metadata": {},
   "outputs": [
    {
     "data": {
      "text/plain": [
       "[35, 70, 67, 79, 97]"
      ]
     },
     "execution_count": 277,
     "metadata": {},
     "output_type": "execute_result"
    }
   ],
   "source": [
    "marks[::-2]"
   ]
  },
  {
   "cell_type": "code",
   "execution_count": 278,
   "id": "349a3d26",
   "metadata": {
    "collapsed": true
   },
   "outputs": [
    {
     "name": "stdout",
     "output_type": "stream",
     "text": [
      "97\n",
      "89\n",
      "79\n",
      "90\n",
      "67\n",
      "10\n",
      "70\n",
      "59\n",
      "35\n"
     ]
    }
   ],
   "source": [
    "for num in marks:\n",
    "    print(num)"
   ]
  },
  {
   "cell_type": "code",
   "execution_count": 279,
   "id": "ab5d058b",
   "metadata": {
    "collapsed": true
   },
   "outputs": [
    {
     "name": "stdout",
     "output_type": "stream",
     "text": [
      "0 97\n",
      "1 89\n",
      "2 79\n",
      "3 90\n",
      "4 67\n",
      "5 10\n",
      "6 70\n",
      "7 59\n",
      "8 35\n"
     ]
    }
   ],
   "source": [
    "for ix in range(len(marks)):\n",
    "    print(ix,marks[ix])"
   ]
  },
  {
   "cell_type": "code",
   "execution_count": 281,
   "id": "eb742407",
   "metadata": {},
   "outputs": [
    {
     "data": {
      "text/plain": [
       "[79, 67, 10, 70, 59, 35]"
      ]
     },
     "execution_count": 281,
     "metadata": {},
     "output_type": "execute_result"
    }
   ],
   "source": [
    "new=[] # new list contains the values<80\n",
    "for num in marks:\n",
    "    if num<80:\n",
    "        new.append(num)\n",
    "new"
   ]
  },
  {
   "cell_type": "markdown",
   "id": "e4d48206",
   "metadata": {},
   "source": [
    "### list methods\n",
    "- li.append()\n",
    "- pop()\n",
    "- remove(value)\n",
    "- pop(index)\n",
    "- insert(index,data)\n",
    "- count()\n",
    "- sort()\n",
    "- reverse()\n",
    "- extend()\n",
    "- copy()\n",
    "- clear()\n",
    "- index()"
   ]
  },
  {
   "cell_type": "code",
   "execution_count": 286,
   "id": "dc4f9959",
   "metadata": {},
   "outputs": [],
   "source": [
    "marks.append(345)"
   ]
  },
  {
   "cell_type": "code",
   "execution_count": 290,
   "id": "af3155f2",
   "metadata": {
    "scrolled": true
   },
   "outputs": [],
   "source": [
    "marks.insert(4,500)"
   ]
  },
  {
   "cell_type": "code",
   "execution_count": 291,
   "id": "67db8999",
   "metadata": {},
   "outputs": [
    {
     "data": {
      "text/plain": [
       "[97, 89, 79, 90, 500, 100, 67, 10, 70, 59, 35, 345, 345]"
      ]
     },
     "execution_count": 291,
     "metadata": {},
     "output_type": "execute_result"
    }
   ],
   "source": [
    "marks"
   ]
  },
  {
   "cell_type": "code",
   "execution_count": 294,
   "id": "88a77343",
   "metadata": {
    "collapsed": true
   },
   "outputs": [
    {
     "ename": "ValueError",
     "evalue": "list.remove(x): x not in list",
     "output_type": "error",
     "traceback": [
      "\u001b[1;31m---------------------------------------------------------------------------\u001b[0m",
      "\u001b[1;31mValueError\u001b[0m                                Traceback (most recent call last)",
      "Input \u001b[1;32mIn [294]\u001b[0m, in \u001b[0;36m<cell line: 1>\u001b[1;34m()\u001b[0m\n\u001b[1;32m----> 1\u001b[0m \u001b[43mmarks\u001b[49m\u001b[38;5;241;43m.\u001b[39;49m\u001b[43mremove\u001b[49m\u001b[43m(\u001b[49m\u001b[38;5;241;43m35\u001b[39;49m\u001b[43m)\u001b[49m\n",
      "\u001b[1;31mValueError\u001b[0m: list.remove(x): x not in list"
     ]
    }
   ],
   "source": [
    "marks.remove(35) # data/item"
   ]
  },
  {
   "cell_type": "code",
   "execution_count": 296,
   "id": "c49dac36",
   "metadata": {},
   "outputs": [],
   "source": [
    "marks.remove(345)"
   ]
  },
  {
   "cell_type": "code",
   "execution_count": 298,
   "id": "2d27f2b8",
   "metadata": {},
   "outputs": [],
   "source": [
    "marks.remove(marks[3])"
   ]
  },
  {
   "cell_type": "markdown",
   "id": "56e8af39",
   "metadata": {},
   "source": [
    "marks"
   ]
  },
  {
   "cell_type": "code",
   "execution_count": 300,
   "id": "708c7252",
   "metadata": {},
   "outputs": [
    {
     "data": {
      "text/plain": [
       "345"
      ]
     },
     "execution_count": 300,
     "metadata": {},
     "output_type": "execute_result"
    }
   ],
   "source": [
    "marks.pop()"
   ]
  },
  {
   "cell_type": "code",
   "execution_count": 302,
   "id": "e5b238f7",
   "metadata": {
    "collapsed": true
   },
   "outputs": [
    {
     "data": {
      "text/plain": [
       "100"
      ]
     },
     "execution_count": 302,
     "metadata": {},
     "output_type": "execute_result"
    }
   ],
   "source": [
    "marks.pop(4) # 5th element"
   ]
  },
  {
   "cell_type": "code",
   "execution_count": 303,
   "id": "8b8042f3",
   "metadata": {},
   "outputs": [
    {
     "data": {
      "text/plain": [
       "[97, 89, 79, 500, 67, 10, 70, 59]"
      ]
     },
     "execution_count": 303,
     "metadata": {},
     "output_type": "execute_result"
    }
   ],
   "source": [
    "marks"
   ]
  },
  {
   "cell_type": "code",
   "execution_count": null,
   "id": "6c0c1bdb",
   "metadata": {},
   "outputs": [],
   "source": [
    "marks.extend([3,4,5])\n",
    "marks"
   ]
  },
  {
   "cell_type": "code",
   "execution_count": 305,
   "id": "c0333526",
   "metadata": {},
   "outputs": [],
   "source": [
    "marks.append([1,2,3]) # can add any another ds"
   ]
  },
  {
   "cell_type": "code",
   "execution_count": 307,
   "id": "91abe538",
   "metadata": {},
   "outputs": [
    {
     "data": {
      "text/plain": [
       "[1, 2, 3]"
      ]
     },
     "execution_count": 307,
     "metadata": {},
     "output_type": "execute_result"
    }
   ],
   "source": [
    "marks.pop()"
   ]
  },
  {
   "cell_type": "code",
   "execution_count": 309,
   "id": "22b45c85",
   "metadata": {},
   "outputs": [],
   "source": [
    "marks.sort()"
   ]
  },
  {
   "cell_type": "code",
   "execution_count": 311,
   "id": "f7ed3414",
   "metadata": {},
   "outputs": [
    {
     "data": {
      "text/plain": [
       "[3, 4, 5, 10, 59, 67, 70, 79, 89, 97, 500]"
      ]
     },
     "execution_count": 311,
     "metadata": {},
     "output_type": "execute_result"
    }
   ],
   "source": [
    "marks"
   ]
  },
  {
   "cell_type": "code",
   "execution_count": 312,
   "id": "dabb035f",
   "metadata": {},
   "outputs": [],
   "source": [
    "# reverse sort\n",
    "marks.reverse()"
   ]
  },
  {
   "cell_type": "code",
   "execution_count": 313,
   "id": "0ff195d5",
   "metadata": {
    "collapsed": true
   },
   "outputs": [
    {
     "data": {
      "text/plain": [
       "[500, 97, 89, 79, 70, 67, 59, 10, 5, 4, 3]"
      ]
     },
     "execution_count": 313,
     "metadata": {},
     "output_type": "execute_result"
    }
   ],
   "source": [
    "marks"
   ]
  },
  {
   "cell_type": "code",
   "execution_count": 316,
   "id": "040ca8a4",
   "metadata": {},
   "outputs": [
    {
     "data": {
      "text/plain": [
       "97"
      ]
     },
     "execution_count": 316,
     "metadata": {},
     "output_type": "execute_result"
    }
   ],
   "source": [
    " # second largest element\n",
    "marks[1]"
   ]
  },
  {
   "cell_type": "code",
   "execution_count": 317,
   "id": "cae31832",
   "metadata": {},
   "outputs": [
    {
     "data": {
      "text/plain": [
       "[500, 97, 89, 79, 70, 67, 59, 10, 5, 4, 3]"
      ]
     },
     "execution_count": 317,
     "metadata": {},
     "output_type": "execute_result"
    }
   ],
   "source": [
    "new=marks.copy()\n",
    "new"
   ]
  },
  {
   "cell_type": "code",
   "execution_count": 318,
   "id": "dab05f0b",
   "metadata": {
    "scrolled": true
   },
   "outputs": [
    {
     "data": {
      "text/plain": [
       "5"
      ]
     },
     "execution_count": 318,
     "metadata": {},
     "output_type": "execute_result"
    }
   ],
   "source": [
    "new.index(67)"
   ]
  },
  {
   "cell_type": "code",
   "execution_count": 319,
   "id": "74a51e9a",
   "metadata": {},
   "outputs": [],
   "source": [
    "new.clear()"
   ]
  },
  {
   "cell_type": "code",
   "execution_count": 321,
   "id": "e70becdd",
   "metadata": {
    "collapsed": true
   },
   "outputs": [
    {
     "name": "stdout",
     "output_type": "stream",
     "text": [
      "i am from guntur\n",
      "['i', ' ', 'a', 'm', ' ', 'f', 'r', 'o', 'm', ' ', 'g', 'u', 'n', 't', 'u', 'r']\n"
     ]
    }
   ],
   "source": [
    "#new\n",
    "for ch in input():\n",
    "    new.append(ch)\n",
    "print(new)"
   ]
  },
  {
   "cell_type": "code",
   "execution_count": 328,
   "id": "7b064f39",
   "metadata": {},
   "outputs": [],
   "source": [
    "# how to remove duplicate elements\n",
    "marks.extend([4,90,70,89,100])"
   ]
  },
  {
   "cell_type": "code",
   "execution_count": 329,
   "id": "fc2536cf",
   "metadata": {
    "collapsed": true
   },
   "outputs": [
    {
     "name": "stdout",
     "output_type": "stream",
     "text": [
      "[500, 97, 79, 67, 59, 10, 5, 3, 4, 90, 70, 89, 100, 4, 90, 70, 89, 100]\n"
     ]
    }
   ],
   "source": [
    "print(marks)"
   ]
  },
  {
   "cell_type": "code",
   "execution_count": 330,
   "id": "fa715e19",
   "metadata": {},
   "outputs": [
    {
     "name": "stdout",
     "output_type": "stream",
     "text": [
      "[500, 97, 79, 67, 59, 10, 5, 3, 4, 90, 70, 89, 100]\n"
     ]
    }
   ],
   "source": [
    "for item in marks:\n",
    "    if marks.count(item)>=2:\n",
    "        marks.remove(item)\n",
    "print(marks)"
   ]
  },
  {
   "cell_type": "code",
   "execution_count": 333,
   "id": "a91969f3",
   "metadata": {},
   "outputs": [
    {
     "name": "stdout",
     "output_type": "stream",
     "text": [
      "90 89 hi hello 67 80 45 234 23 89 hi \n",
      "['90', '89', 'hi', 'hello', '67', '80', '45', '234', '23']\n"
     ]
    }
   ],
   "source": [
    "first=input().split()\n",
    "unq=[]\n",
    "for val in first:\n",
    "    if val not in unq:\n",
    "        unq.append(val)\n",
    "print(unq)"
   ]
  },
  {
   "cell_type": "markdown",
   "id": "60730f1d",
   "metadata": {},
   "source": [
    "##### SET\n",
    "- well defined collection of objects\n",
    "- represented by {}\n",
    "- set()\n",
    "- removes the duplicates data items\n",
    "- mutable in nature"
   ]
  },
  {
   "cell_type": "code",
   "execution_count": 334,
   "id": "1e18059e",
   "metadata": {
    "collapsed": true
   },
   "outputs": [
    {
     "data": {
      "text/plain": [
       "['__and__',\n",
       " '__class__',\n",
       " '__class_getitem__',\n",
       " '__contains__',\n",
       " '__delattr__',\n",
       " '__dir__',\n",
       " '__doc__',\n",
       " '__eq__',\n",
       " '__format__',\n",
       " '__ge__',\n",
       " '__getattribute__',\n",
       " '__gt__',\n",
       " '__hash__',\n",
       " '__iand__',\n",
       " '__init__',\n",
       " '__init_subclass__',\n",
       " '__ior__',\n",
       " '__isub__',\n",
       " '__iter__',\n",
       " '__ixor__',\n",
       " '__le__',\n",
       " '__len__',\n",
       " '__lt__',\n",
       " '__ne__',\n",
       " '__new__',\n",
       " '__or__',\n",
       " '__rand__',\n",
       " '__reduce__',\n",
       " '__reduce_ex__',\n",
       " '__repr__',\n",
       " '__ror__',\n",
       " '__rsub__',\n",
       " '__rxor__',\n",
       " '__setattr__',\n",
       " '__sizeof__',\n",
       " '__str__',\n",
       " '__sub__',\n",
       " '__subclasshook__',\n",
       " '__xor__',\n",
       " 'add',\n",
       " 'clear',\n",
       " 'copy',\n",
       " 'difference',\n",
       " 'difference_update',\n",
       " 'discard',\n",
       " 'intersection',\n",
       " 'intersection_update',\n",
       " 'isdisjoint',\n",
       " 'issubset',\n",
       " 'issuperset',\n",
       " 'pop',\n",
       " 'remove',\n",
       " 'symmetric_difference',\n",
       " 'symmetric_difference_update',\n",
       " 'union',\n",
       " 'update']"
      ]
     },
     "execution_count": 334,
     "metadata": {},
     "output_type": "execute_result"
    }
   ],
   "source": [
    "dir(set)"
   ]
  },
  {
   "cell_type": "code",
   "execution_count": null,
   "id": "a1d0ab19",
   "metadata": {},
   "outputs": [],
   "source": []
  },
  {
   "cell_type": "code",
   "execution_count": 261,
   "id": "7bc31055",
   "metadata": {
    "collapsed": true
   },
   "outputs": [
    {
     "data": {
      "text/plain": [
       "'o'"
      ]
     },
     "execution_count": 261,
     "metadata": {},
     "output_type": "execute_result"
    }
   ],
   "source": [
    "vowels[3]"
   ]
  },
  {
   "cell_type": "code",
   "execution_count": 262,
   "id": "efdf8dca",
   "metadata": {
    "collapsed": true
   },
   "outputs": [
    {
     "data": {
      "text/plain": [
       "123"
      ]
     },
     "execution_count": 262,
     "metadata": {},
     "output_type": "execute_result"
    }
   ],
   "source": [
    "vowels[-1]"
   ]
  },
  {
   "cell_type": "code",
   "execution_count": 335,
   "id": "b9fdd008",
   "metadata": {
    "collapsed": true
   },
   "outputs": [
    {
     "data": {
      "text/plain": [
       "{1, 2, 3, 4, 5, 9, 'hello', 'hey', 'hi'}"
      ]
     },
     "execution_count": 335,
     "metadata": {},
     "output_type": "execute_result"
    }
   ],
   "source": [
    "A={1,2,3,4,'hi','hello',9,4,5,'hey',5}\n",
    "A"
   ]
  },
  {
   "cell_type": "code",
   "execution_count": 337,
   "id": "7dc9a7eb",
   "metadata": {
    "collapsed": true
   },
   "outputs": [
    {
     "ename": "TypeError",
     "evalue": "'set' object is not subscriptable",
     "output_type": "error",
     "traceback": [
      "\u001b[1;31m---------------------------------------------------------------------------\u001b[0m",
      "\u001b[1;31mTypeError\u001b[0m                                 Traceback (most recent call last)",
      "Input \u001b[1;32mIn [337]\u001b[0m, in \u001b[0;36m<cell line: 1>\u001b[1;34m()\u001b[0m\n\u001b[1;32m----> 1\u001b[0m \u001b[43mA\u001b[49m\u001b[43m[\u001b[49m\u001b[38;5;241;43m0\u001b[39;49m\u001b[43m]\u001b[49m\n",
      "\u001b[1;31mTypeError\u001b[0m: 'set' object is not subscriptable"
     ]
    }
   ],
   "source": [
    "A[0] # NOT POSSIBLE"
   ]
  },
  {
   "cell_type": "code",
   "execution_count": 342,
   "id": "c50a1471",
   "metadata": {},
   "outputs": [
    {
     "data": {
      "text/plain": [
       "{2, 3, 4, 5, 6, 9, 'HI', 'data', 'hi', 'python'}"
      ]
     },
     "execution_count": 342,
     "metadata": {},
     "output_type": "execute_result"
    }
   ],
   "source": [
    "B={4,5,9,3,4,6,'HI','hi',2,3,'python','data'}\n",
    "B"
   ]
  },
  {
   "cell_type": "code",
   "execution_count": 343,
   "id": "34c651c3",
   "metadata": {
    "scrolled": true
   },
   "outputs": [
    {
     "data": {
      "text/plain": [
       "{2, 3, 4, 5, 9, 'hi'}"
      ]
     },
     "execution_count": 343,
     "metadata": {},
     "output_type": "execute_result"
    }
   ],
   "source": [
    "A.intersection(B) # common elements"
   ]
  },
  {
   "cell_type": "code",
   "execution_count": 344,
   "id": "eefe8ac0",
   "metadata": {
    "collapsed": true
   },
   "outputs": [
    {
     "data": {
      "text/plain": [
       "{1, 2, 3, 4, 5, 6, 9, 'HI', 'data', 'hello', 'hey', 'hi', 'python'}"
      ]
     },
     "execution_count": 344,
     "metadata": {},
     "output_type": "execute_result"
    }
   ],
   "source": [
    "A.union(B) # ALL THE ELEMENTS IN BOTH SETS"
   ]
  },
  {
   "cell_type": "code",
   "execution_count": 345,
   "id": "37c90555",
   "metadata": {},
   "outputs": [
    {
     "data": {
      "text/plain": [
       "{1, 'hello', 'hey'}"
      ]
     },
     "execution_count": 345,
     "metadata": {},
     "output_type": "execute_result"
    }
   ],
   "source": [
    "A.difference(B) #A-B"
   ]
  },
  {
   "cell_type": "code",
   "execution_count": 346,
   "id": "be43dedf",
   "metadata": {},
   "outputs": [
    {
     "data": {
      "text/plain": [
       "{1, 2, 3, 4, 5, 9, 'hello', 'hey', 'hi'}"
      ]
     },
     "execution_count": 346,
     "metadata": {},
     "output_type": "execute_result"
    }
   ],
   "source": [
    "A"
   ]
  },
  {
   "cell_type": "code",
   "execution_count": 347,
   "id": "85ed441e",
   "metadata": {
    "collapsed": true
   },
   "outputs": [
    {
     "data": {
      "text/plain": [
       "{1, 6, 'HI', 'data', 'hello', 'hey', 'python'}"
      ]
     },
     "execution_count": 347,
     "metadata": {},
     "output_type": "execute_result"
    }
   ],
   "source": [
    "A.symmetric_difference(B) # non-smilar elements"
   ]
  },
  {
   "cell_type": "code",
   "execution_count": 348,
   "id": "ad2bb5fb",
   "metadata": {},
   "outputs": [
    {
     "data": {
      "text/plain": [
       "False"
      ]
     },
     "execution_count": 348,
     "metadata": {},
     "output_type": "execute_result"
    }
   ],
   "source": [
    "A.issuperset(B)"
   ]
  },
  {
   "cell_type": "code",
   "execution_count": 349,
   "id": "b8b826e8",
   "metadata": {},
   "outputs": [
    {
     "data": {
      "text/plain": [
       "False"
      ]
     },
     "execution_count": 349,
     "metadata": {},
     "output_type": "execute_result"
    }
   ],
   "source": [
    "B.issuperset(A)"
   ]
  },
  {
   "cell_type": "code",
   "execution_count": 350,
   "id": "2bd6fcde",
   "metadata": {
    "collapsed": true
   },
   "outputs": [
    {
     "data": {
      "text/plain": [
       "1"
      ]
     },
     "execution_count": 350,
     "metadata": {},
     "output_type": "execute_result"
    }
   ],
   "source": [
    "A.pop() # first element is removed by default"
   ]
  },
  {
   "cell_type": "code",
   "execution_count": 352,
   "id": "33ba303b",
   "metadata": {},
   "outputs": [],
   "source": [
    "A.remove(9)"
   ]
  },
  {
   "cell_type": "code",
   "execution_count": 353,
   "id": "496793cf",
   "metadata": {},
   "outputs": [
    {
     "data": {
      "text/plain": [
       "{2, 3, 4, 5, 'hello', 'hey', 'hi'}"
      ]
     },
     "execution_count": 353,
     "metadata": {},
     "output_type": "execute_result"
    }
   ],
   "source": [
    "A"
   ]
  },
  {
   "cell_type": "code",
   "execution_count": 354,
   "id": "17f37119",
   "metadata": {
    "collapsed": true
   },
   "outputs": [
    {
     "ename": "KeyError",
     "evalue": "9",
     "output_type": "error",
     "traceback": [
      "\u001b[1;31m---------------------------------------------------------------------------\u001b[0m",
      "\u001b[1;31mKeyError\u001b[0m                                  Traceback (most recent call last)",
      "Input \u001b[1;32mIn [354]\u001b[0m, in \u001b[0;36m<cell line: 1>\u001b[1;34m()\u001b[0m\n\u001b[1;32m----> 1\u001b[0m \u001b[43mA\u001b[49m\u001b[38;5;241;43m.\u001b[39;49m\u001b[43mremove\u001b[49m\u001b[43m(\u001b[49m\u001b[38;5;241;43m9\u001b[39;49m\u001b[43m)\u001b[49m\n",
      "\u001b[1;31mKeyError\u001b[0m: 9"
     ]
    }
   ],
   "source": [
    "A.remove(9)"
   ]
  },
  {
   "cell_type": "code",
   "execution_count": 356,
   "id": "749b85cc",
   "metadata": {},
   "outputs": [],
   "source": [
    "A.difference_update(B)"
   ]
  },
  {
   "cell_type": "code",
   "execution_count": 357,
   "id": "2b3d476a",
   "metadata": {},
   "outputs": [
    {
     "data": {
      "text/plain": [
       "{'hello', 'hey'}"
      ]
     },
     "execution_count": 357,
     "metadata": {},
     "output_type": "execute_result"
    }
   ],
   "source": [
    "A"
   ]
  },
  {
   "cell_type": "code",
   "execution_count": 359,
   "id": "730efa6e",
   "metadata": {},
   "outputs": [],
   "source": [
    "A.intersection_update(B) # {PI}"
   ]
  },
  {
   "cell_type": "code",
   "execution_count": 361,
   "id": "6350a1c2",
   "metadata": {},
   "outputs": [
    {
     "data": {
      "text/plain": [
       "{2, 3, 4, 5, 6, 9, 'HI', 'data', 'hi', 'python'}"
      ]
     },
     "execution_count": 361,
     "metadata": {},
     "output_type": "execute_result"
    }
   ],
   "source": [
    "A.union(B)"
   ]
  },
  {
   "cell_type": "code",
   "execution_count": 362,
   "id": "14a35307",
   "metadata": {
    "collapsed": true
   },
   "outputs": [
    {
     "data": {
      "text/plain": [
       "['__and__',\n",
       " '__class__',\n",
       " '__class_getitem__',\n",
       " '__contains__',\n",
       " '__delattr__',\n",
       " '__dir__',\n",
       " '__doc__',\n",
       " '__eq__',\n",
       " '__format__',\n",
       " '__ge__',\n",
       " '__getattribute__',\n",
       " '__gt__',\n",
       " '__hash__',\n",
       " '__iand__',\n",
       " '__init__',\n",
       " '__init_subclass__',\n",
       " '__ior__',\n",
       " '__isub__',\n",
       " '__iter__',\n",
       " '__ixor__',\n",
       " '__le__',\n",
       " '__len__',\n",
       " '__lt__',\n",
       " '__ne__',\n",
       " '__new__',\n",
       " '__or__',\n",
       " '__rand__',\n",
       " '__reduce__',\n",
       " '__reduce_ex__',\n",
       " '__repr__',\n",
       " '__ror__',\n",
       " '__rsub__',\n",
       " '__rxor__',\n",
       " '__setattr__',\n",
       " '__sizeof__',\n",
       " '__str__',\n",
       " '__sub__',\n",
       " '__subclasshook__',\n",
       " '__xor__',\n",
       " 'add',\n",
       " 'clear',\n",
       " 'copy',\n",
       " 'difference',\n",
       " 'difference_update',\n",
       " 'discard',\n",
       " 'intersection',\n",
       " 'intersection_update',\n",
       " 'isdisjoint',\n",
       " 'issubset',\n",
       " 'issuperset',\n",
       " 'pop',\n",
       " 'remove',\n",
       " 'symmetric_difference',\n",
       " 'symmetric_difference_update',\n",
       " 'union',\n",
       " 'update']"
      ]
     },
     "execution_count": 362,
     "metadata": {},
     "output_type": "execute_result"
    }
   ],
   "source": [
    "dir(set)"
   ]
  },
  {
   "cell_type": "code",
   "execution_count": 363,
   "id": "f9e4e785",
   "metadata": {},
   "outputs": [],
   "source": [
    "B.discard('HI')"
   ]
  },
  {
   "cell_type": "code",
   "execution_count": 364,
   "id": "29d903f5",
   "metadata": {},
   "outputs": [
    {
     "data": {
      "text/plain": [
       "{2, 3, 4, 5, 6, 9, 'data', 'hi', 'python'}"
      ]
     },
     "execution_count": 364,
     "metadata": {},
     "output_type": "execute_result"
    }
   ],
   "source": [
    "B"
   ]
  },
  {
   "cell_type": "code",
   "execution_count": 365,
   "id": "c819e843",
   "metadata": {},
   "outputs": [],
   "source": [
    "B.discard(8) # non-existed"
   ]
  },
  {
   "cell_type": "code",
   "execution_count": 366,
   "id": "f8ae395c",
   "metadata": {},
   "outputs": [],
   "source": [
    "B.add('new')"
   ]
  },
  {
   "cell_type": "code",
   "execution_count": 367,
   "id": "c2bc57cb",
   "metadata": {
    "collapsed": true
   },
   "outputs": [
    {
     "data": {
      "text/plain": [
       "{2, 3, 4, 5, 6, 9, 'data', 'hi', 'new', 'python'}"
      ]
     },
     "execution_count": 367,
     "metadata": {},
     "output_type": "execute_result"
    }
   ],
   "source": [
    "B"
   ]
  },
  {
   "cell_type": "code",
   "execution_count": null,
   "id": "a2743505",
   "metadata": {},
   "outputs": [],
   "source": []
  }
 ],
 "metadata": {
  "kernelspec": {
   "display_name": "Python 3 (ipykernel)",
   "language": "python",
   "name": "python3"
  },
  "language_info": {
   "codemirror_mode": {
    "name": "ipython",
    "version": 3
   },
   "file_extension": ".py",
   "mimetype": "text/x-python",
   "name": "python",
   "nbconvert_exporter": "python",
   "pygments_lexer": "ipython3",
   "version": "3.9.12"
  }
 },
 "nbformat": 4,
 "nbformat_minor": 5
}
