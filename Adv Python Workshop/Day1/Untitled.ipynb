{
 "cells": [
  {
   "cell_type": "code",
   "execution_count": 1,
   "id": "c8b0794a",
   "metadata": {},
   "outputs": [],
   "source": [
    "import math"
   ]
  },
  {
   "cell_type": "code",
   "execution_count": 2,
   "id": "ee078786",
   "metadata": {
    "collapsed": true
   },
   "outputs": [
    {
     "data": {
      "text/plain": [
       "['__doc__',\n",
       " '__loader__',\n",
       " '__name__',\n",
       " '__package__',\n",
       " '__spec__',\n",
       " 'acos',\n",
       " 'acosh',\n",
       " 'asin',\n",
       " 'asinh',\n",
       " 'atan',\n",
       " 'atan2',\n",
       " 'atanh',\n",
       " 'ceil',\n",
       " 'comb',\n",
       " 'copysign',\n",
       " 'cos',\n",
       " 'cosh',\n",
       " 'degrees',\n",
       " 'dist',\n",
       " 'e',\n",
       " 'erf',\n",
       " 'erfc',\n",
       " 'exp',\n",
       " 'expm1',\n",
       " 'fabs',\n",
       " 'factorial',\n",
       " 'floor',\n",
       " 'fmod',\n",
       " 'frexp',\n",
       " 'fsum',\n",
       " 'gamma',\n",
       " 'gcd',\n",
       " 'hypot',\n",
       " 'inf',\n",
       " 'isclose',\n",
       " 'isfinite',\n",
       " 'isinf',\n",
       " 'isnan',\n",
       " 'isqrt',\n",
       " 'lcm',\n",
       " 'ldexp',\n",
       " 'lgamma',\n",
       " 'log',\n",
       " 'log10',\n",
       " 'log1p',\n",
       " 'log2',\n",
       " 'modf',\n",
       " 'nan',\n",
       " 'nextafter',\n",
       " 'perm',\n",
       " 'pi',\n",
       " 'pow',\n",
       " 'prod',\n",
       " 'radians',\n",
       " 'remainder',\n",
       " 'sin',\n",
       " 'sinh',\n",
       " 'sqrt',\n",
       " 'tan',\n",
       " 'tanh',\n",
       " 'tau',\n",
       " 'trunc',\n",
       " 'ulp']"
      ]
     },
     "execution_count": 2,
     "metadata": {},
     "output_type": "execute_result"
    }
   ],
   "source": [
    "dir(math)"
   ]
  },
  {
   "cell_type": "code",
   "execution_count": 3,
   "id": "e092d5d3",
   "metadata": {
    "collapsed": true
   },
   "outputs": [
    {
     "data": {
      "text/plain": [
       "5.0"
      ]
     },
     "execution_count": 3,
     "metadata": {},
     "output_type": "execute_result"
    }
   ],
   "source": [
    "math.sqrt(25)"
   ]
  },
  {
   "cell_type": "code",
   "execution_count": 4,
   "id": "8fc30eba",
   "metadata": {
    "collapsed": true
   },
   "outputs": [
    {
     "data": {
      "text/plain": [
       "1296.0"
      ]
     },
     "execution_count": 4,
     "metadata": {},
     "output_type": "execute_result"
    }
   ],
   "source": [
    "math.pow(6,4)"
   ]
  },
  {
   "cell_type": "code",
   "execution_count": 7,
   "id": "78c16d2c",
   "metadata": {
    "collapsed": true
   },
   "outputs": [
    {
     "data": {
      "text/plain": [
       "3.141592653589793"
      ]
     },
     "execution_count": 7,
     "metadata": {},
     "output_type": "execute_result"
    }
   ],
   "source": [
    "math.pi"
   ]
  },
  {
   "cell_type": "code",
   "execution_count": 8,
   "id": "84e2021e",
   "metadata": {
    "collapsed": true
   },
   "outputs": [
    {
     "data": {
      "text/plain": [
       "1"
      ]
     },
     "execution_count": 8,
     "metadata": {},
     "output_type": "execute_result"
    }
   ],
   "source": [
    "math.gcd(9,19)"
   ]
  },
  {
   "cell_type": "code",
   "execution_count": 9,
   "id": "ef933e6c",
   "metadata": {},
   "outputs": [],
   "source": [
    "import random"
   ]
  },
  {
   "cell_type": "code",
   "execution_count": 10,
   "id": "bc632c2b",
   "metadata": {
    "collapsed": true
   },
   "outputs": [
    {
     "data": {
      "text/plain": [
       "['BPF',\n",
       " 'LOG4',\n",
       " 'NV_MAGICCONST',\n",
       " 'RECIP_BPF',\n",
       " 'Random',\n",
       " 'SG_MAGICCONST',\n",
       " 'SystemRandom',\n",
       " 'TWOPI',\n",
       " '_Sequence',\n",
       " '_Set',\n",
       " '__all__',\n",
       " '__builtins__',\n",
       " '__cached__',\n",
       " '__doc__',\n",
       " '__file__',\n",
       " '__loader__',\n",
       " '__name__',\n",
       " '__package__',\n",
       " '__spec__',\n",
       " '_accumulate',\n",
       " '_acos',\n",
       " '_bisect',\n",
       " '_ceil',\n",
       " '_cos',\n",
       " '_e',\n",
       " '_exp',\n",
       " '_floor',\n",
       " '_inst',\n",
       " '_log',\n",
       " '_os',\n",
       " '_pi',\n",
       " '_random',\n",
       " '_repeat',\n",
       " '_sha512',\n",
       " '_sin',\n",
       " '_sqrt',\n",
       " '_test',\n",
       " '_test_generator',\n",
       " '_urandom',\n",
       " '_warn',\n",
       " 'betavariate',\n",
       " 'choice',\n",
       " 'choices',\n",
       " 'expovariate',\n",
       " 'gammavariate',\n",
       " 'gauss',\n",
       " 'getrandbits',\n",
       " 'getstate',\n",
       " 'lognormvariate',\n",
       " 'normalvariate',\n",
       " 'paretovariate',\n",
       " 'randbytes',\n",
       " 'randint',\n",
       " 'random',\n",
       " 'randrange',\n",
       " 'sample',\n",
       " 'seed',\n",
       " 'setstate',\n",
       " 'shuffle',\n",
       " 'triangular',\n",
       " 'uniform',\n",
       " 'vonmisesvariate',\n",
       " 'weibullvariate']"
      ]
     },
     "execution_count": 10,
     "metadata": {},
     "output_type": "execute_result"
    }
   ],
   "source": [
    "dir(random)"
   ]
  },
  {
   "cell_type": "markdown",
   "id": "0ce43405",
   "metadata": {},
   "source": [
    "#### Numpy\n",
    "- One of the most efficient modules of data science used for scientific computation\n",
    "- Numpy stands for NumericalPython\n",
    "- numpy is the module \n",
    "- we can gather/collect the data and arranged in array format\n"
   ]
  },
  {
   "cell_type": "code",
   "execution_count": 11,
   "id": "a09a7a8f",
   "metadata": {},
   "outputs": [],
   "source": [
    "import numpy as np"
   ]
  },
  {
   "cell_type": "code",
   "execution_count": 13,
   "id": "78dc8ca3",
   "metadata": {
    "collapsed": true
   },
   "outputs": [
    {
     "data": {
      "text/plain": [
       "'1.21.5'"
      ]
     },
     "execution_count": 13,
     "metadata": {},
     "output_type": "execute_result"
    }
   ],
   "source": [
    "np.__version__ # version of numpy module"
   ]
  },
  {
   "cell_type": "markdown",
   "id": "c782a2c5",
   "metadata": {},
   "source": [
    "#### array()\n",
    "- we will arrange in array format\n",
    "- matrix format\n",
    "- array is the sub module of numpy\n",
    "- np.array(ele)\n",
    "- array is immutable\n",
    "- homogenous data structure"
   ]
  },
  {
   "cell_type": "markdown",
   "id": "a78f88de",
   "metadata": {},
   "source": [
    "#### array()\n",
    "- numpy.array(data)"
   ]
  },
  {
   "cell_type": "code",
   "execution_count": 16,
   "id": "4ce2a1d4",
   "metadata": {
    "collapsed": true
   },
   "outputs": [
    {
     "name": "stdout",
     "output_type": "stream",
     "text": [
      "string:k a k i na da located at East\n",
      "k a k i na da located at East\n"
     ]
    }
   ],
   "source": [
    "# conversion of string into array\n",
    "st=input(\"string:\")\n",
    "ar=np.array(st)\n",
    "print(ar)"
   ]
  },
  {
   "cell_type": "code",
   "execution_count": 17,
   "id": "ff717fbd",
   "metadata": {
    "collapsed": true
   },
   "outputs": [
    {
     "data": {
      "text/plain": [
       "array('k a k i na da located at East', dtype='<U29')"
      ]
     },
     "execution_count": 17,
     "metadata": {},
     "output_type": "execute_result"
    }
   ],
   "source": [
    "ar"
   ]
  },
  {
   "cell_type": "code",
   "execution_count": 19,
   "id": "7432d8c0",
   "metadata": {
    "collapsed": true
   },
   "outputs": [
    {
     "name": "stdout",
     "output_type": "stream",
     "text": [
      "[0 1 2 3 4 5 6 7 8 9]\n"
     ]
    }
   ],
   "source": [
    "# conversion of range(values) into the array\n",
    "rn=range(10)\n",
    "print(np.array(rn))"
   ]
  },
  {
   "cell_type": "code",
   "execution_count": 23,
   "id": "8402dcdb",
   "metadata": {},
   "outputs": [
    {
     "name": "stdout",
     "output_type": "stream",
     "text": [
      "[10 11 12 13 14 15 16 17 18 19 20 21 22 23 24 25 26 27]\n"
     ]
    }
   ],
   "source": [
    "rn=range(10,28)\n",
    "print(np.array(rn)) # 1d array:row matrix"
   ]
  },
  {
   "cell_type": "code",
   "execution_count": 24,
   "id": "d4f50e65",
   "metadata": {},
   "outputs": [
    {
     "name": "stdout",
     "output_type": "stream",
     "text": [
      "[10 15 20 25 30 35]\n"
     ]
    }
   ],
   "source": [
    "print(np.array(range(10,40,5)))"
   ]
  },
  {
   "cell_type": "code",
   "execution_count": 25,
   "id": "c6aec94b",
   "metadata": {
    "collapsed": true
   },
   "outputs": [
    {
     "data": {
      "text/plain": [
       "array(['1', '3', 'python', '4', '5', 'hi', 'hey'], dtype='<U11')"
      ]
     },
     "execution_count": 25,
     "metadata": {},
     "output_type": "execute_result"
    }
   ],
   "source": [
    "# convert the tuple/list/set into array\n",
    "tp=(1,3,'python',4,5,'hi','hey')\n",
    "np.array(tp)"
   ]
  },
  {
   "cell_type": "code",
   "execution_count": 28,
   "id": "b7c123ab",
   "metadata": {},
   "outputs": [
    {
     "name": "stdout",
     "output_type": "stream",
     "text": [
      "90 65 34 78 23 9 4 6 7 12 \n",
      "[90, 65, 34, 78, 23, 9, 4, 6, 7, 12]\n",
      "[90 65 34 78 23  9  4  6  7 12]\n"
     ]
    }
   ],
   "source": [
    "li=list(map(int,input().split()))\n",
    "ar=np.array(li)\n",
    "print(li) # list\n",
    "print(ar) # nd array"
   ]
  },
  {
   "cell_type": "code",
   "execution_count": 29,
   "id": "c13fef16",
   "metadata": {},
   "outputs": [],
   "source": [
    "# dict :paired @ 2d format\n",
    "# array:1d"
   ]
  },
  {
   "cell_type": "code",
   "execution_count": 32,
   "id": "aa33076b",
   "metadata": {
    "collapsed": true
   },
   "outputs": [
    {
     "name": "stdout",
     "output_type": "stream",
     "text": [
      "{65, 34, 4, 6, 7, 9, 12, 78, 23, 90}\n"
     ]
    }
   ],
   "source": [
    "# set\n",
    "s=set(li)\n",
    "sar=np.array(s)\n",
    "print(sar)"
   ]
  },
  {
   "cell_type": "code",
   "execution_count": 33,
   "id": "70b9ce0f",
   "metadata": {},
   "outputs": [
    {
     "data": {
      "text/plain": [
       "numpy.ndarray"
      ]
     },
     "execution_count": 33,
     "metadata": {},
     "output_type": "execute_result"
    }
   ],
   "source": [
    "type(sar)"
   ]
  },
  {
   "cell_type": "code",
   "execution_count": 34,
   "id": "a2f5ef65",
   "metadata": {},
   "outputs": [],
   "source": [
    "# Ndimensional matrix\n"
   ]
  },
  {
   "cell_type": "code",
   "execution_count": 35,
   "id": "1f2d9233",
   "metadata": {
    "collapsed": true
   },
   "outputs": [
    {
     "name": "stdout",
     "output_type": "stream",
     "text": [
      "[[1 2]\n",
      " [3 4]\n",
      " [5 6]]\n"
     ]
    }
   ],
   "source": [
    "# list of lists/tuples\n",
    "mul=[[1,2],[3,4],[5,6]]\n",
    "alr=np.array(mul)\n",
    "print(alr) # 2d array:3x2"
   ]
  },
  {
   "cell_type": "code",
   "execution_count": 36,
   "id": "45412a15",
   "metadata": {
    "collapsed": true
   },
   "outputs": [
    {
     "name": "stdout",
     "output_type": "stream",
     "text": [
      "[['3' '4' '5']\n",
      " ['a' 'e' 'h']]\n"
     ]
    }
   ],
   "source": [
    "tps=([3,4,5],['a','e','h'])\n",
    "print(np.array(tps))"
   ]
  },
  {
   "cell_type": "code",
   "execution_count": 37,
   "id": "acc36fb0",
   "metadata": {
    "collapsed": true
   },
   "outputs": [
    {
     "data": {
      "text/plain": [
       "array([[ 9., 12., 34.],\n",
       "       [89., 45., 67.],\n",
       "       [ 9., 34., 15.]])"
      ]
     },
     "execution_count": 37,
     "metadata": {},
     "output_type": "execute_result"
    }
   ],
   "source": [
    "# create 3x3 \n",
    "mt=np.array([[9,12,34],[89,45,67],(9,34,15)],dtype='float')\n",
    "mt"
   ]
  },
  {
   "cell_type": "code",
   "execution_count": 39,
   "id": "cd1fe790",
   "metadata": {
    "collapsed": true
   },
   "outputs": [
    {
     "data": {
      "text/plain": [
       "2"
      ]
     },
     "execution_count": 39,
     "metadata": {},
     "output_type": "execute_result"
    }
   ],
   "source": [
    "mt.ndim # to check the dimensions "
   ]
  },
  {
   "cell_type": "code",
   "execution_count": 40,
   "id": "43ca48de",
   "metadata": {
    "collapsed": true
   },
   "outputs": [
    {
     "data": {
      "text/plain": [
       "dtype('float64')"
      ]
     },
     "execution_count": 40,
     "metadata": {},
     "output_type": "execute_result"
    }
   ],
   "source": [
    "mt.dtype #data type of each item"
   ]
  },
  {
   "cell_type": "code",
   "execution_count": 41,
   "id": "6dbaf808",
   "metadata": {
    "collapsed": true
   },
   "outputs": [
    {
     "data": {
      "text/plain": [
       "8"
      ]
     },
     "execution_count": 41,
     "metadata": {},
     "output_type": "execute_result"
    }
   ],
   "source": [
    "mt.itemsize # item size of each item"
   ]
  },
  {
   "cell_type": "code",
   "execution_count": 42,
   "id": "1ddce474",
   "metadata": {
    "collapsed": true
   },
   "outputs": [
    {
     "data": {
      "text/plain": [
       "(3, 3)"
      ]
     },
     "execution_count": 42,
     "metadata": {},
     "output_type": "execute_result"
    }
   ],
   "source": [
    "mt.shape # (rows,col)"
   ]
  },
  {
   "cell_type": "code",
   "execution_count": 43,
   "id": "c6bbf90b",
   "metadata": {
    "collapsed": true
   },
   "outputs": [
    {
     "data": {
      "text/plain": [
       "9"
      ]
     },
     "execution_count": 43,
     "metadata": {},
     "output_type": "execute_result"
    }
   ],
   "source": [
    "mt.size # total no.of elements"
   ]
  },
  {
   "cell_type": "code",
   "execution_count": 45,
   "id": "e1487b10",
   "metadata": {},
   "outputs": [],
   "source": [
    "#### multi dimensional\n",
    "#we can create 32 dimensional array using numpy"
   ]
  },
  {
   "cell_type": "code",
   "execution_count": 46,
   "id": "86024db5",
   "metadata": {
    "collapsed": true
   },
   "outputs": [
    {
     "data": {
      "text/plain": [
       "array([[ 9., 12., 34.],\n",
       "       [89., 45., 67.],\n",
       "       [ 9., 34., 15.]])"
      ]
     },
     "execution_count": 46,
     "metadata": {},
     "output_type": "execute_result"
    }
   ],
   "source": [
    "mt"
   ]
  },
  {
   "cell_type": "code",
   "execution_count": 52,
   "id": "0b8599e2",
   "metadata": {
    "collapsed": true
   },
   "outputs": [
    {
     "name": "stdout",
     "output_type": "stream",
     "text": [
      "[[[[['1' '2' '3' '4' '5']]]]]\n"
     ]
    }
   ],
   "source": [
    "new=np.array([1,2,3,4,5],ndmin=5,\n",
    "             dtype='str')\n",
    "print(new)"
   ]
  },
  {
   "cell_type": "code",
   "execution_count": 53,
   "id": "220a3132",
   "metadata": {},
   "outputs": [],
   "source": [
    "# identity matrix\n",
    "# ones\n",
    "# zeros\n",
    "# full\n",
    "# fill\n",
    "# diag\n",
    "# linspace"
   ]
  },
  {
   "cell_type": "code",
   "execution_count": 55,
   "id": "9a89126e",
   "metadata": {
    "collapsed": true
   },
   "outputs": [
    {
     "data": {
      "text/plain": [
       "array([[1., 0., 0.],\n",
       "       [0., 1., 0.],\n",
       "       [0., 0., 1.]])"
      ]
     },
     "execution_count": 55,
     "metadata": {},
     "output_type": "execute_result"
    }
   ],
   "source": [
    "eye=np.eye((3)) # identity matrix\n",
    "eye"
   ]
  },
  {
   "cell_type": "code",
   "execution_count": 57,
   "id": "be23873d",
   "metadata": {
    "collapsed": true
   },
   "outputs": [
    {
     "data": {
      "text/plain": [
       "array([[1., 0., 0., 0.],\n",
       "       [0., 1., 0., 0.],\n",
       "       [0., 0., 1., 0.]])"
      ]
     },
     "execution_count": 57,
     "metadata": {},
     "output_type": "execute_result"
    }
   ],
   "source": [
    "eye=np.eye((3),4) # identity matrix\n",
    "eye"
   ]
  },
  {
   "cell_type": "code",
   "execution_count": 60,
   "id": "af156946",
   "metadata": {
    "collapsed": true
   },
   "outputs": [
    {
     "data": {
      "text/plain": [
       "array([1, 1, 1])"
      ]
     },
     "execution_count": 60,
     "metadata": {},
     "output_type": "execute_result"
    }
   ],
   "source": [
    "# ones matrix\n",
    "one=np.ones(3,dtype='int')\n",
    "one"
   ]
  },
  {
   "cell_type": "code",
   "execution_count": 62,
   "id": "e1c3d6fe",
   "metadata": {
    "collapsed": true
   },
   "outputs": [
    {
     "data": {
      "text/plain": [
       "array([[1., 1., 1.],\n",
       "       [1., 1., 1.],\n",
       "       [1., 1., 1.]])"
      ]
     },
     "execution_count": 62,
     "metadata": {},
     "output_type": "execute_result"
    }
   ],
   "source": [
    "# ones matrix\n",
    "one=np.ones((3,3)) # ones matrix\n",
    "one"
   ]
  },
  {
   "cell_type": "code",
   "execution_count": 63,
   "id": "1ba46f0f",
   "metadata": {
    "collapsed": true
   },
   "outputs": [
    {
     "data": {
      "text/plain": [
       "array([0., 0., 0.])"
      ]
     },
     "execution_count": 63,
     "metadata": {},
     "output_type": "execute_result"
    }
   ],
   "source": [
    "# zeros matrix\n",
    "z=np.zeros(3)\n",
    "z"
   ]
  },
  {
   "cell_type": "code",
   "execution_count": 64,
   "id": "df74ecd2",
   "metadata": {
    "collapsed": true
   },
   "outputs": [
    {
     "data": {
      "text/plain": [
       "array([[0., 0., 0.],\n",
       "       [0., 0., 0.],\n",
       "       [0., 0., 0.],\n",
       "       [0., 0., 0.]])"
      ]
     },
     "execution_count": 64,
     "metadata": {},
     "output_type": "execute_result"
    }
   ],
   "source": [
    "# zeros matrix\n",
    "z=np.zeros((4,3))\n",
    "z"
   ]
  },
  {
   "cell_type": "code",
   "execution_count": 69,
   "id": "58e905b5",
   "metadata": {
    "collapsed": true
   },
   "outputs": [
    {
     "data": {
      "text/plain": [
       "array(['hi', 'hi', 'hi'], dtype='<U2')"
      ]
     },
     "execution_count": 69,
     "metadata": {},
     "output_type": "execute_result"
    }
   ],
   "source": [
    "# full and fill\n",
    "fl=np.full((3),'hi') # row with ele\n",
    "fl"
   ]
  },
  {
   "cell_type": "code",
   "execution_count": 70,
   "id": "c74357a3",
   "metadata": {
    "collapsed": true
   },
   "outputs": [
    {
     "data": {
      "text/plain": [
       "array([[5, 5, 5],\n",
       "       [5, 5, 5],\n",
       "       [5, 5, 5],\n",
       "       [5, 5, 5]])"
      ]
     },
     "execution_count": 70,
     "metadata": {},
     "output_type": "execute_result"
    }
   ],
   "source": [
    "# full and fill\n",
    "fl=np.full((4,3),5) # shape with ele\n",
    "fl"
   ]
  },
  {
   "cell_type": "code",
   "execution_count": 79,
   "id": "50288afb",
   "metadata": {},
   "outputs": [],
   "source": [
    "fl.fill(9)"
   ]
  },
  {
   "cell_type": "code",
   "execution_count": 78,
   "id": "52bdc6c5",
   "metadata": {
    "collapsed": true
   },
   "outputs": [
    {
     "ename": "ValueError",
     "evalue": "invalid literal for int() with base 10: 'hi'",
     "output_type": "error",
     "traceback": [
      "\u001b[1;31m---------------------------------------------------------------------------\u001b[0m",
      "\u001b[1;31mValueError\u001b[0m                                Traceback (most recent call last)",
      "Input \u001b[1;32mIn [78]\u001b[0m, in \u001b[0;36m<cell line: 1>\u001b[1;34m()\u001b[0m\n\u001b[1;32m----> 1\u001b[0m \u001b[43mfl\u001b[49m\u001b[38;5;241;43m.\u001b[39;49m\u001b[43mfill\u001b[49m\u001b[43m(\u001b[49m\u001b[38;5;124;43m'\u001b[39;49m\u001b[38;5;124;43mhi\u001b[39;49m\u001b[38;5;124;43m'\u001b[39;49m\u001b[43m)\u001b[49m\n",
      "\u001b[1;31mValueError\u001b[0m: invalid literal for int() with base 10: 'hi'"
     ]
    }
   ],
   "source": [
    "fl.fill('hi') # doesn't support"
   ]
  },
  {
   "cell_type": "code",
   "execution_count": 80,
   "id": "9fb7657f",
   "metadata": {
    "collapsed": true
   },
   "outputs": [
    {
     "data": {
      "text/plain": [
       "array([[9, 9, 9],\n",
       "       [9, 9, 9],\n",
       "       [9, 9, 9],\n",
       "       [9, 9, 9]])"
      ]
     },
     "execution_count": 80,
     "metadata": {},
     "output_type": "execute_result"
    }
   ],
   "source": [
    "fl"
   ]
  },
  {
   "cell_type": "markdown",
   "id": "d8d63ed3",
   "metadata": {},
   "source": [
    "##### arange()\n",
    "- creates the ndimensional array with formal values starts from 0\n",
    "- np.arange()"
   ]
  },
  {
   "cell_type": "code",
   "execution_count": 83,
   "id": "291458ea",
   "metadata": {
    "collapsed": true
   },
   "outputs": [
    {
     "name": "stdout",
     "output_type": "stream",
     "text": [
      "[ 0  1  2  3  4  5  6  7  8  9 10 11 12 13 14 15 16 17]\n"
     ]
    }
   ],
   "source": [
    "arn=np.arange(18) # works similar to range\n",
    "print(arn)"
   ]
  },
  {
   "cell_type": "code",
   "execution_count": 84,
   "id": "b0cc98fd",
   "metadata": {
    "collapsed": true
   },
   "outputs": [
    {
     "data": {
      "text/plain": [
       "numpy.ndarray"
      ]
     },
     "execution_count": 84,
     "metadata": {},
     "output_type": "execute_result"
    }
   ],
   "source": [
    "type(arn)"
   ]
  },
  {
   "cell_type": "code",
   "execution_count": 85,
   "id": "eac3e544",
   "metadata": {
    "collapsed": true
   },
   "outputs": [
    {
     "name": "stdout",
     "output_type": "stream",
     "text": [
      "[10 11 12 13 14 15 16 17 18 19 20 21 22 23 24 25 26 27 28 29 30 31 32 33\n",
      " 34 35 36 37 38 39 40 41 42 43 44]\n"
     ]
    }
   ],
   "source": [
    "print(np.arange(10,45))"
   ]
  },
  {
   "cell_type": "code",
   "execution_count": 92,
   "id": "b4c99e1c",
   "metadata": {
    "collapsed": true
   },
   "outputs": [
    {
     "ename": "ValueError",
     "evalue": "When changing to a larger dtype, its size must be a divisor of the total size in bytes of the last axis of the array.",
     "output_type": "error",
     "traceback": [
      "\u001b[1;31m---------------------------------------------------------------------------\u001b[0m",
      "\u001b[1;31mValueError\u001b[0m                                Traceback (most recent call last)",
      "Input \u001b[1;32mIn [92]\u001b[0m, in \u001b[0;36m<cell line: 2>\u001b[1;34m()\u001b[0m\n\u001b[0;32m      1\u001b[0m rn\u001b[38;5;241m=\u001b[39mnp\u001b[38;5;241m.\u001b[39marange(\u001b[38;5;241m10\u001b[39m,\u001b[38;5;241m45\u001b[39m,\u001b[38;5;241m5\u001b[39m)\n\u001b[1;32m----> 2\u001b[0m rn\u001b[38;5;241m.\u001b[39mdtype\u001b[38;5;241m=\u001b[39m\u001b[38;5;124m'\u001b[39m\u001b[38;5;124mfloat\u001b[39m\u001b[38;5;124m'\u001b[39m\n",
      "\u001b[1;31mValueError\u001b[0m: When changing to a larger dtype, its size must be a divisor of the total size in bytes of the last axis of the array."
     ]
    }
   ],
   "source": [
    "rn=np.arange(10,45,5)\n",
    "rn.dtype='float'"
   ]
  },
  {
   "cell_type": "code",
   "execution_count": 94,
   "id": "b3213e0a",
   "metadata": {},
   "outputs": [],
   "source": [
    "ar.dtype='float'"
   ]
  },
  {
   "cell_type": "code",
   "execution_count": 95,
   "id": "79c7117b",
   "metadata": {
    "collapsed": true
   },
   "outputs": [
    {
     "data": {
      "text/plain": [
       "array([1.37929726e-312, 1.65515672e-312, 1.90979621e-313, 1.27319747e-313,\n",
       "       2.54639495e-313])"
      ]
     },
     "execution_count": 95,
     "metadata": {},
     "output_type": "execute_result"
    }
   ],
   "source": [
    "ar"
   ]
  },
  {
   "cell_type": "code",
   "execution_count": 89,
   "id": "2d1ce4ac",
   "metadata": {
    "collapsed": true
   },
   "outputs": [
    {
     "name": "stdout",
     "output_type": "stream",
     "text": [
      "Help on built-in function arange in module numpy:\n",
      "\n",
      "arange(...)\n",
      "    arange([start,] stop[, step,], dtype=None, *, like=None)\n",
      "    \n",
      "    Return evenly spaced values within a given interval.\n",
      "    \n",
      "    Values are generated within the half-open interval ``[start, stop)``\n",
      "    (in other words, the interval including `start` but excluding `stop`).\n",
      "    For integer arguments the function is equivalent to the Python built-in\n",
      "    `range` function, but returns an ndarray rather than a list.\n",
      "    \n",
      "    When using a non-integer step, such as 0.1, the results will often not\n",
      "    be consistent.  It is better to use `numpy.linspace` for these cases.\n",
      "    \n",
      "    Parameters\n",
      "    ----------\n",
      "    start : integer or real, optional\n",
      "        Start of interval.  The interval includes this value.  The default\n",
      "        start value is 0.\n",
      "    stop : integer or real\n",
      "        End of interval.  The interval does not include this value, except\n",
      "        in some cases where `step` is not an integer and floating point\n",
      "        round-off affects the length of `out`.\n",
      "    step : integer or real, optional\n",
      "        Spacing between values.  For any output `out`, this is the distance\n",
      "        between two adjacent values, ``out[i+1] - out[i]``.  The default\n",
      "        step size is 1.  If `step` is specified as a position argument,\n",
      "        `start` must also be given.\n",
      "    dtype : dtype\n",
      "        The type of the output array.  If `dtype` is not given, infer the data\n",
      "        type from the other input arguments.\n",
      "    like : array_like\n",
      "        Reference object to allow the creation of arrays which are not\n",
      "        NumPy arrays. If an array-like passed in as ``like`` supports\n",
      "        the ``__array_function__`` protocol, the result will be defined\n",
      "        by it. In this case, it ensures the creation of an array object\n",
      "        compatible with that passed in via this argument.\n",
      "    \n",
      "        .. versionadded:: 1.20.0\n",
      "    \n",
      "    Returns\n",
      "    -------\n",
      "    arange : ndarray\n",
      "        Array of evenly spaced values.\n",
      "    \n",
      "        For floating point arguments, the length of the result is\n",
      "        ``ceil((stop - start)/step)``.  Because of floating point overflow,\n",
      "        this rule may result in the last element of `out` being greater\n",
      "        than `stop`.\n",
      "    \n",
      "    See Also\n",
      "    --------\n",
      "    numpy.linspace : Evenly spaced numbers with careful handling of endpoints.\n",
      "    numpy.ogrid: Arrays of evenly spaced numbers in N-dimensions.\n",
      "    numpy.mgrid: Grid-shaped arrays of evenly spaced numbers in N-dimensions.\n",
      "    \n",
      "    Examples\n",
      "    --------\n",
      "    >>> np.arange(3)\n",
      "    array([0, 1, 2])\n",
      "    >>> np.arange(3.0)\n",
      "    array([ 0.,  1.,  2.])\n",
      "    >>> np.arange(3,7)\n",
      "    array([3, 4, 5, 6])\n",
      "    >>> np.arange(3,7,2)\n",
      "    array([3, 5])\n",
      "\n"
     ]
    }
   ],
   "source": [
    "help(np.arange)"
   ]
  },
  {
   "cell_type": "code",
   "execution_count": 90,
   "id": "a91a6103",
   "metadata": {
    "collapsed": true
   },
   "outputs": [
    {
     "name": "stdout",
     "output_type": "stream",
     "text": [
      "Help on built-in function array in module numpy:\n",
      "\n",
      "array(...)\n",
      "    array(object, dtype=None, *, copy=True, order='K', subok=False, ndmin=0,\n",
      "          like=None)\n",
      "    \n",
      "    Create an array.\n",
      "    \n",
      "    Parameters\n",
      "    ----------\n",
      "    object : array_like\n",
      "        An array, any object exposing the array interface, an object whose\n",
      "        __array__ method returns an array, or any (nested) sequence.\n",
      "    dtype : data-type, optional\n",
      "        The desired data-type for the array.  If not given, then the type will\n",
      "        be determined as the minimum type required to hold the objects in the\n",
      "        sequence.\n",
      "    copy : bool, optional\n",
      "        If true (default), then the object is copied.  Otherwise, a copy will\n",
      "        only be made if __array__ returns a copy, if obj is a nested sequence,\n",
      "        or if a copy is needed to satisfy any of the other requirements\n",
      "        (`dtype`, `order`, etc.).\n",
      "    order : {'K', 'A', 'C', 'F'}, optional\n",
      "        Specify the memory layout of the array. If object is not an array, the\n",
      "        newly created array will be in C order (row major) unless 'F' is\n",
      "        specified, in which case it will be in Fortran order (column major).\n",
      "        If object is an array the following holds.\n",
      "    \n",
      "        ===== ========= ===================================================\n",
      "        order  no copy                     copy=True\n",
      "        ===== ========= ===================================================\n",
      "        'K'   unchanged F & C order preserved, otherwise most similar order\n",
      "        'A'   unchanged F order if input is F and not C, otherwise C order\n",
      "        'C'   C order   C order\n",
      "        'F'   F order   F order\n",
      "        ===== ========= ===================================================\n",
      "    \n",
      "        When ``copy=False`` and a copy is made for other reasons, the result is\n",
      "        the same as if ``copy=True``, with some exceptions for 'A', see the\n",
      "        Notes section. The default order is 'K'.\n",
      "    subok : bool, optional\n",
      "        If True, then sub-classes will be passed-through, otherwise\n",
      "        the returned array will be forced to be a base-class array (default).\n",
      "    ndmin : int, optional\n",
      "        Specifies the minimum number of dimensions that the resulting\n",
      "        array should have.  Ones will be pre-pended to the shape as\n",
      "        needed to meet this requirement.\n",
      "    like : array_like\n",
      "        Reference object to allow the creation of arrays which are not\n",
      "        NumPy arrays. If an array-like passed in as ``like`` supports\n",
      "        the ``__array_function__`` protocol, the result will be defined\n",
      "        by it. In this case, it ensures the creation of an array object\n",
      "        compatible with that passed in via this argument.\n",
      "    \n",
      "        .. versionadded:: 1.20.0\n",
      "    \n",
      "    Returns\n",
      "    -------\n",
      "    out : ndarray\n",
      "        An array object satisfying the specified requirements.\n",
      "    \n",
      "    See Also\n",
      "    --------\n",
      "    empty_like : Return an empty array with shape and type of input.\n",
      "    ones_like : Return an array of ones with shape and type of input.\n",
      "    zeros_like : Return an array of zeros with shape and type of input.\n",
      "    full_like : Return a new array with shape of input filled with value.\n",
      "    empty : Return a new uninitialized array.\n",
      "    ones : Return a new array setting values to one.\n",
      "    zeros : Return a new array setting values to zero.\n",
      "    full : Return a new array of given shape filled with value.\n",
      "    \n",
      "    \n",
      "    Notes\n",
      "    -----\n",
      "    When order is 'A' and `object` is an array in neither 'C' nor 'F' order,\n",
      "    and a copy is forced by a change in dtype, then the order of the result is\n",
      "    not necessarily 'C' as expected. This is likely a bug.\n",
      "    \n",
      "    Examples\n",
      "    --------\n",
      "    >>> np.array([1, 2, 3])\n",
      "    array([1, 2, 3])\n",
      "    \n",
      "    Upcasting:\n",
      "    \n",
      "    >>> np.array([1, 2, 3.0])\n",
      "    array([ 1.,  2.,  3.])\n",
      "    \n",
      "    More than one dimension:\n",
      "    \n",
      "    >>> np.array([[1, 2], [3, 4]])\n",
      "    array([[1, 2],\n",
      "           [3, 4]])\n",
      "    \n",
      "    Minimum dimensions 2:\n",
      "    \n",
      "    >>> np.array([1, 2, 3], ndmin=2)\n",
      "    array([[1, 2, 3]])\n",
      "    \n",
      "    Type provided:\n",
      "    \n",
      "    >>> np.array([1, 2, 3], dtype=complex)\n",
      "    array([ 1.+0.j,  2.+0.j,  3.+0.j])\n",
      "    \n",
      "    Data-type consisting of more than one element:\n",
      "    \n",
      "    >>> x = np.array([(1,2),(3,4)],dtype=[('a','<i4'),('b','<i4')])\n",
      "    >>> x['a']\n",
      "    array([1, 3])\n",
      "    \n",
      "    Creating an array from sub-classes:\n",
      "    \n",
      "    >>> np.array(np.mat('1 2; 3 4'))\n",
      "    array([[1, 2],\n",
      "           [3, 4]])\n",
      "    \n",
      "    >>> np.array(np.mat('1 2; 3 4'), subok=True)\n",
      "    matrix([[1, 2],\n",
      "            [3, 4]])\n",
      "\n"
     ]
    }
   ],
   "source": [
    "help(np.array)"
   ]
  },
  {
   "cell_type": "code",
   "execution_count": 96,
   "id": "d6fd39d2",
   "metadata": {},
   "outputs": [],
   "source": [
    "# linspace \n",
    "# linear space among the interval"
   ]
  },
  {
   "cell_type": "code",
   "execution_count": 97,
   "id": "2b985f92",
   "metadata": {
    "collapsed": true
   },
   "outputs": [
    {
     "data": {
      "text/plain": [
       "array([[9, 9, 9],\n",
       "       [9, 9, 9],\n",
       "       [9, 9, 9],\n",
       "       [9, 9, 9]])"
      ]
     },
     "execution_count": 97,
     "metadata": {},
     "output_type": "execute_result"
    }
   ],
   "source": [
    "fl"
   ]
  },
  {
   "cell_type": "code",
   "execution_count": 104,
   "id": "bd687d51",
   "metadata": {
    "collapsed": true
   },
   "outputs": [
    {
     "name": "stdout",
     "output_type": "stream",
     "text": [
      "[9 9 9]\n",
      "[9 9 9]\n",
      "[9 9 9]\n",
      "[9 9 9]\n"
     ]
    }
   ],
   "source": [
    "for row in fl: # depends rows\n",
    "    print(row) # be default"
   ]
  },
  {
   "cell_type": "code",
   "execution_count": 107,
   "id": "db53b59c",
   "metadata": {
    "collapsed": true
   },
   "outputs": [
    {
     "data": {
      "text/plain": [
       "array([1.        , 1.06122449, 1.12244898, 1.18367347, 1.24489796,\n",
       "       1.30612245, 1.36734694, 1.42857143, 1.48979592, 1.55102041,\n",
       "       1.6122449 , 1.67346939, 1.73469388, 1.79591837, 1.85714286,\n",
       "       1.91836735, 1.97959184, 2.04081633, 2.10204082, 2.16326531,\n",
       "       2.2244898 , 2.28571429, 2.34693878, 2.40816327, 2.46938776,\n",
       "       2.53061224, 2.59183673, 2.65306122, 2.71428571, 2.7755102 ,\n",
       "       2.83673469, 2.89795918, 2.95918367, 3.02040816, 3.08163265,\n",
       "       3.14285714, 3.20408163, 3.26530612, 3.32653061, 3.3877551 ,\n",
       "       3.44897959, 3.51020408, 3.57142857, 3.63265306, 3.69387755,\n",
       "       3.75510204, 3.81632653, 3.87755102, 3.93877551, 4.        ])"
      ]
     },
     "execution_count": 107,
     "metadata": {},
     "output_type": "execute_result"
    }
   ],
   "source": [
    "np.linspace(1,4) # 50 paritions "
   ]
  },
  {
   "cell_type": "code",
   "execution_count": 108,
   "id": "be94d297",
   "metadata": {
    "collapsed": true
   },
   "outputs": [
    {
     "ename": "SyntaxError",
     "evalue": "only single target (not tuple) can be annotated (1148435196.py, line 1)",
     "output_type": "error",
     "traceback": [
      "\u001b[1;36m  Input \u001b[1;32mIn [108]\u001b[1;36m\u001b[0m\n\u001b[1;33m    1,2,3,4 :50paritions\u001b[0m\n\u001b[1;37m    ^\u001b[0m\n\u001b[1;31mSyntaxError\u001b[0m\u001b[1;31m:\u001b[0m only single target (not tuple) can be annotated\n"
     ]
    }
   ],
   "source": [
    "1,2,3,4 :50paritions"
   ]
  },
  {
   "cell_type": "code",
   "execution_count": 109,
   "id": "d9e3edf5",
   "metadata": {
    "collapsed": true
   },
   "outputs": [
    {
     "data": {
      "text/plain": [
       "0.08"
      ]
     },
     "execution_count": 109,
     "metadata": {},
     "output_type": "execute_result"
    }
   ],
   "source": [
    "4/50"
   ]
  },
  {
   "cell_type": "code",
   "execution_count": 110,
   "id": "961e55df",
   "metadata": {},
   "outputs": [
    {
     "name": "stdout",
     "output_type": "stream",
     "text": [
      "[2.  2.5 3.  3.5 4.  4.5 5.  5.5 6. ]\n"
     ]
    }
   ],
   "source": [
    "print(np.linspace(2,6,9))"
   ]
  },
  {
   "cell_type": "code",
   "execution_count": 111,
   "id": "d89fb7e9",
   "metadata": {},
   "outputs": [
    {
     "data": {
      "text/plain": [
       "0.5555555555555556"
      ]
     },
     "execution_count": 111,
     "metadata": {},
     "output_type": "execute_result"
    }
   ],
   "source": [
    "2,3,4,5,6:5/9"
   ]
  },
  {
   "cell_type": "markdown",
   "id": "75e376dd",
   "metadata": {},
   "source": [
    "#### reshape()\n",
    "- reshapes the existed array\n",
    "- reshape(row,col)"
   ]
  },
  {
   "cell_type": "code",
   "execution_count": 114,
   "id": "81373bf1",
   "metadata": {
    "collapsed": true
   },
   "outputs": [
    {
     "name": "stdout",
     "output_type": "stream",
     "text": [
      "[[ 5.          5.45454545  5.90909091  6.36363636]\n",
      " [ 6.81818182  7.27272727  7.72727273  8.18181818]\n",
      " [ 8.63636364  9.09090909  9.54545455 10.        ]]\n"
     ]
    }
   ],
   "source": [
    "ln=np.linspace(5,10,12).reshape(3,4) # 50\n",
    "print(ln)"
   ]
  },
  {
   "cell_type": "code",
   "execution_count": 115,
   "id": "e07f11ba",
   "metadata": {
    "collapsed": true
   },
   "outputs": [
    {
     "name": "stdout",
     "output_type": "stream",
     "text": [
      "[[ 0  1  2  3]\n",
      " [ 4  5  6  7]\n",
      " [ 8  9 10 11]\n",
      " [12 13 14 15]\n",
      " [16 17 18 19]\n",
      " [20 21 22 23]\n",
      " [24 25 26 27]]\n"
     ]
    }
   ],
   "source": [
    "n=np.arange(28).reshape(7,4)\n",
    "print(n)"
   ]
  },
  {
   "cell_type": "code",
   "execution_count": 116,
   "id": "c2116067",
   "metadata": {
    "collapsed": true
   },
   "outputs": [
    {
     "ename": "SyntaxError",
     "evalue": "illegal target for annotation (3538150681.py, line 1)",
     "output_type": "error",
     "traceback": [
      "\u001b[1;36m  Input \u001b[1;32mIn [116]\u001b[1;36m\u001b[0m\n\u001b[1;33m    432: values\u001b[0m\n\u001b[1;37m    ^\u001b[0m\n\u001b[1;31mSyntaxError\u001b[0m\u001b[1;31m:\u001b[0m illegal target for annotation\n"
     ]
    }
   ],
   "source": [
    "432: values\n",
    "    # pairs\n",
    "    "
   ]
  },
  {
   "cell_type": "code",
   "execution_count": 121,
   "id": "0e9ebd91",
   "metadata": {
    "collapsed": true
   },
   "outputs": [
    {
     "name": "stdout",
     "output_type": "stream",
     "text": [
      "[[  0   1   2   3   4   5   6   7   8   9  10  11  12  13  14  15  16  17\n",
      "   18  19  20  21  22  23]\n",
      " [ 24  25  26  27  28  29  30  31  32  33  34  35  36  37  38  39  40  41\n",
      "   42  43  44  45  46  47]\n",
      " [ 48  49  50  51  52  53  54  55  56  57  58  59  60  61  62  63  64  65\n",
      "   66  67  68  69  70  71]\n",
      " [ 72  73  74  75  76  77  78  79  80  81  82  83  84  85  86  87  88  89\n",
      "   90  91  92  93  94  95]\n",
      " [ 96  97  98  99 100 101 102 103 104 105 106 107 108 109 110 111 112 113\n",
      "  114 115 116 117 118 119]\n",
      " [120 121 122 123 124 125 126 127 128 129 130 131 132 133 134 135 136 137\n",
      "  138 139 140 141 142 143]\n",
      " [144 145 146 147 148 149 150 151 152 153 154 155 156 157 158 159 160 161\n",
      "  162 163 164 165 166 167]\n",
      " [168 169 170 171 172 173 174 175 176 177 178 179 180 181 182 183 184 185\n",
      "  186 187 188 189 190 191]\n",
      " [192 193 194 195 196 197 198 199 200 201 202 203 204 205 206 207 208 209\n",
      "  210 211 212 213 214 215]\n",
      " [216 217 218 219 220 221 222 223 224 225 226 227 228 229 230 231 232 233\n",
      "  234 235 236 237 238 239]\n",
      " [240 241 242 243 244 245 246 247 248 249 250 251 252 253 254 255 256 257\n",
      "  258 259 260 261 262 263]\n",
      " [264 265 266 267 268 269 270 271 272 273 274 275 276 277 278 279 280 281\n",
      "  282 283 284 285 286 287]\n",
      " [288 289 290 291 292 293 294 295 296 297 298 299 300 301 302 303 304 305\n",
      "  306 307 308 309 310 311]\n",
      " [312 313 314 315 316 317 318 319 320 321 322 323 324 325 326 327 328 329\n",
      "  330 331 332 333 334 335]\n",
      " [336 337 338 339 340 341 342 343 344 345 346 347 348 349 350 351 352 353\n",
      "  354 355 356 357 358 359]\n",
      " [360 361 362 363 364 365 366 367 368 369 370 371 372 373 374 375 376 377\n",
      "  378 379 380 381 382 383]\n",
      " [384 385 386 387 388 389 390 391 392 393 394 395 396 397 398 399 400 401\n",
      "  402 403 404 405 406 407]\n",
      " [408 409 410 411 412 413 414 415 416 417 418 419 420 421 422 423 424 425\n",
      "  426 427 428 429 430 431]]\n"
     ]
    }
   ],
   "source": [
    "kl=np.arange(432).reshape(18,-1) # unknown\n",
    "print(kl)"
   ]
  },
  {
   "cell_type": "code",
   "execution_count": 122,
   "id": "5dc8c010",
   "metadata": {
    "collapsed": true
   },
   "outputs": [
    {
     "name": "stdout",
     "output_type": "stream",
     "text": [
      "[[ 0  1  2  3  4  5  6  7  8]\n",
      " [ 9 10 11 12 13 14 15 16 17]\n",
      " [18 19 20 21 22 23 24 25 26]\n",
      " [27 28 29 30 31 32 33 34 35]\n",
      " [36 37 38 39 40 41 42 43 44]]\n"
     ]
    }
   ],
   "source": [
    "print(np.arange(45).reshape(-1,9))"
   ]
  },
  {
   "cell_type": "code",
   "execution_count": 126,
   "id": "ea8bf9b6",
   "metadata": {
    "collapsed": true
   },
   "outputs": [
    {
     "name": "stdout",
     "output_type": "stream",
     "text": [
      "[[[ 0  1  2]\n",
      "  [ 3  4  5]\n",
      "  [ 6  7  8]\n",
      "  [ 9 10 11]\n",
      "  [12 13 14]]\n",
      "\n",
      " [[15 16 17]\n",
      "  [18 19 20]\n",
      "  [21 22 23]\n",
      "  [24 25 26]\n",
      "  [27 28 29]]\n",
      "\n",
      " [[30 31 32]\n",
      "  [33 34 35]\n",
      "  [36 37 38]\n",
      "  [39 40 41]\n",
      "  [42 43 44]]]\n"
     ]
    }
   ],
   "source": [
    "# 3d array\n",
    "# 3 dimensions: (no.of arrays,rows,col)\n",
    "xy=np.arange(45).reshape(3,5,3)\n",
    "print(xy)"
   ]
  },
  {
   "cell_type": "code",
   "execution_count": 124,
   "id": "64b4dc08",
   "metadata": {
    "collapsed": true
   },
   "outputs": [
    {
     "data": {
      "text/plain": [
       "array([[ 0,  1,  2],\n",
       "       [ 3,  4,  5],\n",
       "       [ 6,  7,  8],\n",
       "       [ 9, 10, 11],\n",
       "       [12, 13, 14]])"
      ]
     },
     "execution_count": 124,
     "metadata": {},
     "output_type": "execute_result"
    }
   ],
   "source": [
    "xy[0] # first array"
   ]
  },
  {
   "cell_type": "code",
   "execution_count": 127,
   "id": "624a1396",
   "metadata": {
    "collapsed": true
   },
   "outputs": [
    {
     "data": {
      "text/plain": [
       "array([[15, 16, 17],\n",
       "       [18, 19, 20],\n",
       "       [21, 22, 23],\n",
       "       [24, 25, 26],\n",
       "       [27, 28, 29]])"
      ]
     },
     "execution_count": 127,
     "metadata": {},
     "output_type": "execute_result"
    }
   ],
   "source": [
    "xy[1]"
   ]
  },
  {
   "cell_type": "code",
   "execution_count": 132,
   "id": "a08add04",
   "metadata": {
    "collapsed": true
   },
   "outputs": [
    {
     "data": {
      "text/plain": [
       "array([[['1', '2'],\n",
       "        ['3', '4']],\n",
       "\n",
       "       [['a', 'e'],\n",
       "        ['o', 'p']]], dtype='<U11')"
      ]
     },
     "execution_count": 132,
     "metadata": {},
     "output_type": "execute_result"
    }
   ],
   "source": [
    "xyz=np.array([[[1,2],[3,4]],[['a','e'],['o','p']]])\n",
    "xyz\n",
    "            "
   ]
  },
  {
   "cell_type": "code",
   "execution_count": 133,
   "id": "89b7e7af",
   "metadata": {},
   "outputs": [
    {
     "data": {
      "text/plain": [
       "3"
      ]
     },
     "execution_count": 133,
     "metadata": {},
     "output_type": "execute_result"
    }
   ],
   "source": [
    "xyz.ndim"
   ]
  },
  {
   "cell_type": "code",
   "execution_count": 138,
   "id": "612945df",
   "metadata": {
    "collapsed": true
   },
   "outputs": [
    {
     "data": {
      "text/plain": [
       "array([[ 0,  1,  2],\n",
       "       [ 3,  4,  5],\n",
       "       [ 6,  7,  8],\n",
       "       [ 9, 10, 11],\n",
       "       [12, 13, 14],\n",
       "       [15, 16, 17]])"
      ]
     },
     "execution_count": 138,
     "metadata": {},
     "output_type": "execute_result"
    }
   ],
   "source": [
    "new=arn.reshape(6,3)\n",
    "new"
   ]
  },
  {
   "cell_type": "code",
   "execution_count": 139,
   "id": "55e31853",
   "metadata": {
    "collapsed": true
   },
   "outputs": [
    {
     "data": {
      "text/plain": [
       "array([0, 1, 2])"
      ]
     },
     "execution_count": 139,
     "metadata": {},
     "output_type": "execute_result"
    }
   ],
   "source": [
    "new[0]"
   ]
  },
  {
   "cell_type": "code",
   "execution_count": 140,
   "id": "0b627fff",
   "metadata": {
    "collapsed": true
   },
   "outputs": [
    {
     "data": {
      "text/plain": [
       "array([12, 13, 14])"
      ]
     },
     "execution_count": 140,
     "metadata": {},
     "output_type": "execute_result"
    }
   ],
   "source": [
    "new[4] # 5th row"
   ]
  },
  {
   "cell_type": "code",
   "execution_count": 141,
   "id": "02da1c4f",
   "metadata": {
    "collapsed": true
   },
   "outputs": [
    {
     "data": {
      "text/plain": [
       "10"
      ]
     },
     "execution_count": 141,
     "metadata": {},
     "output_type": "execute_result"
    }
   ],
   "source": [
    "new[3][1] # 2d indexing"
   ]
  },
  {
   "cell_type": "code",
   "execution_count": 142,
   "id": "29cec1fb",
   "metadata": {
    "collapsed": true
   },
   "outputs": [
    {
     "data": {
      "text/plain": [
       "array([[ 0,  1,  2],\n",
       "       [ 3,  4,  5],\n",
       "       [ 6,  7,  8],\n",
       "       [ 9, 10, 11]])"
      ]
     },
     "execution_count": 142,
     "metadata": {},
     "output_type": "execute_result"
    }
   ],
   "source": [
    "# slicing\n",
    "new[:4]"
   ]
  },
  {
   "cell_type": "code",
   "execution_count": 144,
   "id": "3bdaff0f",
   "metadata": {
    "collapsed": true
   },
   "outputs": [
    {
     "data": {
      "text/plain": [
       "array([[ 6,  7,  8],\n",
       "       [ 9, 10, 11]])"
      ]
     },
     "execution_count": 144,
     "metadata": {},
     "output_type": "execute_result"
    }
   ],
   "source": [
    "new[2:4]"
   ]
  },
  {
   "cell_type": "code",
   "execution_count": 146,
   "id": "2154cabd",
   "metadata": {
    "collapsed": true
   },
   "outputs": [
    {
     "data": {
      "text/plain": [
       "array([[ 0,  1,  2],\n",
       "       [ 6,  7,  8],\n",
       "       [12, 13, 14]])"
      ]
     },
     "execution_count": 146,
     "metadata": {},
     "output_type": "execute_result"
    }
   ],
   "source": [
    " #alternate rows\n",
    "new[::2]"
   ]
  },
  {
   "cell_type": "code",
   "execution_count": 147,
   "id": "5ea63575",
   "metadata": {
    "collapsed": true
   },
   "outputs": [
    {
     "data": {
      "text/plain": [
       "array([ 2,  5,  8, 11, 14, 17])"
      ]
     },
     "execution_count": 147,
     "metadata": {},
     "output_type": "execute_result"
    }
   ],
   "source": [
    "# columns\n",
    "new[:,2]"
   ]
  },
  {
   "cell_type": "code",
   "execution_count": 150,
   "id": "b1399c22",
   "metadata": {},
   "outputs": [
    {
     "data": {
      "text/plain": [
       "array([7, 8])"
      ]
     },
     "execution_count": 150,
     "metadata": {},
     "output_type": "execute_result"
    }
   ],
   "source": [
    "new[2][1:] # 3rd row"
   ]
  },
  {
   "cell_type": "code",
   "execution_count": 152,
   "id": "cccbc99d",
   "metadata": {
    "collapsed": true
   },
   "outputs": [
    {
     "data": {
      "text/plain": [
       "array([[ 1,  2],\n",
       "       [ 4,  5],\n",
       "       [ 7,  8],\n",
       "       [10, 11],\n",
       "       [13, 14],\n",
       "       [16, 17]])"
      ]
     },
     "execution_count": 152,
     "metadata": {},
     "output_type": "execute_result"
    }
   ],
   "source": [
    "new[:,1:]"
   ]
  },
  {
   "cell_type": "code",
   "execution_count": 153,
   "id": "8fcc3e25",
   "metadata": {
    "collapsed": true
   },
   "outputs": [
    {
     "data": {
      "text/plain": [
       "array([[ 0,  2],\n",
       "       [ 6,  8],\n",
       "       [12, 14]])"
      ]
     },
     "execution_count": 153,
     "metadata": {},
     "output_type": "execute_result"
    }
   ],
   "source": [
    "# alternate col in alternate rows\n",
    "new[::2,::2]"
   ]
  },
  {
   "cell_type": "code",
   "execution_count": 154,
   "id": "00f10bf3",
   "metadata": {
    "collapsed": true
   },
   "outputs": [
    {
     "data": {
      "text/plain": [
       "array([[ 0,  1,  2],\n",
       "       [ 3,  4,  5],\n",
       "       [ 6,  7,  8],\n",
       "       [ 9, 10, 11],\n",
       "       [12, 13, 14],\n",
       "       [15, 16, 17]])"
      ]
     },
     "execution_count": 154,
     "metadata": {},
     "output_type": "execute_result"
    }
   ],
   "source": [
    "new"
   ]
  },
  {
   "cell_type": "markdown",
   "id": "ea27026c",
   "metadata": {},
   "source": [
    "#### random\n",
    "- generates the random values\n",
    "- np.random()"
   ]
  },
  {
   "cell_type": "markdown",
   "id": "1f09956c",
   "metadata": {},
   "source": [
    "#### np.random()\n",
    "- np.random.randint(stop)\n",
    "- np.random.randint(st,sp)\n",
    "- np.random.randint(st,sp,stp)\n",
    "- np.random.random()\n",
    "- np.random.rand()\n",
    "- np.random.randd()"
   ]
  },
  {
   "cell_type": "code",
   "execution_count": 164,
   "id": "8ae16f04",
   "metadata": {},
   "outputs": [
    {
     "name": "stdout",
     "output_type": "stream",
     "text": [
      "9\n"
     ]
    }
   ],
   "source": [
    "print(np.random.randint(10))\n",
    "# random digit in the range"
   ]
  },
  {
   "cell_type": "code",
   "execution_count": 173,
   "id": "2f19ad9b",
   "metadata": {
    "collapsed": true
   },
   "outputs": [
    {
     "data": {
      "text/plain": [
       "48"
      ]
     },
     "execution_count": 173,
     "metadata": {},
     "output_type": "execute_result"
    }
   ],
   "source": [
    "np.random.randint(30,80)"
   ]
  },
  {
   "cell_type": "code",
   "execution_count": 176,
   "id": "11717111",
   "metadata": {
    "collapsed": true
   },
   "outputs": [
    {
     "data": {
      "text/plain": [
       "-4"
      ]
     },
     "execution_count": 176,
     "metadata": {},
     "output_type": "execute_result"
    }
   ],
   "source": [
    "np.random.randint(-9,10)"
   ]
  },
  {
   "cell_type": "code",
   "execution_count": 178,
   "id": "272f78af",
   "metadata": {
    "collapsed": true
   },
   "outputs": [
    {
     "data": {
      "text/plain": [
       "-89"
      ]
     },
     "execution_count": 178,
     "metadata": {},
     "output_type": "execute_result"
    }
   ],
   "source": [
    "np.random.randint(-100,-8)"
   ]
  },
  {
   "cell_type": "code",
   "execution_count": 189,
   "id": "06d2d0fa",
   "metadata": {
    "collapsed": true
   },
   "outputs": [
    {
     "data": {
      "text/plain": [
       "array([[-187, -102, -130, -135, -162, -188, -143,  -30, -145, -182, -197,\n",
       "         -84, -126, -117,  -85,  -56, -104, -158, -106,  -81, -186,  -67,\n",
       "         -51, -186, -177, -127, -100, -135,  -62,  -28,  -97,  -50, -113,\n",
       "        -175, -103, -125,  -59,  -99, -173, -186, -196, -186,  -75, -110,\n",
       "         -40,  -48,  -65, -170,  -62,  -38],\n",
       "       [ -54, -155,  -91,  -67,  -71,  -74,  -61,  -76,  -93,  -55, -179,\n",
       "         -72,  -74,  -32, -162,  -29, -110, -122,  -68, -163,  -81, -190,\n",
       "        -171,  -67,  -23,  -77,  -44, -124, -143,  -65,  -71, -117, -112,\n",
       "         -48, -122,  -38,  -29, -140, -126, -155,  -34,  -98, -118,  -66,\n",
       "        -133,  -90, -196,  -29, -165,  -72],\n",
       "       [-130,  -63,  -61,  -48,  -94, -184, -189, -133,  -72, -117,  -56,\n",
       "        -178,  -99, -146, -125, -151, -164,  -96, -139, -113,  -54, -162,\n",
       "         -78, -118, -178,  -85,  -45,  -85,  -35,  -71,  -44, -137, -113,\n",
       "         -43, -158,  -56, -166, -108, -117,  -83,  -67,  -43,  -19, -193,\n",
       "         -63,  -81, -133, -173, -141, -139],\n",
       "       [ -95, -177,  -69, -193, -147, -151, -170, -177, -180,  -82,  -48,\n",
       "         -97, -122,  -24, -105,  -86, -188,  -44,  -22,  -85,  -68, -143,\n",
       "        -115, -161,  -39, -170,  -70, -166,  -81, -155,  -86,  -45,  -99,\n",
       "        -181,  -81, -197, -131, -135,  -52, -137, -171,  -57, -196,  -18,\n",
       "        -184,  -66, -161, -145, -130, -187],\n",
       "       [ -90, -160, -154, -100, -126,  -43, -172,  -48, -177,  -58, -165,\n",
       "         -52,  -65,  -26,  -26, -133, -121,  -27,  -63, -177, -145, -176,\n",
       "        -143, -136,  -99, -167,  -93,  -71, -196,  -21, -129,  -45,  -94,\n",
       "         -31,  -29,  -32,  -46,  -82, -188,  -25, -171,  -48,  -97, -138,\n",
       "        -132,  -86,  -33,  -63, -101,  -72],\n",
       "       [ -39,  -97,  -36, -174, -158, -182,  -33,  -68, -146, -147, -140,\n",
       "         -70, -107,  -94,  -90, -129,  -79, -185,  -31, -156, -126, -195,\n",
       "         -80,  -42, -146,  -39, -166,  -20,  -71,  -94,  -62,  -92,  -23,\n",
       "         -38, -186, -141,  -48, -114, -125,  -28, -175, -190,  -25,  -55,\n",
       "         -84, -105, -178, -148,  -28,  -78],\n",
       "       [-138, -117, -188,  -56, -109,  -71,  -88,  -55, -149, -114,  -83,\n",
       "        -199,  -36, -125, -182,  -40,  -18,  -18, -196, -151,  -54, -100,\n",
       "         -18, -133, -116,  -74, -145, -102,  -49, -114, -191, -192, -168,\n",
       "        -151,  -51,  -65, -200, -187,  -77, -128, -124,  -99, -125, -121,\n",
       "        -131,  -96, -175, -114, -180,  -79],\n",
       "       [-109,  -87, -150, -179,  -67,  -87,  -91, -169,  -77, -153,  -51,\n",
       "         -31, -179, -110,  -41,  -25,  -39, -175,  -33, -139,  -96,  -21,\n",
       "         -95, -129,  -89, -194,  -39, -191,  -82,  -97, -174,  -78, -184,\n",
       "        -156,  -63,  -30, -139, -118, -121,  -59, -192, -148,  -67, -180,\n",
       "        -143,  -40, -160,  -23, -164,  -99],\n",
       "       [ -56,  -20, -138,  -71, -187, -165,  -20, -180, -107, -179,  -71,\n",
       "         -62, -135, -176, -157, -198, -182,  -34, -127,  -91,  -85, -124,\n",
       "        -140,  -26,  -22, -182, -172,  -27, -130,  -71,  -86,  -61, -159,\n",
       "         -86,  -61,  -30,  -55, -198, -101, -194, -111, -192,  -68, -176,\n",
       "         -65,  -58,  -84, -165,  -44, -127],\n",
       "       [ -81, -134,  -36, -166,  -92,  -99,  -49, -150, -115,  -96,  -62,\n",
       "         -51, -102,  -70,  -96,  -38,  -77, -170, -167,  -72, -145, -130,\n",
       "        -181, -172,  -98, -199,  -23, -178, -122, -171,  -80,  -53,  -29,\n",
       "        -193, -116, -189,  -61,  -71, -161,  -33,  -59,  -83,  -50, -157,\n",
       "         -65, -143, -123,  -95, -124, -119],\n",
       "       [ -79,  -88,  -67, -186, -137, -179, -103, -155, -142,  -54,  -86,\n",
       "         -53, -133,  -73,  -41, -129, -196,  -19, -179, -176, -180,  -64,\n",
       "         -93,  -64, -163, -149, -165, -141,  -94, -116,  -60, -106, -185,\n",
       "         -71, -166, -154,  -27, -117,  -49, -194, -183,  -87, -156,  -80,\n",
       "         -39, -194, -183,  -91,  -32, -145],\n",
       "       [ -38, -171,  -55, -130,  -78, -156, -103,  -59,  -69,  -83,  -64,\n",
       "         -31,  -92, -164, -142, -190, -179,  -53, -200, -158,  -31,  -27,\n",
       "        -136, -111,  -90, -183, -199,  -20,  -34, -185, -174, -196,  -24,\n",
       "        -114, -180,  -43, -132,  -68, -152, -106, -153,  -53,  -78, -183,\n",
       "        -122,  -21,  -85, -197, -184, -152],\n",
       "       [ -53,  -76, -150,  -22, -147,  -96, -124,  -25,  -66,  -92, -166,\n",
       "        -131,  -93, -117,  -45, -169, -102, -106, -137, -170, -144,  -73,\n",
       "         -49,  -30, -199,  -57, -101,  -33,  -88,  -70,  -30,  -88, -114,\n",
       "        -108,  -35, -188, -194,  -59,  -80,  -42, -164, -143,  -49, -107,\n",
       "        -140,  -87, -187, -155,  -48, -137],\n",
       "       [-150,  -26, -133, -114,  -80, -111,  -98, -142,  -64,  -79, -150,\n",
       "         -99, -200, -130, -150,  -24, -179, -168, -197,  -88,  -72, -134,\n",
       "         -67,  -95,  -90,  -29, -151, -150,  -64, -175, -174, -106,  -19,\n",
       "        -189, -187,  -99, -107, -127,  -38,  -28, -117, -174,  -23,  -66,\n",
       "        -165, -157, -107, -152,  -84,  -64],\n",
       "       [-169, -149,  -72, -112, -109,  -58, -121, -104,  -30,  -40, -152,\n",
       "         -60,  -58, -170, -149, -123,  -42, -148, -166, -162,  -88, -121,\n",
       "         -93,  -89,  -55, -189, -118, -189, -148, -135,  -20,  -56, -140,\n",
       "         -98, -108, -117, -174, -198, -126, -149, -171, -133,  -38,  -86,\n",
       "        -147,  -70, -113,  -74,  -27, -136],\n",
       "       [ -38,  -46, -104, -104, -187,  -93,  -84,  -53,  -33, -191,  -69,\n",
       "        -123, -124,  -76,  -32, -138,  -87, -106,  -28, -144,  -32, -156,\n",
       "         -99, -162,  -35, -199, -183,  -41, -164, -118,  -48, -200, -122,\n",
       "        -118, -165, -128,  -80, -115,  -86,  -67,  -69, -148,  -53, -104,\n",
       "        -171, -154, -127, -186,  -95, -127],\n",
       "       [-198, -137, -106,  -66, -170,  -61, -145, -135,  -72, -163,  -97,\n",
       "         -97,  -38, -181, -137,  -88, -140,  -20,  -82,  -91,  -92,  -65,\n",
       "         -37,  -53, -109, -105,  -77, -189,  -41,  -22, -199,  -47, -129,\n",
       "        -110, -180, -200, -113,  -20, -138,  -31, -153, -196, -194, -158,\n",
       "         -18, -117,  -20,  -30, -200,  -89],\n",
       "       [-100, -142, -117,  -97, -192, -104,  -81, -152, -185, -183, -138,\n",
       "        -154,  -20, -129,  -53,  -80,  -34, -116,  -65, -183, -173,  -68,\n",
       "         -48, -121, -160, -108, -192, -112,  -18, -198, -185, -144, -197,\n",
       "         -44, -195, -188,  -23, -195,  -54,  -22,  -54, -105,  -80, -148,\n",
       "        -121,  -34,  -81,  -54, -109,  -25],\n",
       "       [-117,  -74, -163, -165,  -55, -147, -149, -171, -114, -143,  -23,\n",
       "         -99,  -19, -185, -191, -151, -176,  -63, -185, -124, -108,  -49,\n",
       "        -117,  -98,  -18, -121,  -91, -107,  -92, -126,  -34, -146, -145,\n",
       "        -123,  -55, -193,  -69, -153, -166,  -93, -124,  -37,  -45,  -76,\n",
       "         -32,  -95,  -92,  -73, -158,  -32],\n",
       "       [-119, -133, -120,  -77, -195,  -39,  -63,  -77, -107, -196, -192,\n",
       "         -99,  -62,  -46,  -58,  -64,  -52, -127, -110,  -47, -152,  -29,\n",
       "        -107, -120, -103, -181, -103,  -42, -155, -183, -121, -166,  -80,\n",
       "        -190, -181, -161, -142,  -35, -139, -129,  -19,  -91, -181,  -37,\n",
       "        -184, -199,  -26,  -48,  -48,  -18]])"
      ]
     },
     "execution_count": 189,
     "metadata": {},
     "output_type": "execute_result"
    }
   ],
   "source": [
    "np.random.randint(-200,-17,1000).reshape(20,50)"
   ]
  },
  {
   "cell_type": "code",
   "execution_count": 194,
   "id": "de2c2dde",
   "metadata": {
    "collapsed": true
   },
   "outputs": [
    {
     "data": {
      "text/plain": [
       "array([[0.50618066, 0.97112804, 0.31719632, 0.41618667],\n",
       "       [0.17571035, 0.31956945, 0.17048444, 0.11626876]])"
      ]
     },
     "execution_count": 194,
     "metadata": {},
     "output_type": "execute_result"
    }
   ],
   "source": [
    "np.random.random((2,4)) \n",
    "# random floating values from 0 to 1"
   ]
  },
  {
   "cell_type": "code",
   "execution_count": 196,
   "id": "67d05a68",
   "metadata": {
    "collapsed": true
   },
   "outputs": [
    {
     "data": {
      "text/plain": [
       "array([[0.17046624, 0.80722231, 0.40320374, 0.31411112, 0.43807618],\n",
       "       [0.15753607, 0.24734579, 0.89780559, 0.80053978, 0.8391112 ],\n",
       "       [0.38495957, 0.26365703, 0.64270531, 0.39680223, 0.0314634 ]])"
      ]
     },
     "execution_count": 196,
     "metadata": {},
     "output_type": "execute_result"
    }
   ],
   "source": [
    "np.random.rand(3,5)"
   ]
  },
  {
   "cell_type": "code",
   "execution_count": 203,
   "id": "7def0ce5",
   "metadata": {
    "collapsed": true
   },
   "outputs": [
    {
     "data": {
      "text/plain": [
       "array([[-7.49112435e-01, -4.99516928e-01,  1.23456944e-01,\n",
       "        -2.93968242e-01, -1.70228889e+00,  5.73995477e-02,\n",
       "        -2.10990130e+00, -1.20563041e+00,  5.21199008e-04,\n",
       "         6.86004044e-01, -1.48335049e+00,  8.31895089e-02,\n",
       "        -8.56505093e-01, -1.50780036e+00, -1.61699692e-02,\n",
       "        -8.77016139e-01,  1.38031989e+00,  1.83160776e+00,\n",
       "         2.21581537e-01,  7.07968925e-01],\n",
       "       [-2.12111334e-01,  1.00820097e+00, -1.57587668e+00,\n",
       "         1.92684809e-01, -7.66440300e-02,  9.05541444e-01,\n",
       "         1.35552363e+00, -6.70440068e-02, -1.34139390e+00,\n",
       "         1.33151355e+00,  1.16576508e+00,  2.94011928e-01,\n",
       "         7.36522575e-01, -9.34573545e-01, -1.32962199e-01,\n",
       "        -4.88293239e-01,  2.57597010e+00,  5.27571041e-01,\n",
       "         1.07269643e+00, -1.07371558e+00],\n",
       "       [-6.32143669e-01,  1.39596377e+00, -3.65451995e-01,\n",
       "         1.34616966e-02, -9.91384485e-01, -8.64304203e-01,\n",
       "        -9.01164181e-01,  3.04542594e-01,  2.80909005e-01,\n",
       "        -1.37496114e+00,  1.08071235e+00,  6.84306784e-01,\n",
       "        -8.02814142e-01,  7.30179276e-01,  1.09814667e+00,\n",
       "        -1.06042399e-01, -1.25304005e+00, -8.53731157e-01,\n",
       "        -1.96806630e-01,  1.94828468e+00],\n",
       "       [-7.47583215e-01,  7.87850413e-01,  1.11470577e+00,\n",
       "         4.07326396e-01, -1.94968849e-01,  2.91258960e-01,\n",
       "        -6.36128700e-01, -3.92725780e-01,  2.28956954e-01,\n",
       "        -1.73379816e-01, -7.06311124e-01, -1.30590390e+00,\n",
       "        -2.31142055e-01,  4.59845365e-01, -9.25531326e-01,\n",
       "         2.49748445e-01,  2.34719672e-01,  4.08700726e-01,\n",
       "         4.25189683e-01,  1.24251479e+00],\n",
       "       [ 1.78252407e+00, -7.49468244e-02, -1.24993895e+00,\n",
       "         3.28663840e-01,  4.65525476e-01,  4.67583678e-01,\n",
       "        -5.30881786e-01,  2.91493165e-01,  6.99524818e-01,\n",
       "        -4.74560589e-02, -1.35228935e+00, -9.69948464e-02,\n",
       "        -1.81762088e-01, -9.77071688e-01,  5.11761342e-01,\n",
       "         1.03807454e+00,  8.54173064e-01,  1.69947311e-02,\n",
       "        -1.31482708e+00, -7.89772892e-01],\n",
       "       [ 9.93539434e-01,  1.92603530e+00, -1.55535190e+00,\n",
       "         6.66919268e-01, -1.64161124e+00, -6.39720024e-01,\n",
       "        -1.25054192e+00, -1.02799037e+00,  1.15081263e+00,\n",
       "         3.76831822e-01, -1.37830047e-01, -6.10563238e-02,\n",
       "        -1.34530024e+00,  2.27083238e-01,  9.34829732e-01,\n",
       "         1.03526077e+00,  3.44145699e-01,  3.02645973e-01,\n",
       "        -5.22892205e-01, -1.97844242e-01],\n",
       "       [-1.58036076e+00,  2.61034706e-01,  7.90964638e-01,\n",
       "         7.22346939e-01,  1.00933034e+00, -5.51399832e-02,\n",
       "        -1.13539584e+00,  8.56331990e-01, -1.70582669e+00,\n",
       "        -8.15569389e-01, -5.53220883e-01,  5.55905559e-01,\n",
       "        -7.68823534e-01, -8.40208268e-01, -7.26404621e-01,\n",
       "        -2.48897754e+00, -1.43529099e+00, -2.79832550e-01,\n",
       "        -3.89214370e-01,  1.36709515e+00],\n",
       "       [-2.96786546e-01,  1.55631476e+00, -1.63533946e+00,\n",
       "         1.18512640e+00,  1.77203142e-01, -1.18323023e+00,\n",
       "        -3.99454264e-01, -1.36860605e-01, -3.60571458e-01,\n",
       "        -8.00143066e-01,  2.16356165e-01,  4.85350088e-02,\n",
       "        -2.80787047e-01, -1.66401261e+00,  6.59545711e-02,\n",
       "         1.23437670e+00, -5.31115887e-01, -4.80188125e-01,\n",
       "        -1.75525414e-01,  4.71644450e-01],\n",
       "       [ 2.73349793e-01,  1.27536240e+00,  1.48023286e+00,\n",
       "         1.13657158e+00, -8.27765075e-01,  1.74229756e+00,\n",
       "         7.42748427e-01,  7.36206019e-01,  6.71535720e-01,\n",
       "        -1.01171080e+00,  4.33923833e-01,  8.80065725e-01,\n",
       "        -2.71784012e-01,  6.30996568e-01, -2.49889504e-01,\n",
       "        -1.77155140e+00, -1.99611378e-01,  3.35625810e-02,\n",
       "        -1.84160961e-01,  2.22161568e-01],\n",
       "       [ 2.21646865e-02,  8.89958162e-01, -9.70552643e-01,\n",
       "         2.89220860e-01, -7.71870698e-01,  1.34422296e-01,\n",
       "         1.67458073e+00, -9.60457616e-01,  1.82639988e+00,\n",
       "        -4.73093670e-01,  5.04319227e-01,  1.10015851e+00,\n",
       "         2.06361329e-01, -2.18128352e+00, -1.99674602e+00,\n",
       "         1.30186671e+00,  1.84969714e+00,  4.22635505e-01,\n",
       "        -6.56202765e-01,  1.02029616e-01]])"
      ]
     },
     "execution_count": 203,
     "metadata": {},
     "output_type": "execute_result"
    }
   ],
   "source": [
    "np.random.randn(10,20)"
   ]
  },
  {
   "cell_type": "code",
   "execution_count": 204,
   "id": "839f5ec4",
   "metadata": {
    "collapsed": true
   },
   "outputs": [
    {
     "data": {
      "text/plain": [
       "array([[ 0,  1,  2],\n",
       "       [ 3,  4,  5],\n",
       "       [ 6,  7,  8],\n",
       "       [ 9, 10, 11],\n",
       "       [12, 13, 14],\n",
       "       [15, 16, 17]])"
      ]
     },
     "execution_count": 204,
     "metadata": {},
     "output_type": "execute_result"
    }
   ],
   "source": [
    "# fancy indexing\n",
    "new"
   ]
  },
  {
   "cell_type": "code",
   "execution_count": 214,
   "id": "e2cf692b",
   "metadata": {
    "collapsed": true
   },
   "outputs": [
    {
     "name": "stdout",
     "output_type": "stream",
     "text": [
      "[[244 201 400 402 211]\n",
      " [370 130 173 129 318]\n",
      " [390 360 134 202 224]\n",
      " [400 390 148 291 427]\n",
      " [266 173 485 337 362]]\n"
     ]
    }
   ],
   "source": [
    "knew=np.random.randint(100,500,25).reshape(5,-1)\n",
    "print(knew)"
   ]
  },
  {
   "cell_type": "code",
   "execution_count": 220,
   "id": "4f87339b",
   "metadata": {
    "collapsed": true
   },
   "outputs": [
    {
     "data": {
      "text/plain": [
       "array([400, 402, 370, 390, 360, 400, 390, 427, 485, 337, 362])"
      ]
     },
     "execution_count": 220,
     "metadata": {},
     "output_type": "execute_result"
    }
   ],
   "source": [
    "# array whose values >340\n",
    "knew[knew>320]"
   ]
  },
  {
   "cell_type": "markdown",
   "id": "0ae94565",
   "metadata": {},
   "source": [
    "##### broadcasting\n",
    "- apply scalar quantity on arrays\n",
    "- causes big difference"
   ]
  },
  {
   "cell_type": "code",
   "execution_count": 222,
   "id": "b2e228aa",
   "metadata": {
    "collapsed": true
   },
   "outputs": [
    {
     "data": {
      "text/plain": [
       "array([[263, 220, 419, 421, 230],\n",
       "       [389, 149, 192, 148, 337],\n",
       "       [409, 379, 153, 221, 243],\n",
       "       [419, 409, 167, 310, 446],\n",
       "       [285, 192, 504, 356, 381]])"
      ]
     },
     "execution_count": 222,
     "metadata": {},
     "output_type": "execute_result"
    }
   ],
   "source": [
    "knew+19"
   ]
  },
  {
   "cell_type": "code",
   "execution_count": 223,
   "id": "84e2d52b",
   "metadata": {
    "collapsed": true
   },
   "outputs": [
    {
     "ename": "NameError",
     "evalue": "name 'addition' is not defined",
     "output_type": "error",
     "traceback": [
      "\u001b[1;31m---------------------------------------------------------------------------\u001b[0m",
      "\u001b[1;31mNameError\u001b[0m                                 Traceback (most recent call last)",
      "Input \u001b[1;32mIn [223]\u001b[0m, in \u001b[0;36m<cell line: 2>\u001b[1;34m()\u001b[0m\n\u001b[0;32m      1\u001b[0m \u001b[38;5;66;03m#### arithmetic operations\u001b[39;00m\n\u001b[1;32m----> 2\u001b[0m \u001b[43maddition\u001b[49m,subtraction\n",
      "\u001b[1;31mNameError\u001b[0m: name 'addition' is not defined"
     ]
    }
   ],
   "source": [
    "#### arithmetic operations\n",
    "addition,subtraction"
   ]
  },
  {
   "cell_type": "code",
   "execution_count": 224,
   "id": "494fa1a2",
   "metadata": {
    "collapsed": true
   },
   "outputs": [
    {
     "data": {
      "text/plain": [
       "array([[100, 101, 102, 103, 104],\n",
       "       [105, 106, 107, 108, 109],\n",
       "       [110, 111, 112, 113, 114],\n",
       "       [115, 116, 117, 118, 119],\n",
       "       [120, 121, 122, 123, 124]])"
      ]
     },
     "execution_count": 224,
     "metadata": {},
     "output_type": "execute_result"
    }
   ],
   "source": [
    "fml=np.arange(100,125).reshape(5,5)\n",
    "fml"
   ]
  },
  {
   "cell_type": "code",
   "execution_count": 225,
   "id": "c565b16b",
   "metadata": {},
   "outputs": [
    {
     "name": "stdout",
     "output_type": "stream",
     "text": [
      "shiva\n"
     ]
    }
   ],
   "source": [
    "print(\"shiva\")\n"
   ]
  },
  {
   "cell_type": "code",
   "execution_count": 227,
   "id": "abeedf82",
   "metadata": {
    "collapsed": true
   },
   "outputs": [
    {
     "name": "stdout",
     "output_type": "stream",
     "text": [
      "8\n",
      "8 x 1 = 8\n",
      "8 x 2 = 16\n",
      "8 x 3 = 24\n",
      "8 x 4 = 32\n",
      "8 x 5 = 40\n",
      "8 x 6 = 48\n",
      "8 x 7 = 56\n",
      "8 x 8 = 64\n",
      "8 x 9 = 72\n",
      "8 x 10 = 80\n"
     ]
    }
   ],
   "source": [
    "num=int(input())\n",
    "for dig in range(1,11):\n",
    "    print(num,\"x\",dig,\"=\",num*dig)"
   ]
  },
  {
   "cell_type": "code",
   "execution_count": 228,
   "id": "7703b67d",
   "metadata": {
    "collapsed": true
   },
   "outputs": [
    {
     "data": {
      "text/plain": [
       "array([[344, 302, 502, 505, 315],\n",
       "       [475, 236, 280, 237, 427],\n",
       "       [500, 471, 246, 315, 338],\n",
       "       [515, 506, 265, 409, 546],\n",
       "       [386, 294, 607, 460, 486]])"
      ]
     },
     "execution_count": 228,
     "metadata": {},
     "output_type": "execute_result"
    }
   ],
   "source": [
    "knew+fml"
   ]
  },
  {
   "cell_type": "code",
   "execution_count": 229,
   "id": "e8fc64e4",
   "metadata": {
    "collapsed": true
   },
   "outputs": [
    {
     "data": {
      "text/plain": [
       "array([[144, 100, 298, 299, 107],\n",
       "       [265,  24,  66,  21, 209],\n",
       "       [280, 249,  22,  89, 110],\n",
       "       [285, 274,  31, 173, 308],\n",
       "       [146,  52, 363, 214, 238]])"
      ]
     },
     "execution_count": 229,
     "metadata": {},
     "output_type": "execute_result"
    }
   ],
   "source": [
    "knew-fml"
   ]
  },
  {
   "cell_type": "code",
   "execution_count": 230,
   "id": "c4600189",
   "metadata": {
    "collapsed": true
   },
   "outputs": [
    {
     "data": {
      "text/plain": [
       "array([[24400, 20301, 40800, 41406, 21944],\n",
       "       [38850, 13780, 18511, 13932, 34662],\n",
       "       [42900, 39960, 15008, 22826, 25536],\n",
       "       [46000, 45240, 17316, 34338, 50813],\n",
       "       [31920, 20933, 59170, 41451, 44888]])"
      ]
     },
     "execution_count": 230,
     "metadata": {},
     "output_type": "execute_result"
    }
   ],
   "source": [
    "knew*fml"
   ]
  },
  {
   "cell_type": "code",
   "execution_count": 231,
   "id": "242abff7",
   "metadata": {
    "collapsed": true
   },
   "outputs": [
    {
     "data": {
      "text/plain": [
       "array([[244, 370, 390, 400, 266],\n",
       "       [201, 130, 360, 390, 173],\n",
       "       [400, 173, 134, 148, 485],\n",
       "       [402, 129, 202, 291, 337],\n",
       "       [211, 318, 224, 427, 362]])"
      ]
     },
     "execution_count": 231,
     "metadata": {},
     "output_type": "execute_result"
    }
   ],
   "source": [
    "knew.transpose() # rows arranged as cols"
   ]
  },
  {
   "cell_type": "code",
   "execution_count": 234,
   "id": "8aac204b",
   "metadata": {
    "collapsed": true
   },
   "outputs": [
    {
     "data": {
      "text/plain": [
       "array([[161055, 162513, 163971, 165429, 166887],\n",
       "       [122675, 123795, 124915, 126035, 127155],\n",
       "       [141650, 142960, 144270, 145580, 146890],\n",
       "       [181935, 183591, 185247, 186903, 188559],\n",
       "       [180310, 181933, 183556, 185179, 186802]])"
      ]
     },
     "execution_count": 234,
     "metadata": {},
     "output_type": "execute_result"
    }
   ],
   "source": [
    "knew.dot(fml) # dot product (vectors)"
   ]
  },
  {
   "cell_type": "code",
   "execution_count": 237,
   "id": "7a07dfdd",
   "metadata": {
    "collapsed": true
   },
   "outputs": [
    {
     "data": {
      "text/plain": [
       "129"
      ]
     },
     "execution_count": 237,
     "metadata": {},
     "output_type": "execute_result"
    }
   ],
   "source": [
    "knew.min() # minimum value of knew"
   ]
  },
  {
   "cell_type": "code",
   "execution_count": 239,
   "id": "c13c97b8",
   "metadata": {
    "collapsed": true
   },
   "outputs": [
    {
     "data": {
      "text/plain": [
       "485"
      ]
     },
     "execution_count": 239,
     "metadata": {},
     "output_type": "execute_result"
    }
   ],
   "source": [
    "knew.max()"
   ]
  },
  {
   "cell_type": "code",
   "execution_count": 240,
   "id": "680f1e4a",
   "metadata": {
    "collapsed": true
   },
   "outputs": [
    {
     "data": {
      "text/plain": [
       "7167"
      ]
     },
     "execution_count": 240,
     "metadata": {},
     "output_type": "execute_result"
    }
   ],
   "source": [
    "knew.sum() # summation of all the values of knew"
   ]
  },
  {
   "cell_type": "code",
   "execution_count": 241,
   "id": "8c960c2f",
   "metadata": {
    "collapsed": true
   },
   "outputs": [
    {
     "data": {
      "text/plain": [
       "286.68"
      ]
     },
     "execution_count": 241,
     "metadata": {},
     "output_type": "execute_result"
    }
   ],
   "source": [
    "knew.mean()"
   ]
  },
  {
   "cell_type": "code",
   "execution_count": 242,
   "id": "a6177a05",
   "metadata": {
    "collapsed": true
   },
   "outputs": [
    {
     "data": {
      "text/plain": [
       "106.78828400157013"
      ]
     },
     "execution_count": 242,
     "metadata": {},
     "output_type": "execute_result"
    }
   ],
   "source": [
    "knew.std()"
   ]
  },
  {
   "cell_type": "markdown",
   "id": "135dedda",
   "metadata": {},
   "source": [
    "#### Scientific computation\n",
    "- logarithms and exponentials"
   ]
  },
  {
   "cell_type": "code",
   "execution_count": 243,
   "id": "f218a001",
   "metadata": {
    "collapsed": true
   },
   "outputs": [
    {
     "data": {
      "text/plain": [
       "2.302585092994046"
      ]
     },
     "execution_count": 243,
     "metadata": {},
     "output_type": "execute_result"
    }
   ],
   "source": [
    "np.log(10)"
   ]
  },
  {
   "cell_type": "code",
   "execution_count": 244,
   "id": "3c017a09",
   "metadata": {
    "collapsed": true
   },
   "outputs": [
    {
     "data": {
      "text/plain": [
       "array([0.        , 0.69314718, 1.09861229, 1.38629436, 2.30258509])"
      ]
     },
     "execution_count": 244,
     "metadata": {},
     "output_type": "execute_result"
    }
   ],
   "source": [
    "np.log([1,2,3,4,10])"
   ]
  },
  {
   "cell_type": "code",
   "execution_count": 245,
   "id": "8cbf08d9",
   "metadata": {
    "collapsed": true
   },
   "outputs": [
    {
     "data": {
      "text/plain": [
       "array([[5.49716823, 5.30330491, 5.99146455, 5.99645209, 5.35185813],\n",
       "       [5.91350301, 4.86753445, 5.15329159, 4.8598124 , 5.76205138],\n",
       "       [5.96614674, 5.88610403, 4.8978398 , 5.3082677 , 5.41164605],\n",
       "       [5.99146455, 5.96614674, 4.99721227, 5.67332327, 6.05678401],\n",
       "       [5.58349631, 5.15329159, 6.18414889, 5.82008293, 5.89164421]])"
      ]
     },
     "execution_count": 245,
     "metadata": {},
     "output_type": "execute_result"
    }
   ],
   "source": [
    "np.log(knew)"
   ]
  },
  {
   "cell_type": "code",
   "execution_count": 246,
   "id": "2aa92ed5",
   "metadata": {
    "scrolled": true
   },
   "outputs": [
    {
     "data": {
      "text/plain": [
       "['ALLOW_THREADS',\n",
       " 'AxisError',\n",
       " 'BUFSIZE',\n",
       " 'Bytes0',\n",
       " 'CLIP',\n",
       " 'ComplexWarning',\n",
       " 'DataSource',\n",
       " 'Datetime64',\n",
       " 'ERR_CALL',\n",
       " 'ERR_DEFAULT',\n",
       " 'ERR_IGNORE',\n",
       " 'ERR_LOG',\n",
       " 'ERR_PRINT',\n",
       " 'ERR_RAISE',\n",
       " 'ERR_WARN',\n",
       " 'FLOATING_POINT_SUPPORT',\n",
       " 'FPE_DIVIDEBYZERO',\n",
       " 'FPE_INVALID',\n",
       " 'FPE_OVERFLOW',\n",
       " 'FPE_UNDERFLOW',\n",
       " 'False_',\n",
       " 'Inf',\n",
       " 'Infinity',\n",
       " 'MAXDIMS',\n",
       " 'MAY_SHARE_BOUNDS',\n",
       " 'MAY_SHARE_EXACT',\n",
       " 'MachAr',\n",
       " 'ModuleDeprecationWarning',\n",
       " 'NAN',\n",
       " 'NINF',\n",
       " 'NZERO',\n",
       " 'NaN',\n",
       " 'PINF',\n",
       " 'PZERO',\n",
       " 'RAISE',\n",
       " 'RankWarning',\n",
       " 'SHIFT_DIVIDEBYZERO',\n",
       " 'SHIFT_INVALID',\n",
       " 'SHIFT_OVERFLOW',\n",
       " 'SHIFT_UNDERFLOW',\n",
       " 'ScalarType',\n",
       " 'Str0',\n",
       " 'Tester',\n",
       " 'TooHardError',\n",
       " 'True_',\n",
       " 'UFUNC_BUFSIZE_DEFAULT',\n",
       " 'UFUNC_PYVALS_NAME',\n",
       " 'Uint64',\n",
       " 'VisibleDeprecationWarning',\n",
       " 'WRAP',\n",
       " '_NoValue',\n",
       " '_UFUNC_API',\n",
       " '__NUMPY_SETUP__',\n",
       " '__all__',\n",
       " '__builtins__',\n",
       " '__cached__',\n",
       " '__config__',\n",
       " '__deprecated_attrs__',\n",
       " '__dir__',\n",
       " '__doc__',\n",
       " '__expired_functions__',\n",
       " '__file__',\n",
       " '__getattr__',\n",
       " '__git_version__',\n",
       " '__loader__',\n",
       " '__mkl_version__',\n",
       " '__name__',\n",
       " '__package__',\n",
       " '__path__',\n",
       " '__spec__',\n",
       " '__version__',\n",
       " '_add_newdoc_ufunc',\n",
       " '_distributor_init',\n",
       " '_financial_names',\n",
       " '_globals',\n",
       " '_mat',\n",
       " '_pytesttester',\n",
       " '_version',\n",
       " 'abs',\n",
       " 'absolute',\n",
       " 'add',\n",
       " 'add_docstring',\n",
       " 'add_newdoc',\n",
       " 'add_newdoc_ufunc',\n",
       " 'alen',\n",
       " 'all',\n",
       " 'allclose',\n",
       " 'alltrue',\n",
       " 'amax',\n",
       " 'amin',\n",
       " 'angle',\n",
       " 'any',\n",
       " 'append',\n",
       " 'apply_along_axis',\n",
       " 'apply_over_axes',\n",
       " 'arange',\n",
       " 'arccos',\n",
       " 'arccosh',\n",
       " 'arcsin',\n",
       " 'arcsinh',\n",
       " 'arctan',\n",
       " 'arctan2',\n",
       " 'arctanh',\n",
       " 'argmax',\n",
       " 'argmin',\n",
       " 'argpartition',\n",
       " 'argsort',\n",
       " 'argwhere',\n",
       " 'around',\n",
       " 'array',\n",
       " 'array2string',\n",
       " 'array_equal',\n",
       " 'array_equiv',\n",
       " 'array_repr',\n",
       " 'array_split',\n",
       " 'array_str',\n",
       " 'asanyarray',\n",
       " 'asarray',\n",
       " 'asarray_chkfinite',\n",
       " 'ascontiguousarray',\n",
       " 'asfarray',\n",
       " 'asfortranarray',\n",
       " 'asmatrix',\n",
       " 'asscalar',\n",
       " 'atleast_1d',\n",
       " 'atleast_2d',\n",
       " 'atleast_3d',\n",
       " 'average',\n",
       " 'bartlett',\n",
       " 'base_repr',\n",
       " 'binary_repr',\n",
       " 'bincount',\n",
       " 'bitwise_and',\n",
       " 'bitwise_not',\n",
       " 'bitwise_or',\n",
       " 'bitwise_xor',\n",
       " 'blackman',\n",
       " 'block',\n",
       " 'bmat',\n",
       " 'bool8',\n",
       " 'bool_',\n",
       " 'broadcast',\n",
       " 'broadcast_arrays',\n",
       " 'broadcast_shapes',\n",
       " 'broadcast_to',\n",
       " 'busday_count',\n",
       " 'busday_offset',\n",
       " 'busdaycalendar',\n",
       " 'byte',\n",
       " 'byte_bounds',\n",
       " 'bytes0',\n",
       " 'bytes_',\n",
       " 'c_',\n",
       " 'can_cast',\n",
       " 'cast',\n",
       " 'cbrt',\n",
       " 'cdouble',\n",
       " 'ceil',\n",
       " 'cfloat',\n",
       " 'char',\n",
       " 'character',\n",
       " 'chararray',\n",
       " 'choose',\n",
       " 'clip',\n",
       " 'clongdouble',\n",
       " 'clongfloat',\n",
       " 'column_stack',\n",
       " 'common_type',\n",
       " 'compare_chararrays',\n",
       " 'compat',\n",
       " 'complex128',\n",
       " 'complex64',\n",
       " 'complex_',\n",
       " 'complexfloating',\n",
       " 'compress',\n",
       " 'concatenate',\n",
       " 'conj',\n",
       " 'conjugate',\n",
       " 'convolve',\n",
       " 'copy',\n",
       " 'copysign',\n",
       " 'copyto',\n",
       " 'core',\n",
       " 'corrcoef',\n",
       " 'correlate',\n",
       " 'cos',\n",
       " 'cosh',\n",
       " 'count_nonzero',\n",
       " 'cov',\n",
       " 'cross',\n",
       " 'csingle',\n",
       " 'ctypeslib',\n",
       " 'cumprod',\n",
       " 'cumproduct',\n",
       " 'cumsum',\n",
       " 'datetime64',\n",
       " 'datetime_as_string',\n",
       " 'datetime_data',\n",
       " 'deg2rad',\n",
       " 'degrees',\n",
       " 'delete',\n",
       " 'deprecate',\n",
       " 'deprecate_with_doc',\n",
       " 'diag',\n",
       " 'diag_indices',\n",
       " 'diag_indices_from',\n",
       " 'diagflat',\n",
       " 'diagonal',\n",
       " 'diff',\n",
       " 'digitize',\n",
       " 'disp',\n",
       " 'divide',\n",
       " 'divmod',\n",
       " 'dot',\n",
       " 'double',\n",
       " 'dsplit',\n",
       " 'dstack',\n",
       " 'dtype',\n",
       " 'e',\n",
       " 'ediff1d',\n",
       " 'einsum',\n",
       " 'einsum_path',\n",
       " 'emath',\n",
       " 'empty',\n",
       " 'empty_like',\n",
       " 'equal',\n",
       " 'errstate',\n",
       " 'euler_gamma',\n",
       " 'exp',\n",
       " 'exp2',\n",
       " 'expand_dims',\n",
       " 'expm1',\n",
       " 'extract',\n",
       " 'eye',\n",
       " 'fabs',\n",
       " 'fastCopyAndTranspose',\n",
       " 'fft',\n",
       " 'fill_diagonal',\n",
       " 'find_common_type',\n",
       " 'finfo',\n",
       " 'fix',\n",
       " 'flatiter',\n",
       " 'flatnonzero',\n",
       " 'flexible',\n",
       " 'flip',\n",
       " 'fliplr',\n",
       " 'flipud',\n",
       " 'float16',\n",
       " 'float32',\n",
       " 'float64',\n",
       " 'float_',\n",
       " 'float_power',\n",
       " 'floating',\n",
       " 'floor',\n",
       " 'floor_divide',\n",
       " 'fmax',\n",
       " 'fmin',\n",
       " 'fmod',\n",
       " 'format_float_positional',\n",
       " 'format_float_scientific',\n",
       " 'format_parser',\n",
       " 'frexp',\n",
       " 'frombuffer',\n",
       " 'fromfile',\n",
       " 'fromfunction',\n",
       " 'fromiter',\n",
       " 'frompyfunc',\n",
       " 'fromregex',\n",
       " 'fromstring',\n",
       " 'full',\n",
       " 'full_like',\n",
       " 'gcd',\n",
       " 'generic',\n",
       " 'genfromtxt',\n",
       " 'geomspace',\n",
       " 'get_array_wrap',\n",
       " 'get_include',\n",
       " 'get_printoptions',\n",
       " 'getbufsize',\n",
       " 'geterr',\n",
       " 'geterrcall',\n",
       " 'geterrobj',\n",
       " 'gradient',\n",
       " 'greater',\n",
       " 'greater_equal',\n",
       " 'half',\n",
       " 'hamming',\n",
       " 'hanning',\n",
       " 'heaviside',\n",
       " 'histogram',\n",
       " 'histogram2d',\n",
       " 'histogram_bin_edges',\n",
       " 'histogramdd',\n",
       " 'hsplit',\n",
       " 'hstack',\n",
       " 'hypot',\n",
       " 'i0',\n",
       " 'identity',\n",
       " 'iinfo',\n",
       " 'imag',\n",
       " 'in1d',\n",
       " 'index_exp',\n",
       " 'indices',\n",
       " 'inexact',\n",
       " 'inf',\n",
       " 'info',\n",
       " 'infty',\n",
       " 'inner',\n",
       " 'insert',\n",
       " 'int0',\n",
       " 'int16',\n",
       " 'int32',\n",
       " 'int64',\n",
       " 'int8',\n",
       " 'int_',\n",
       " 'intc',\n",
       " 'integer',\n",
       " 'interp',\n",
       " 'intersect1d',\n",
       " 'intp',\n",
       " 'invert',\n",
       " 'is_busday',\n",
       " 'isclose',\n",
       " 'iscomplex',\n",
       " 'iscomplexobj',\n",
       " 'isfinite',\n",
       " 'isfortran',\n",
       " 'isin',\n",
       " 'isinf',\n",
       " 'isnan',\n",
       " 'isnat',\n",
       " 'isneginf',\n",
       " 'isposinf',\n",
       " 'isreal',\n",
       " 'isrealobj',\n",
       " 'isscalar',\n",
       " 'issctype',\n",
       " 'issubclass_',\n",
       " 'issubdtype',\n",
       " 'issubsctype',\n",
       " 'iterable',\n",
       " 'ix_',\n",
       " 'kaiser',\n",
       " 'kron',\n",
       " 'lcm',\n",
       " 'ldexp',\n",
       " 'left_shift',\n",
       " 'less',\n",
       " 'less_equal',\n",
       " 'lexsort',\n",
       " 'lib',\n",
       " 'linalg',\n",
       " 'linspace',\n",
       " 'little_endian',\n",
       " 'load',\n",
       " 'loads',\n",
       " 'loadtxt',\n",
       " 'log',\n",
       " 'log10',\n",
       " 'log1p',\n",
       " 'log2',\n",
       " 'logaddexp',\n",
       " 'logaddexp2',\n",
       " 'logical_and',\n",
       " 'logical_not',\n",
       " 'logical_or',\n",
       " 'logical_xor',\n",
       " 'logspace',\n",
       " 'longcomplex',\n",
       " 'longdouble',\n",
       " 'longfloat',\n",
       " 'longlong',\n",
       " 'lookfor',\n",
       " 'ma',\n",
       " 'mafromtxt',\n",
       " 'mask_indices',\n",
       " 'mat',\n",
       " 'math',\n",
       " 'matmul',\n",
       " 'matrix',\n",
       " 'matrixlib',\n",
       " 'max',\n",
       " 'maximum',\n",
       " 'maximum_sctype',\n",
       " 'may_share_memory',\n",
       " 'mean',\n",
       " 'median',\n",
       " 'memmap',\n",
       " 'meshgrid',\n",
       " 'mgrid',\n",
       " 'min',\n",
       " 'min_scalar_type',\n",
       " 'minimum',\n",
       " 'mintypecode',\n",
       " 'mkl',\n",
       " 'mod',\n",
       " 'modf',\n",
       " 'moveaxis',\n",
       " 'msort',\n",
       " 'multiply',\n",
       " 'nan',\n",
       " 'nan_to_num',\n",
       " 'nanargmax',\n",
       " 'nanargmin',\n",
       " 'nancumprod',\n",
       " 'nancumsum',\n",
       " 'nanmax',\n",
       " 'nanmean',\n",
       " 'nanmedian',\n",
       " 'nanmin',\n",
       " 'nanpercentile',\n",
       " 'nanprod',\n",
       " 'nanquantile',\n",
       " 'nanstd',\n",
       " 'nansum',\n",
       " 'nanvar',\n",
       " 'nbytes',\n",
       " 'ndarray',\n",
       " 'ndenumerate',\n",
       " 'ndfromtxt',\n",
       " 'ndim',\n",
       " 'ndindex',\n",
       " 'nditer',\n",
       " 'negative',\n",
       " 'nested_iters',\n",
       " 'newaxis',\n",
       " 'nextafter',\n",
       " 'nonzero',\n",
       " 'not_equal',\n",
       " 'numarray',\n",
       " 'number',\n",
       " 'obj2sctype',\n",
       " 'object0',\n",
       " 'object_',\n",
       " 'ogrid',\n",
       " 'oldnumeric',\n",
       " 'ones',\n",
       " 'ones_like',\n",
       " 'os',\n",
       " 'outer',\n",
       " 'packbits',\n",
       " 'pad',\n",
       " 'partition',\n",
       " 'percentile',\n",
       " 'pi',\n",
       " 'piecewise',\n",
       " 'place',\n",
       " 'poly',\n",
       " 'poly1d',\n",
       " 'polyadd',\n",
       " 'polyder',\n",
       " 'polydiv',\n",
       " 'polyfit',\n",
       " 'polyint',\n",
       " 'polymul',\n",
       " 'polynomial',\n",
       " 'polysub',\n",
       " 'polyval',\n",
       " 'positive',\n",
       " 'power',\n",
       " 'printoptions',\n",
       " 'prod',\n",
       " 'product',\n",
       " 'promote_types',\n",
       " 'ptp',\n",
       " 'put',\n",
       " 'put_along_axis',\n",
       " 'putmask',\n",
       " 'quantile',\n",
       " 'r_',\n",
       " 'rad2deg',\n",
       " 'radians',\n",
       " 'random',\n",
       " 'ravel',\n",
       " 'ravel_multi_index',\n",
       " 'real',\n",
       " 'real_if_close',\n",
       " 'rec',\n",
       " 'recarray',\n",
       " 'recfromcsv',\n",
       " 'recfromtxt',\n",
       " 'reciprocal',\n",
       " 'record',\n",
       " 'remainder',\n",
       " 'repeat',\n",
       " 'require',\n",
       " 'reshape',\n",
       " 'resize',\n",
       " 'result_type',\n",
       " 'right_shift',\n",
       " 'rint',\n",
       " 'roll',\n",
       " 'rollaxis',\n",
       " 'roots',\n",
       " 'rot90',\n",
       " 'round',\n",
       " 'round_',\n",
       " 'row_stack',\n",
       " 's_',\n",
       " 'safe_eval',\n",
       " 'save',\n",
       " 'savetxt',\n",
       " 'savez',\n",
       " 'savez_compressed',\n",
       " 'sctype2char',\n",
       " 'sctypeDict',\n",
       " 'sctypes',\n",
       " 'searchsorted',\n",
       " 'select',\n",
       " 'set_numeric_ops',\n",
       " 'set_printoptions',\n",
       " 'set_string_function',\n",
       " 'setbufsize',\n",
       " 'setdiff1d',\n",
       " 'seterr',\n",
       " 'seterrcall',\n",
       " 'seterrobj',\n",
       " 'setxor1d',\n",
       " 'shape',\n",
       " 'shares_memory',\n",
       " 'short',\n",
       " 'show_config',\n",
       " 'sign',\n",
       " 'signbit',\n",
       " 'signedinteger',\n",
       " 'sin',\n",
       " 'sinc',\n",
       " 'single',\n",
       " 'singlecomplex',\n",
       " 'sinh',\n",
       " 'size',\n",
       " 'sometrue',\n",
       " 'sort',\n",
       " 'sort_complex',\n",
       " 'source',\n",
       " 'spacing',\n",
       " 'split',\n",
       " 'sqrt',\n",
       " 'square',\n",
       " 'squeeze',\n",
       " 'stack',\n",
       " 'std',\n",
       " 'str0',\n",
       " 'str_',\n",
       " 'string_',\n",
       " 'subtract',\n",
       " 'sum',\n",
       " 'swapaxes',\n",
       " 'sys',\n",
       " 'take',\n",
       " 'take_along_axis',\n",
       " 'tan',\n",
       " 'tanh',\n",
       " 'tensordot',\n",
       " 'test',\n",
       " 'testing',\n",
       " 'tile',\n",
       " 'timedelta64',\n",
       " 'trace',\n",
       " 'tracemalloc_domain',\n",
       " 'transpose',\n",
       " 'trapz',\n",
       " 'tri',\n",
       " 'tril',\n",
       " 'tril_indices',\n",
       " 'tril_indices_from',\n",
       " 'trim_zeros',\n",
       " 'triu',\n",
       " 'triu_indices',\n",
       " 'triu_indices_from',\n",
       " 'true_divide',\n",
       " 'trunc',\n",
       " 'typecodes',\n",
       " 'typename',\n",
       " 'ubyte',\n",
       " 'ufunc',\n",
       " 'uint',\n",
       " 'uint0',\n",
       " 'uint16',\n",
       " 'uint32',\n",
       " 'uint64',\n",
       " 'uint8',\n",
       " 'uintc',\n",
       " 'uintp',\n",
       " 'ulonglong',\n",
       " 'unicode_',\n",
       " 'union1d',\n",
       " 'unique',\n",
       " 'unpackbits',\n",
       " 'unravel_index',\n",
       " 'unsignedinteger',\n",
       " 'unwrap',\n",
       " 'use_hugepage',\n",
       " 'ushort',\n",
       " 'vander',\n",
       " 'var',\n",
       " 'vdot',\n",
       " 'vectorize',\n",
       " 'version',\n",
       " 'void',\n",
       " 'void0',\n",
       " 'vsplit',\n",
       " 'vstack',\n",
       " 'warnings',\n",
       " 'where',\n",
       " 'who',\n",
       " 'zeros',\n",
       " 'zeros_like']"
      ]
     },
     "execution_count": 246,
     "metadata": {},
     "output_type": "execute_result"
    }
   ],
   "source": [
    "dir(np)"
   ]
  },
  {
   "cell_type": "code",
   "execution_count": 249,
   "id": "6eafdeb4",
   "metadata": {
    "collapsed": true
   },
   "outputs": [
    {
     "name": "stdout",
     "output_type": "stream",
     "text": [
      "Help on ufunc:\n",
      "\n",
      "invert = <ufunc 'invert'>\n",
      "    invert(x, /, out=None, *, where=True, casting='same_kind', order='K', dtype=None, subok=True[, signature, extobj])\n",
      "    \n",
      "    Compute bit-wise inversion, or bit-wise NOT, element-wise.\n",
      "    \n",
      "    Computes the bit-wise NOT of the underlying binary representation of\n",
      "    the integers in the input arrays. This ufunc implements the C/Python\n",
      "    operator ``~``.\n",
      "    \n",
      "    For signed integer inputs, the two's complement is returned.  In a\n",
      "    two's-complement system negative numbers are represented by the two's\n",
      "    complement of the absolute value. This is the most common method of\n",
      "    representing signed integers on computers [1]_. A N-bit\n",
      "    two's-complement system can represent every integer in the range\n",
      "    :math:`-2^{N-1}` to :math:`+2^{N-1}-1`.\n",
      "    \n",
      "    Parameters\n",
      "    ----------\n",
      "    x : array_like\n",
      "        Only integer and boolean types are handled.\n",
      "    out : ndarray, None, or tuple of ndarray and None, optional\n",
      "        A location into which the result is stored. If provided, it must have\n",
      "        a shape that the inputs broadcast to. If not provided or None,\n",
      "        a freshly-allocated array is returned. A tuple (possible only as a\n",
      "        keyword argument) must have length equal to the number of outputs.\n",
      "    where : array_like, optional\n",
      "        This condition is broadcast over the input. At locations where the\n",
      "        condition is True, the `out` array will be set to the ufunc result.\n",
      "        Elsewhere, the `out` array will retain its original value.\n",
      "        Note that if an uninitialized `out` array is created via the default\n",
      "        ``out=None``, locations within it where the condition is False will\n",
      "        remain uninitialized.\n",
      "    **kwargs\n",
      "        For other keyword-only arguments, see the\n",
      "        :ref:`ufunc docs <ufuncs.kwargs>`.\n",
      "    \n",
      "    Returns\n",
      "    -------\n",
      "    out : ndarray or scalar\n",
      "        Result.\n",
      "        This is a scalar if `x` is a scalar.\n",
      "    \n",
      "    See Also\n",
      "    --------\n",
      "    bitwise_and, bitwise_or, bitwise_xor\n",
      "    logical_not\n",
      "    binary_repr :\n",
      "        Return the binary representation of the input number as a string.\n",
      "    \n",
      "    Notes\n",
      "    -----\n",
      "    `bitwise_not` is an alias for `invert`:\n",
      "    \n",
      "    >>> np.bitwise_not is np.invert\n",
      "    True\n",
      "    \n",
      "    References\n",
      "    ----------\n",
      "    .. [1] Wikipedia, \"Two's complement\",\n",
      "        https://en.wikipedia.org/wiki/Two's_complement\n",
      "    \n",
      "    Examples\n",
      "    --------\n",
      "    We've seen that 13 is represented by ``00001101``.\n",
      "    The invert or bit-wise NOT of 13 is then:\n",
      "    \n",
      "    >>> x = np.invert(np.array(13, dtype=np.uint8))\n",
      "    >>> x\n",
      "    242\n",
      "    >>> np.binary_repr(x, width=8)\n",
      "    '11110010'\n",
      "    \n",
      "    The result depends on the bit-width:\n",
      "    \n",
      "    >>> x = np.invert(np.array(13, dtype=np.uint16))\n",
      "    >>> x\n",
      "    65522\n",
      "    >>> np.binary_repr(x, width=16)\n",
      "    '1111111111110010'\n",
      "    \n",
      "    When using signed integer types the result is the two's complement of\n",
      "    the result for the unsigned type:\n",
      "    \n",
      "    >>> np.invert(np.array([13], dtype=np.int8))\n",
      "    array([-14], dtype=int8)\n",
      "    >>> np.binary_repr(-14, width=8)\n",
      "    '11110010'\n",
      "    \n",
      "    Booleans are accepted as well:\n",
      "    \n",
      "    >>> np.invert(np.array([True, False]))\n",
      "    array([False,  True])\n",
      "    \n",
      "    The ``~`` operator can be used as a shorthand for ``np.invert`` on\n",
      "    ndarrays.\n",
      "    \n",
      "    >>> x1 = np.array([True, False])\n",
      "    >>> ~x1\n",
      "    array([False,  True])\n",
      "\n"
     ]
    }
   ],
   "source": [
    "help(np.invert)"
   ]
  },
  {
   "cell_type": "code",
   "execution_count": 250,
   "id": "2d801232",
   "metadata": {
    "collapsed": true
   },
   "outputs": [
    {
     "data": {
      "text/plain": [
       "array([[-245, -202, -401, -403, -212],\n",
       "       [-371, -131, -174, -130, -319],\n",
       "       [-391, -361, -135, -203, -225],\n",
       "       [-401, -391, -149, -292, -428],\n",
       "       [-267, -174, -486, -338, -363]], dtype=int32)"
      ]
     },
     "execution_count": 250,
     "metadata": {},
     "output_type": "execute_result"
    }
   ],
   "source": [
    "np.invert(knew)"
   ]
  },
  {
   "cell_type": "code",
   "execution_count": 251,
   "id": "badaaf4a",
   "metadata": {
    "collapsed": true
   },
   "outputs": [
    {
     "data": {
      "text/plain": [
       "array([[244, 201, 400, 402, 211],\n",
       "       [370, 130, 173, 129, 318],\n",
       "       [390, 360, 134, 202, 224],\n",
       "       [400, 390, 148, 291, 427],\n",
       "       [266, 173, 485, 337, 362]])"
      ]
     },
     "execution_count": 251,
     "metadata": {},
     "output_type": "execute_result"
    }
   ],
   "source": [
    "knew"
   ]
  },
  {
   "cell_type": "code",
   "execution_count": 252,
   "id": "18fe974a",
   "metadata": {
    "collapsed": true
   },
   "outputs": [
    {
     "data": {
      "text/plain": [
       "2980.9579870417283"
      ]
     },
     "execution_count": 252,
     "metadata": {},
     "output_type": "execute_result"
    }
   ],
   "source": [
    "np.exp(8)"
   ]
  },
  {
   "cell_type": "code",
   "execution_count": 253,
   "id": "3c1dc7ab",
   "metadata": {
    "collapsed": true
   },
   "outputs": [
    {
     "data": {
      "text/plain": [
       "array([2980.95798704,   20.08553692,   54.59815003])"
      ]
     },
     "execution_count": 253,
     "metadata": {},
     "output_type": "execute_result"
    }
   ],
   "source": [
    "np.exp([8,3,4])"
   ]
  },
  {
   "cell_type": "code",
   "execution_count": 255,
   "id": "e1e14a9e",
   "metadata": {
    "collapsed": true
   },
   "outputs": [
    {
     "data": {
      "text/plain": [
       "array([[2.68811714e+43, 7.30705998e+43, 1.98626484e+44, 5.39922761e+44,\n",
       "        1.46766223e+45],\n",
       "       [3.98951957e+45, 1.08446386e+46, 2.94787839e+46, 8.01316426e+46,\n",
       "        2.17820388e+47],\n",
       "       [5.92097203e+47, 1.60948707e+48, 4.37503945e+48, 1.18925902e+49,\n",
       "        3.23274119e+49],\n",
       "       [8.78750164e+49, 2.38869060e+50, 6.49313426e+50, 1.76501689e+51,\n",
       "        4.79781333e+51],\n",
       "       [1.30418088e+52, 3.54513118e+52, 9.63666567e+52, 2.61951732e+53,\n",
       "        7.12058633e+53]])"
      ]
     },
     "execution_count": 255,
     "metadata": {},
     "output_type": "execute_result"
    }
   ],
   "source": [
    "np.exp(fml)"
   ]
  },
  {
   "cell_type": "markdown",
   "id": "26debfb2",
   "metadata": {},
   "source": [
    "##### vectorized function\n",
    "- takes a python func that returns the vectorized function which is used to speed up the python code without loop"
   ]
  },
  {
   "cell_type": "code",
   "execution_count": 256,
   "id": "4515fa86",
   "metadata": {},
   "outputs": [],
   "source": [
    "def greater(a,b):\n",
    "    if a>b:\n",
    "        return a\n",
    "    else:return b"
   ]
  },
  {
   "cell_type": "code",
   "execution_count": 259,
   "id": "c9647630",
   "metadata": {
    "collapsed": true
   },
   "outputs": [
    {
     "data": {
      "text/plain": [
       "14"
      ]
     },
     "execution_count": 259,
     "metadata": {},
     "output_type": "execute_result"
    }
   ],
   "source": [
    "greater(14,5)"
   ]
  },
  {
   "cell_type": "code",
   "execution_count": 258,
   "id": "d980af53",
   "metadata": {
    "collapsed": true
   },
   "outputs": [
    {
     "data": {
      "text/plain": [
       "13"
      ]
     },
     "execution_count": 258,
     "metadata": {},
     "output_type": "execute_result"
    }
   ],
   "source": [
    "greater(9,13)"
   ]
  },
  {
   "cell_type": "code",
   "execution_count": 260,
   "id": "4b784266",
   "metadata": {},
   "outputs": [
    {
     "data": {
      "text/plain": [
       "[10, 8, 4]"
      ]
     },
     "execution_count": 260,
     "metadata": {},
     "output_type": "execute_result"
    }
   ],
   "source": [
    "greater([4,5,19],[10,8,4])"
   ]
  },
  {
   "cell_type": "code",
   "execution_count": 263,
   "id": "29a1257e",
   "metadata": {
    "collapsed": true
   },
   "outputs": [
    {
     "data": {
      "text/plain": [
       "array([43, 10, 61, 19])"
      ]
     },
     "execution_count": 263,
     "metadata": {},
     "output_type": "execute_result"
    }
   ],
   "source": [
    "g=np.vectorize(greater)\n",
    "g([43,5,61,19],[9,10,8,4])"
   ]
  },
  {
   "cell_type": "code",
   "execution_count": 267,
   "id": "3bc6411e",
   "metadata": {
    "collapsed": true
   },
   "outputs": [
    {
     "data": {
      "text/plain": [
       "[10, 8, 19]"
      ]
     },
     "execution_count": 267,
     "metadata": {},
     "output_type": "execute_result"
    }
   ],
   "source": [
    "x,y=[4,5,19],[10,8,4]\n",
    "res=[]\n",
    "for a,b in zip(x,y): # multiple iterables\n",
    "    if a>b:\n",
    "        res.append(a)\n",
    "    else:\n",
    "        res.append(b)\n",
    "res"
   ]
  },
  {
   "cell_type": "code",
   "execution_count": 268,
   "id": "cdec8bfc",
   "metadata": {
    "collapsed": true
   },
   "outputs": [
    {
     "ename": "NameError",
     "evalue": "name 'scipy' is not defined",
     "output_type": "error",
     "traceback": [
      "\u001b[1;31m---------------------------------------------------------------------------\u001b[0m",
      "\u001b[1;31mNameError\u001b[0m                                 Traceback (most recent call last)",
      "Input \u001b[1;32mIn [268]\u001b[0m, in \u001b[0;36m<cell line: 1>\u001b[1;34m()\u001b[0m\n\u001b[1;32m----> 1\u001b[0m \u001b[43mscipy\u001b[49m \u001b[38;5;129;01mand\u001b[39;00m matplotlib\n",
      "\u001b[1;31mNameError\u001b[0m: name 'scipy' is not defined"
     ]
    }
   ],
   "source": [
    "scipy and matplotlib"
   ]
  },
  {
   "cell_type": "markdown",
   "id": "68a7a293",
   "metadata": {},
   "source": [
    "##### html\n",
    "- hyper text markup language\n"
   ]
  },
  {
   "cell_type": "markdown",
   "id": "5f2e4504",
   "metadata": {},
   "source": [
    "<video width=\"320\" height=\"240\" controls>\n",
    "  <source src=\"movie.mp4\" type=\"video/mp4\">\n",
    "    <source src=\"movie.ogg\" type=\"video/ogg\">\n",
    "  Your browser does not support the video tag.\n",
    "</video>"
   ]
  },
  {
   "cell_type": "code",
   "execution_count": null,
   "id": "d910364c",
   "metadata": {},
   "outputs": [],
   "source": []
  }
 ],
 "metadata": {
  "kernelspec": {
   "display_name": "Python 3 (ipykernel)",
   "language": "python",
   "name": "python3"
  },
  "language_info": {
   "codemirror_mode": {
    "name": "ipython",
    "version": 3
   },
   "file_extension": ".py",
   "mimetype": "text/x-python",
   "name": "python",
   "nbconvert_exporter": "python",
   "pygments_lexer": "ipython3",
   "version": "3.9.12"
  }
 },
 "nbformat": 4,
 "nbformat_minor": 5
}
