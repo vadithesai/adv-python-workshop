{
 "cells": [
  {
   "cell_type": "code",
   "execution_count": 2,
   "id": "e8b383f7",
   "metadata": {},
   "outputs": [
    {
     "data": {
      "text/plain": [
       "17"
      ]
     },
     "execution_count": 2,
     "metadata": {},
     "output_type": "execute_result"
    }
   ],
   "source": [
    "8+9"
   ]
  },
  {
   "cell_type": "markdown",
   "id": "04815425",
   "metadata": {},
   "source": [
    "### Today Topics\n",
    "- literate programming\n",
    "- jupyter notebook environment\n",
    "- markdown basics"
   ]
  },
  {
   "cell_type": "markdown",
   "id": "d224e3ce",
   "metadata": {},
   "source": [
    "#### Literate Programming\n",
    "- programming along with documentation"
   ]
  },
  {
   "cell_type": "markdown",
   "id": "9cd14914",
   "metadata": {},
   "source": [
    "#### Markdown Basics"
   ]
  },
  {
   "cell_type": "markdown",
   "id": "6344b639",
   "metadata": {},
   "source": [
    "# heading1\n",
    "## heading2\n",
    "### heading3\n",
    "#### heading4\n",
    "###### heading6"
   ]
  },
  {
   "cell_type": "markdown",
   "id": "f681d6b1",
   "metadata": {},
   "source": [
    "#### Font Styling\n",
    "- *italic text* in this sentence\n",
    "- **bold text**\n",
    "- ***bold italic text***\n",
    "* new line\n",
    "* *italic* text"
   ]
  },
  {
   "cell_type": "markdown",
   "id": "f5f0d054",
   "metadata": {},
   "source": [
    "**you can run html code** also"
   ]
  },
  {
   "cell_type": "markdown",
   "id": "673abc64",
   "metadata": {},
   "source": [
    "<p style=\"color:green;\">I am new to programming</p>\n",
    "<h3 style='background-color:green;color:white;'>this is heading3</h3>"
   ]
  },
  {
   "cell_type": "markdown",
   "id": "e03c8e91",
   "metadata": {},
   "source": [
    "### Displaying image"
   ]
  },
  {
   "cell_type": "markdown",
   "id": "8df83dea",
   "metadata": {},
   "source": [
    "<img src=\"lbrc.jpg\">"
   ]
  },
  {
   "cell_type": "markdown",
   "id": "3e0fea5e",
   "metadata": {},
   "source": [
    "<img src=\"lbrc.jpg\" height=100px width=50px>"
   ]
  },
  {
   "cell_type": "markdown",
   "id": "39536352",
   "metadata": {},
   "source": [
    "### Python\n",
    "- It is the general purpose,high level and interpreted programming language\n",
    "    - **General Purpose**\n",
    "        - used for multiple purposes such as scientific computation,system s/w dev,mbl appl'n dev\n",
    "    - High Level\n",
    "        - user understandable language\n",
    "    - Interpreted Language\n",
    "        - Gives the line by line execution\n",
    "- ***features of python***\n",
    "    - easy to learn and simple to code\n",
    "    - is case sensitive and space sensitive\n",
    "    - seems to be english\n",
    "    - dynamically typed and interactive language\n",
    "    - semi-object oriented language\n",
    "- introduced in the year 1991 by Guido Van Russium\n",
    "- **Necessity of Python**\n",
    "    - it's the wide range of applications such as Data Analysis,Aritificial Intelligence,Machine Learning,Web Development,Cloud Computing,Robotics,IOT etc. due to consists of all the modules in built\n",
    "    "
   ]
  },
  {
   "cell_type": "code",
   "execution_count": null,
   "id": "6a4f9f49",
   "metadata": {},
   "outputs": [],
   "source": []
  }
 ],
 "metadata": {
  "kernelspec": {
   "display_name": "Python 3 (ipykernel)",
   "language": "python",
   "name": "python3"
  },
  "language_info": {
   "codemirror_mode": {
    "name": "ipython",
    "version": 3
   },
   "file_extension": ".py",
   "mimetype": "text/x-python",
   "name": "python",
   "nbconvert_exporter": "python",
   "pygments_lexer": "ipython3",
   "version": "3.9.12"
  }
 },
 "nbformat": 4,
 "nbformat_minor": 5
}
