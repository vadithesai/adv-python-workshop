{
 "cells": [
  {
   "cell_type": "markdown",
   "id": "a50273e7",
   "metadata": {},
   "source": [
    "#### Today Concepts\n",
    "- Dictionary\n",
    "- Introduction to Data Science"
   ]
  },
  {
   "cell_type": "markdown",
   "id": "11d5bd63",
   "metadata": {},
   "source": [
    "#### Dictionary\n",
    "- It is paired data structure\n",
    "- represented by {key:value}\n",
    "- dict() is the predefined function\n",
    "    - key\n",
    "        - worked as index\n",
    "        - no 2 keys in the dict are similar\n",
    "        - can be any data type such as int,float,complex and str.\n",
    "    - value\n",
    "        - actual data can be seen\n",
    "        - can be any another data structure like tuple,list,set,dict.\n",
    "         - might be similar to other values\n",
    "- key and value together called as an item\n",
    "- Dictionary entirely dependent on keys\n",
    "        "
   ]
  },
  {
   "cell_type": "code",
   "execution_count": 1,
   "id": "44d643f9",
   "metadata": {
    "collapsed": true
   },
   "outputs": [
    {
     "data": {
      "text/plain": [
       "['__class__',\n",
       " '__class_getitem__',\n",
       " '__contains__',\n",
       " '__delattr__',\n",
       " '__delitem__',\n",
       " '__dir__',\n",
       " '__doc__',\n",
       " '__eq__',\n",
       " '__format__',\n",
       " '__ge__',\n",
       " '__getattribute__',\n",
       " '__getitem__',\n",
       " '__gt__',\n",
       " '__hash__',\n",
       " '__init__',\n",
       " '__init_subclass__',\n",
       " '__ior__',\n",
       " '__iter__',\n",
       " '__le__',\n",
       " '__len__',\n",
       " '__lt__',\n",
       " '__ne__',\n",
       " '__new__',\n",
       " '__or__',\n",
       " '__reduce__',\n",
       " '__reduce_ex__',\n",
       " '__repr__',\n",
       " '__reversed__',\n",
       " '__ror__',\n",
       " '__setattr__',\n",
       " '__setitem__',\n",
       " '__sizeof__',\n",
       " '__str__',\n",
       " '__subclasshook__',\n",
       " 'clear',\n",
       " 'copy',\n",
       " 'fromkeys',\n",
       " 'get',\n",
       " 'items',\n",
       " 'keys',\n",
       " 'pop',\n",
       " 'popitem',\n",
       " 'setdefault',\n",
       " 'update',\n",
       " 'values']"
      ]
     },
     "execution_count": 1,
     "metadata": {},
     "output_type": "execute_result"
    }
   ],
   "source": [
    "dir(dict)"
   ]
  },
  {
   "cell_type": "code",
   "execution_count": 2,
   "id": "050979e6",
   "metadata": {
    "collapsed": true
   },
   "outputs": [
    {
     "name": "stdout",
     "output_type": "stream",
     "text": [
      "{12: 'one', 'name': 'Ruthu', 90.34: 'marks', 'programs': ['python', 'da using python', 'ml']}\n"
     ]
    }
   ],
   "source": [
    "dic={12:'one','name':'Ruthu',90.34:'marks',\n",
    "    'programs':['python','da using python','ml']}\n",
    "print(dic)"
   ]
  },
  {
   "cell_type": "code",
   "execution_count": 3,
   "id": "80bcb9df",
   "metadata": {
    "collapsed": true
   },
   "outputs": [
    {
     "name": "stdout",
     "output_type": "stream",
     "text": [
      "12\n",
      "name\n",
      "90.34\n",
      "programs\n"
     ]
    }
   ],
   "source": [
    "for item in dic:\n",
    "    print(item)"
   ]
  },
  {
   "cell_type": "code",
   "execution_count": 4,
   "id": "27cb77f2",
   "metadata": {},
   "outputs": [
    {
     "data": {
      "text/plain": [
       "dict_keys([12, 'name', 90.34, 'programs'])"
      ]
     },
     "execution_count": 4,
     "metadata": {},
     "output_type": "execute_result"
    }
   ],
   "source": [
    "# keys\n",
    "dic.keys()"
   ]
  },
  {
   "cell_type": "code",
   "execution_count": 5,
   "id": "144d8bf7",
   "metadata": {},
   "outputs": [
    {
     "data": {
      "text/plain": [
       "dict_values(['one', 'Ruthu', 'marks', ['python', 'da using python', 'ml']])"
      ]
     },
     "execution_count": 5,
     "metadata": {},
     "output_type": "execute_result"
    }
   ],
   "source": [
    "# values\n",
    "dic.values()"
   ]
  },
  {
   "cell_type": "code",
   "execution_count": 6,
   "id": "75aaaebb",
   "metadata": {},
   "outputs": [
    {
     "data": {
      "text/plain": [
       "dict_items([(12, 'one'), ('name', 'Ruthu'), (90.34, 'marks'), ('programs', ['python', 'da using python', 'ml'])])"
      ]
     },
     "execution_count": 6,
     "metadata": {},
     "output_type": "execute_result"
    }
   ],
   "source": [
    "dic.items()"
   ]
  },
  {
   "cell_type": "code",
   "execution_count": 18,
   "id": "85afd6bd",
   "metadata": {},
   "outputs": [
    {
     "name": "stdout",
     "output_type": "stream",
     "text": [
      "12=one\n",
      "name=Ruthu\n",
      "90.34=marks\n",
      "programs=['python', 'da using python', 'ml']\n"
     ]
    }
   ],
   "source": [
    "for x,y in dic.items():\n",
    "    print(x,y,sep=\"=\")"
   ]
  },
  {
   "cell_type": "code",
   "execution_count": 11,
   "id": "ffbb04ed",
   "metadata": {},
   "outputs": [
    {
     "name": "stdout",
     "output_type": "stream",
     "text": [
      "(12, 'one'),('name', 'Ruthu'),(90.34, 'marks'),('programs', ['python', 'da using python', 'ml'])\n"
     ]
    }
   ],
   "source": [
    "items=dic.items()\n",
    "print(*items,sep=\",\")"
   ]
  },
  {
   "cell_type": "code",
   "execution_count": 12,
   "id": "d4e2b097",
   "metadata": {},
   "outputs": [
    {
     "data": {
      "text/plain": [
       "dict_items([(12, 'one'), ('name', 'Ruthu'), (90.34, 'marks'), ('programs', ['python', 'da using python', 'ml'])])"
      ]
     },
     "execution_count": 12,
     "metadata": {},
     "output_type": "execute_result"
    }
   ],
   "source": [
    "items"
   ]
  },
  {
   "cell_type": "code",
   "execution_count": 14,
   "id": "04d44be4",
   "metadata": {},
   "outputs": [],
   "source": [
    "nums=[]\n",
    "for num in range(1,11):\n",
    "    nums.append(num)"
   ]
  },
  {
   "cell_type": "code",
   "execution_count": 15,
   "id": "74b6ef46",
   "metadata": {},
   "outputs": [
    {
     "data": {
      "text/plain": [
       "[1, 2, 3, 4, 5, 6, 7, 8, 9, 10]"
      ]
     },
     "execution_count": 15,
     "metadata": {},
     "output_type": "execute_result"
    }
   ],
   "source": [
    "nums"
   ]
  },
  {
   "cell_type": "code",
   "execution_count": 16,
   "id": "5176f8f5",
   "metadata": {},
   "outputs": [
    {
     "name": "stdout",
     "output_type": "stream",
     "text": [
      "1,2,3,4,5,6,7,8,9,10\n"
     ]
    }
   ],
   "source": [
    "print(*nums,sep=\",\") # iteration of list"
   ]
  },
  {
   "cell_type": "code",
   "execution_count": 17,
   "id": "760c5a73",
   "metadata": {
    "collapsed": true
   },
   "outputs": [
    {
     "name": "stdout",
     "output_type": "stream",
     "text": [
      "1,2,3,4,5,6,7,8,9,10,"
     ]
    }
   ],
   "source": [
    "for item in nums:\n",
    "    print(item,end=\",\")"
   ]
  },
  {
   "cell_type": "code",
   "execution_count": 19,
   "id": "221127ee",
   "metadata": {},
   "outputs": [
    {
     "data": {
      "text/plain": [
       "[1, 2, 3, 4, 5, 6, 7, 8, 9, 10]"
      ]
     },
     "execution_count": 19,
     "metadata": {},
     "output_type": "execute_result"
    }
   ],
   "source": [
    "nums"
   ]
  },
  {
   "cell_type": "code",
   "execution_count": 20,
   "id": "d9cd18d1",
   "metadata": {
    "collapsed": true
   },
   "outputs": [
    {
     "data": {
      "text/plain": [
       "1"
      ]
     },
     "execution_count": 20,
     "metadata": {},
     "output_type": "execute_result"
    }
   ],
   "source": [
    "nums[0]"
   ]
  },
  {
   "cell_type": "code",
   "execution_count": 21,
   "id": "5eab1ddb",
   "metadata": {
    "collapsed": true
   },
   "outputs": [
    {
     "data": {
      "text/plain": [
       "['python', 'da using python', 'ml']"
      ]
     },
     "execution_count": 21,
     "metadata": {},
     "output_type": "execute_result"
    }
   ],
   "source": [
    "dic['programs'] # dic[key]"
   ]
  },
  {
   "cell_type": "code",
   "execution_count": 22,
   "id": "d0c43fe0",
   "metadata": {
    "collapsed": true
   },
   "outputs": [
    {
     "data": {
      "text/plain": [
       "['python', 'da using python', 'ml']"
      ]
     },
     "execution_count": 22,
     "metadata": {},
     "output_type": "execute_result"
    }
   ],
   "source": [
    "dic.get('programs')"
   ]
  },
  {
   "cell_type": "code",
   "execution_count": 23,
   "id": "2316f62b",
   "metadata": {},
   "outputs": [],
   "source": [
    "# updation of key\n",
    "dic[90.34]='hi'"
   ]
  },
  {
   "cell_type": "code",
   "execution_count": 24,
   "id": "51774df0",
   "metadata": {
    "collapsed": true
   },
   "outputs": [
    {
     "data": {
      "text/plain": [
       "{12: 'one',\n",
       " 'name': 'Ruthu',\n",
       " 90.34: 'hi',\n",
       " 'programs': ['python', 'da using python', 'ml']}"
      ]
     },
     "execution_count": 24,
     "metadata": {},
     "output_type": "execute_result"
    }
   ],
   "source": [
    "dic"
   ]
  },
  {
   "cell_type": "code",
   "execution_count": 25,
   "id": "6d6ee71d",
   "metadata": {
    "collapsed": true
   },
   "outputs": [
    {
     "name": "stdout",
     "output_type": "stream",
     "text": [
      "{12: 'one', 'name': 'Ruthu', 90.34: 'hi', 'programs': ['python', 'da using python', 'ml'], 'clg': 'LBRCE'}\n"
     ]
    }
   ],
   "source": [
    "# how to add new item to the dict\n",
    "dic['clg']='LBRCE'\n",
    "print(dic)"
   ]
  },
  {
   "cell_type": "code",
   "execution_count": 26,
   "id": "8b7289b8",
   "metadata": {
    "collapsed": true
   },
   "outputs": [
    {
     "data": {
      "text/plain": [
       "'one'"
      ]
     },
     "execution_count": 26,
     "metadata": {},
     "output_type": "execute_result"
    }
   ],
   "source": [
    "dic.pop(12) # specific item"
   ]
  },
  {
   "cell_type": "code",
   "execution_count": 27,
   "id": "e5576e68",
   "metadata": {
    "collapsed": true
   },
   "outputs": [
    {
     "data": {
      "text/plain": [
       "{'name': 'Ruthu',\n",
       " 90.34: 'hi',\n",
       " 'programs': ['python', 'da using python', 'ml'],\n",
       " 'clg': 'LBRCE'}"
      ]
     },
     "execution_count": 27,
     "metadata": {},
     "output_type": "execute_result"
    }
   ],
   "source": [
    "dic"
   ]
  },
  {
   "cell_type": "code",
   "execution_count": 28,
   "id": "f92ab9c4",
   "metadata": {
    "collapsed": true
   },
   "outputs": [
    {
     "data": {
      "text/plain": [
       "('clg', 'LBRCE')"
      ]
     },
     "execution_count": 28,
     "metadata": {},
     "output_type": "execute_result"
    }
   ],
   "source": [
    "dic.popitem()  # last item will be removed"
   ]
  },
  {
   "cell_type": "code",
   "execution_count": 29,
   "id": "336c9655",
   "metadata": {
    "collapsed": true
   },
   "outputs": [
    {
     "data": {
      "text/plain": [
       "{1: 1, 2: 4, 3: 9, 4: 16, 5: 25, 6: 36, 7: 49, 8: 64, 9: 81, 10: 100}"
      ]
     },
     "execution_count": 29,
     "metadata": {},
     "output_type": "execute_result"
    }
   ],
   "source": [
    "sqs={}\n",
    "for num in range(1,11):\n",
    "    sqs[num]=num**2\n",
    "sqs"
   ]
  },
  {
   "cell_type": "code",
   "execution_count": 30,
   "id": "6bd44a23",
   "metadata": {},
   "outputs": [],
   "source": [
    "dic.update(sqs) # element/iterable"
   ]
  },
  {
   "cell_type": "code",
   "execution_count": 31,
   "id": "56ca7ddb",
   "metadata": {
    "collapsed": true
   },
   "outputs": [
    {
     "name": "stdout",
     "output_type": "stream",
     "text": [
      "{'name': 'Ruthu', 90.34: 'hi', 'programs': ['python', 'da using python', 'ml'], 1: 1, 2: 4, 3: 9, 4: 16, 5: 25, 6: 36, 7: 49, 8: 64, 9: 81, 10: 100}\n"
     ]
    }
   ],
   "source": [
    "print(dic)"
   ]
  },
  {
   "cell_type": "code",
   "execution_count": 32,
   "id": "90e64540",
   "metadata": {},
   "outputs": [],
   "source": [
    "dic.update({'new':'data'})"
   ]
  },
  {
   "cell_type": "code",
   "execution_count": 33,
   "id": "9b5fc123",
   "metadata": {
    "collapsed": true
   },
   "outputs": [
    {
     "data": {
      "text/plain": [
       "{'name': 'Ruthu',\n",
       " 90.34: 'hi',\n",
       " 'programs': ['python', 'da using python', 'ml'],\n",
       " 1: 1,\n",
       " 2: 4,\n",
       " 3: 9,\n",
       " 4: 16,\n",
       " 5: 25,\n",
       " 6: 36,\n",
       " 7: 49,\n",
       " 8: 64,\n",
       " 9: 81,\n",
       " 10: 100,\n",
       " 'new': 'data'}"
      ]
     },
     "execution_count": 33,
     "metadata": {},
     "output_type": "execute_result"
    }
   ],
   "source": [
    "dic"
   ]
  },
  {
   "cell_type": "code",
   "execution_count": 36,
   "id": "90ac13d2",
   "metadata": {},
   "outputs": [
    {
     "name": "stdout",
     "output_type": "stream",
     "text": [
      "{'first': None, 'second': None, 'third': None}\n"
     ]
    }
   ],
   "source": [
    "names=['first','second','third']\n",
    "ids=908\n",
    "new=dict.fromkeys(names)\n",
    "print(new) # values=None"
   ]
  },
  {
   "cell_type": "code",
   "execution_count": 38,
   "id": "52befa47",
   "metadata": {
    "collapsed": true
   },
   "outputs": [
    {
     "name": "stdout",
     "output_type": "stream",
     "text": [
      "{'first': 908, 'second': 908, 'third': 908}\n"
     ]
    }
   ],
   "source": [
    "names=['first','second','third']\n",
    "ids=908\n",
    "new=dict.fromkeys(names,ids)\n",
    "print(new)"
   ]
  },
  {
   "cell_type": "code",
   "execution_count": 39,
   "id": "12440e77",
   "metadata": {
    "collapsed": true
   },
   "outputs": [
    {
     "data": {
      "text/plain": [
       "{'name': 'Ruthu',\n",
       " 90.34: 'hi',\n",
       " 'programs': ['python', 'da using python', 'ml'],\n",
       " 1: 1,\n",
       " 2: 4,\n",
       " 3: 9,\n",
       " 4: 16,\n",
       " 5: 25,\n",
       " 6: 36,\n",
       " 7: 49,\n",
       " 8: 64,\n",
       " 9: 81,\n",
       " 10: 100,\n",
       " 'new': 'data'}"
      ]
     },
     "execution_count": 39,
     "metadata": {},
     "output_type": "execute_result"
    }
   ],
   "source": [
    "dic"
   ]
  },
  {
   "cell_type": "code",
   "execution_count": 46,
   "id": "0b352114",
   "metadata": {},
   "outputs": [],
   "source": [
    "dic2=dic.setdefault('I') # assigning new item with key"
   ]
  },
  {
   "cell_type": "code",
   "execution_count": 47,
   "id": "9a485e29",
   "metadata": {},
   "outputs": [
    {
     "name": "stdout",
     "output_type": "stream",
     "text": [
      "None\n"
     ]
    }
   ],
   "source": [
    "print(dic2) # None"
   ]
  },
  {
   "cell_type": "code",
   "execution_count": 48,
   "id": "d53826ad",
   "metadata": {
    "collapsed": true
   },
   "outputs": [
    {
     "data": {
      "text/plain": [
       "{'name': 'Ruthu',\n",
       " 90.34: 'hi',\n",
       " 'programs': ['python', 'da using python', 'ml'],\n",
       " 1: 1,\n",
       " 2: 4,\n",
       " 3: 9,\n",
       " 4: 16,\n",
       " 5: 25,\n",
       " 6: 36,\n",
       " 7: 49,\n",
       " 8: 64,\n",
       " 9: 81,\n",
       " 10: 100,\n",
       " 'new': 'data',\n",
       " 'I': None}"
      ]
     },
     "execution_count": 48,
     "metadata": {},
     "output_type": "execute_result"
    }
   ],
   "source": [
    "dic"
   ]
  },
  {
   "cell_type": "code",
   "execution_count": 61,
   "id": "bd36598c",
   "metadata": {
    "collapsed": true
   },
   "outputs": [
    {
     "name": "stdout",
     "output_type": "stream",
     "text": [
      "None\n"
     ]
    }
   ],
   "source": [
    "dic2=new.setdefault('primary') # None\n",
    "print(dic2) # None"
   ]
  },
  {
   "cell_type": "code",
   "execution_count": 51,
   "id": "b2d9b0d0",
   "metadata": {},
   "outputs": [
    {
     "name": "stdout",
     "output_type": "stream",
     "text": [
      "None\n"
     ]
    }
   ],
   "source": [
    "print(dic)"
   ]
  },
  {
   "cell_type": "code",
   "execution_count": 62,
   "id": "584e49e1",
   "metadata": {
    "collapsed": true
   },
   "outputs": [
    {
     "data": {
      "text/plain": [
       "{'first': 908, 'second': 908, 'third': 908, 'primary': None}"
      ]
     },
     "execution_count": 62,
     "metadata": {},
     "output_type": "execute_result"
    }
   ],
   "source": [
    "new"
   ]
  },
  {
   "cell_type": "code",
   "execution_count": 65,
   "id": "6e712b71",
   "metadata": {
    "collapsed": true
   },
   "outputs": [
    {
     "name": "stdout",
     "output_type": "stream",
     "text": [
      "Lakireddy balireddy college of ENGIneering\n",
      "{'L': 76, 'r': 114, 'd': 100, ' ': 32, 'b': 98, 'l': 108, 'f': 102, 'N': 78, 'n': 110}\n"
     ]
    }
   ],
   "source": [
    "# prepare a dict of chars \n",
    "# whose ascii value is even\n",
    "st=input()\n",
    "chars={}\n",
    "for ch in st:\n",
    "    if ord(ch)%2==0:\n",
    "        chars[ch]=ord(ch)\n",
    "print(chars)"
   ]
  },
  {
   "cell_type": "markdown",
   "id": "d801bf98",
   "metadata": {},
   "source": [
    "#### program to build the menu card application"
   ]
  },
  {
   "cell_type": "code",
   "execution_count": 71,
   "id": "7cffe05e",
   "metadata": {
    "collapsed": true
   },
   "outputs": [
    {
     "name": "stdout",
     "output_type": "stream",
     "text": [
      "Available Items....\n",
      "Chicken Dum Biryani Rs. 50 /-\n",
      "Faluda Rs. 50 /-\n",
      "Gulab Jamun Rs. 50 /-\n",
      "Pizza Rs. 200 /-\n",
      "Burger Rs. 100 /-\n",
      "Mutton Mandi Rs. 300 /-\n",
      "Cool Drink Rs. 25 /-\n",
      "Ice Cream Rs. 20 /-\n",
      "Manchuria Rs. 100 /-\n",
      "Soup Rs. 70 /-\n",
      "Lollipop Rs. 120 /-\n",
      "Palak Paneer Rs. 180 /-\n",
      "place the order:Palak Paneer,Lollipop,manchurai\n",
      "manchurai not available..!\n",
      "your bill= 300\n"
     ]
    }
   ],
   "source": [
    "menu={'Chicken Dum Biryani':50,'Faluda':50,\n",
    "     'Gulab Jamun':50,'Pizza':200,\n",
    "     'Burger':100,'Mutton Mandi':300,\n",
    "     'Cool Drink':25,'Ice Cream':20,\n",
    "     'Manchuria':100}\n",
    "strt={'Soup':70,'Lollipop':120,'Palak Paneer':180}\n",
    "menu.update(strt)\n",
    "print('Available Items....')\n",
    "for item,price in menu.items():\n",
    "    print(item,'Rs.',price,'/-')\n",
    "bill=0\n",
    "order=input(\"place the order:\").split(',')\n",
    "for item in order:\n",
    "    if item in menu:\n",
    "        bill+=menu[item]\n",
    "    else:print(item,'not available..!')\n",
    "print(\"your bill=\",bill)"
   ]
  },
  {
   "cell_type": "code",
   "execution_count": 19,
   "id": "2cb3151d",
   "metadata": {
    "collapsed": true
   },
   "outputs": [
    {
     "name": "stdout",
     "output_type": "stream",
     "text": [
      "jjhhll\n"
     ]
    },
    {
     "data": {
      "text/plain": [
       "'1j2h3l'"
      ]
     },
     "execution_count": 19,
     "metadata": {},
     "output_type": "execute_result"
    }
   ],
   "source": [
    "a=input()\n",
    "cnt=0\n",
    "n=len(a)\n",
    "res=\"\"\n",
    "for ix in range(n):\n",
    "    if a[ix-1]==a[ix]:\n",
    "        cnt+=1\n",
    "        res+=str(cnt)+a[ix]\n",
    "res"
   ]
  },
  {
   "cell_type": "code",
   "execution_count": 16,
   "id": "4818b8bf",
   "metadata": {},
   "outputs": [
    {
     "name": "stdout",
     "output_type": "stream",
     "text": [
      "3b4c5k2a\n",
      "bbbcccckkkkkaa"
     ]
    }
   ],
   "source": [
    "# 3b4c5k2a\n",
    "a=input()\n",
    "for ix in range(len(a)):\n",
    "    if a[ix].isdigit():\n",
    "        print(int(a[ix])*a[ix+1],end=\"\")"
   ]
  },
  {
   "cell_type": "code",
   "execution_count": 13,
   "id": "8fe1f7af",
   "metadata": {},
   "outputs": [
    {
     "data": {
      "text/plain": [
       "'kkk'"
      ]
     },
     "execution_count": 13,
     "metadata": {},
     "output_type": "execute_result"
    }
   ],
   "source": [
    "3*'k'"
   ]
  },
  {
   "cell_type": "code",
   "execution_count": null,
   "id": "4312b424",
   "metadata": {},
   "outputs": [],
   "source": []
  }
 ],
 "metadata": {
  "kernelspec": {
   "display_name": "Python 3 (ipykernel)",
   "language": "python",
   "name": "python3"
  },
  "language_info": {
   "codemirror_mode": {
    "name": "ipython",
    "version": 3
   },
   "file_extension": ".py",
   "mimetype": "text/x-python",
   "name": "python",
   "nbconvert_exporter": "python",
   "pygments_lexer": "ipython3",
   "version": "3.9.12"
  }
 },
 "nbformat": 4,
 "nbformat_minor": 5
}
